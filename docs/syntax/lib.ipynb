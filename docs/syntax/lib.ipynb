{
 "cells": [
  {
   "cell_type": "markdown",
   "id": "b53e4565-ec97-4218-a4f4-c4a7bf09d8fb",
   "metadata": {
    "editable": true,
    "slideshow": {
     "slide_type": ""
    },
    "tags": []
   },
   "source": [
    "# ライブラリ"
   ]
  },
  {
   "cell_type": "markdown",
   "id": "96894eae",
   "metadata": {},
   "source": [
    "```{index} モジュール\n",
    ":name: モジュール\n",
    "```\n",
    "\n",
    "```{index} パッケージ\n",
    ":name: パッケージ\n",
    "```\n",
    "\n",
    "(module)=\n",
    "## モジュール"
   ]
  },
  {
   "cell_type": "markdown",
   "id": "8cd0eed7",
   "metadata": {},
   "source": [
    "**モジュール**（**module**）は、たくさんの関数が詰まったツールボックスのようなものです。Python には多くの便利なモジュールが用意されています。例えば、すでに紹介した数値計算を行う math モジュールや、平均・分散などの統計量を計算する statistics モジュールがあります。これらの既存モジュールを活用することで、ゼロからプログラムを書く手間が省けるだけでなく、計算精度の向上や計算コストの削減も図れます。\n",
    "\n",
    "自作関数とモジュールで用意された関数を比べてみましょう。たとえば、平方根を計算する関数を自作してみよう。"
   ]
  },
  {
   "cell_type": "code",
   "execution_count": null,
   "id": "3db03df1",
   "metadata": {},
   "outputs": [],
   "source": [
    "def sqrt(x):\n",
    "    a = 0\n",
    "    b = x\n",
    "    while abs(a - b) > 1e-15:\n",
    "        m = (a + b) / 2\n",
    "        if m * m > x:\n",
    "            b = m\n",
    "        else:\n",
    "            a = m\n",
    "    return m"
   ]
  },
  {
   "cell_type": "markdown",
   "id": "3adc1b41",
   "metadata": {},
   "source": [
    "この関数で $\\sqrt{2}$ を計算し、実行速度を測定してみます。なお、Jupyter Notebook では、`%time` を使うことで関数の実行時間を計測できます。"
   ]
  },
  {
   "cell_type": "code",
   "execution_count": null,
   "id": "b5a97a32-8593-45bb-814d-30613c701625",
   "metadata": {
    "editable": true,
    "slideshow": {
     "slide_type": ""
    },
    "tags": []
   },
   "outputs": [],
   "source": [
    "%time sqrt(2)"
   ]
  },
  {
   "cell_type": "markdown",
   "id": "c31d84e5",
   "metadata": {},
   "source": [
    "次に、math モジュールの平方根計算関数 `sqrt` を使って同じことを試します。math モジュールを利用するために、`import` 文で math モジュールの機能を読み込みます。続いて、math モジュールにある `sqrt` 関数を利用するために `math.sqrt` のようにモジュール名と関数名の間を `.` 繋ぎます。これで特定のモジュールの中にある関数を利用できるようになります。"
   ]
  },
  {
   "cell_type": "code",
   "execution_count": null,
   "id": "d800cfb2-8ccd-465b-a6f3-059e071bfb5d",
   "metadata": {
    "editable": true,
    "slideshow": {
     "slide_type": ""
    },
    "tags": []
   },
   "outputs": [],
   "source": [
    "import math\n",
    "%time math.sqrt(2)"
   ]
  },
  {
   "cell_type": "markdown",
   "id": "6afeb1a4-7f68-455d-9afd-95e1eb0f8d34",
   "metadata": {
    "editable": true,
    "slideshow": {
     "slide_type": ""
    },
    "tags": []
   },
   "source": [
    "計算結果を比較すると、math モジュールの関数の方が圧倒的に高速で、計算精度も高いことが分かります。Python のモジュールは、効率的なアルゴリズムと最適化されたコードで構成されているため、同じ処理を自作したものよりも性能が高いのです。\n",
    "\n",
    "モジュールを使えば、車輪を再発明せずに済みます。再発明はワクワクかもしれません。でも、メンテナンスで徹夜した翌朝に気づくんです。最初から import しておけばよかったって。"
   ]
  },
  {
   "cell_type": "markdown",
   "id": "827038d6",
   "metadata": {},
   "source": [
    "```{index} ライブラリ\n",
    ":name: ライブラリ\n",
    "```\n",
    "\n",
    "```{index} ひ-標準ライブラリ\n",
    ":name: 標準ライブラリ\n",
    "```\n",
    "\n",
    "```{index} か-外部ライブラリ\n",
    ":name: 外部ライブラリ\n",
    "```\n",
    "\n",
    "\n",
    "(library)=\n",
    "## ライブラリ"
   ]
  },
  {
   "cell_type": "markdown",
   "id": "4aeaa3ee",
   "metadata": {},
   "source": [
    "**ライブラリ**（**library**）は、複数のモジュールをまとめたもので、特定の分野のプログラム開発を助けるツールボックスです。例えば、プログラムを書く上でよく使われている機能を提供する数値計算（math、statistics など）、文字データ処理（string、re、readline など）、日付処理（datetime、zoneinfo など）、ファイル操作（pathlib、glob、shutil など）など多数のモジュールを集めたものを Python の**標準ライブラリ**（**standard library**）とよびます。"
   ]
  },
  {
   "cell_type": "markdown",
   "id": "44484336",
   "metadata": {},
   "source": [
    "Python には標準ライブラリに加えて、**外部ライブラリ**（**external library**）と呼ばれる多数のライブラリが用意されています。これらの多くは、特定の目的を効率的に達成するために開発されたものです。次に紹介するライブラリは、比較的広く認知され、実際に多くの場面で利用されています。\n",
    "\n",
    "\n",
    "| ライブラリ名 | 分類 | 機能 |\n",
    "|--------------|-------|------|\n",
    "| [Statsmodels](https://www.statsmodels.org/) | 統計解析 | 統計モデリングと回帰分析をサポートするライブラリ。 |\n",
    "| [NumPy](https://numpy.org/)                 | 数値計算 | 高速な配列操作や数値計算をサポートするライブラリ。線形代数や統計計算が可能。 |\n",
    "| [SciPy](https://scipy.org/)                 | 科学計算 | 科学技術計算のためのライブラリ。 |\n",
    "| [Pandas](https://pandas.pydata.org/)        | データ分析 | データフレームを使った効率的なデータ操作が可能。 |\n",
    "| [Jupyter](https://jupyter.org/)             | データ分析 | 対話型プログラム環境を提供。データ分析やプレゼンテーションに最適。 |\n",
    "| [Matplotlib](https://matplotlib.org/)       | 可視化 | グラフやプロットを作成するライブラリ。基本的なデータの視覚化が可能。 |\n",
    "| [Seaborn](https://seaborn.pydata.org/)      | 可視化 | `Matplotlib` をベースにした高レベルのデータ可視化ライブラリ。 |\n",
    "| [Plotly](https://plotly.com/)               | 可視化 | インタラクティブなデータ可視化のためのライブラリ。 |\n",
    "| [Bokeh](https://bokeh.org/)                 | 可視化 | インタラクティブなデータ可視化のためのライブラリ。 |\n",
    "| [Flask](https://flask.palletsprojects.com/) | ウェブ | 軽量なウェブフレームワーク。 |\n",
    "| [FastAPI](https://fastapi.tiangolo.com/)    | ウェブ | 高速なウェブ API 構築を支援するフレームワーク。 |\n",
    "| [Django](https://www.djangoproject.com/)    | ウェブ | 大規模なウェブアプリケーション構築に適したフルスタックフレームワーク。 |\n",
    "| [Gunicorn](https://gunicorn.org/)           | ウェブ | Python アプリケーションを実行するための WSGI サーバー。 |\n",
    "| [Requests](https://requests.readthedocs.io/) | ウェブ | ウェブサイトや API と簡単に通信できるライブラリ。 |\n",
    "| [Pillow](https://python-pillow.org/)       | 画像処理 | 画像を簡単に操作するためのライブラリ。 |\n",
    "| [OpenCV](https://opencv.org/)              | 画像処理 | 画像処理用ライブラリ。 |\n",
    "| [Scikit-image](https://scikit-image.org/)  | 画像処理 | 画像処理用ライブラリ。 |\n",
    "| [Scikit-learn](https://scikit-learn.org/)    | 機械学習 | 古典的な機械学習アルゴリズムを簡単に利用できるライブラリ。分類、回帰、クラスタリングに対応。 |\n",
    "| [TensorFlow](https://www.tensorflow.org/)    | 深層学習 | Google が開発した深層学習ライブラリ。 |\n",
    "| [Keras](https://keras.io/)                   | 深層学習 | `TensorFlow` 上に構築された高レベルの深層学習ライブラリ。簡単な記述でモデル構築が可能。 |\n",
    "| [PyTorch](https://pytorch.org/)              | 深層学習 | 深層学習ライブラリ。研究と実装の両方で広く使われる。 |\n"
   ]
  },
  {
   "cell_type": "markdown",
   "id": "cfa21a5b",
   "metadata": {},
   "source": [
    "外部ライブラリは、Python をインストールした直後の状態では利用できません。これらを使用するには、Python をインストールした後に、必要なライブラリを個別にインストールする必要があります。たとえば、NumPy がインストールされていない環境で `import numpy` を実行しようとすると、次のような **ModuleNotFoundError** が発生します。"
   ]
  },
  {
   "cell_type": "code",
   "execution_count": null,
   "id": "b1a200d1-2d9d-4f36-8a69-2c6f5a323b83",
   "metadata": {
    "editable": true,
    "slideshow": {
     "slide_type": ""
    },
    "tags": [
     "remove-cell"
    ]
   },
   "outputs": [],
   "source": [
    "!pip uninstall numpy -y"
   ]
  },
  {
   "cell_type": "code",
   "execution_count": null,
   "id": "ab4b7ed9-61e4-4b66-979c-f0e9f6a04479",
   "metadata": {
    "editable": true,
    "slideshow": {
     "slide_type": ""
    },
    "tags": []
   },
   "outputs": [],
   "source": [
    "import numpy"
   ]
  },
  {
   "cell_type": "markdown",
   "id": "252ecd26",
   "metadata": {},
   "source": [
    "外部ライブラリをインストールする際には、通常、公式ウェブサイトの指示に従い、`pip` などのコマンドを利用します。以下に、NumPy をインストールする例を示します。Jupyter Notebook 上でインストールを行う場合は、`pip` コマンドの前に `!` をつけて実行します。"
   ]
  },
  {
   "cell_type": "code",
   "execution_count": null,
   "id": "890d6311",
   "metadata": {
    "tags": [
     "hide-output"
    ]
   },
   "outputs": [],
   "source": [
    "!pip install numpy"
   ]
  },
  {
   "cell_type": "markdown",
   "id": "addc2a79",
   "metadata": {},
   "source": [
    "Jupyter Notebook を使っていない場合は、Python を起動する前にターミナルで次のように実行します。\n",
    "\n",
    "```python\n",
    "pip install numpy\n",
    "```\n",
    "\n",
    "`pip` コマンドを使えば、必要なライブラリを簡単に追加できます。インストール時にはインターネット接続が必要である点に注意してください。\n",
    "\n",
    "なお、`pip` を使うと、指定されたライブラリが [PyPI](https://pypi.org) からダウンロードされてインストールされます。PyPI には、誰でも制限なくライブラリを登録できるため、悪意あるライブラリが公開されていることもあります。ライブラリをインストールする際には、ライブラリ名のスペルミスに十分注意してください。よく似た名前の別のライブラリを誤ってインストールしてしまうおそれがあります。"
   ]
  },
  {
   "cell_type": "markdown",
   "id": "867f21aa",
   "metadata": {},
   "source": [
    "既存のライブラリをアップグレードする場合は `--upgrade` オプションを添えて、`install` を実行します。"
   ]
  },
  {
   "cell_type": "code",
   "execution_count": null,
   "id": "ff50c7d6",
   "metadata": {
    "tags": [
     "remove-output"
    ]
   },
   "outputs": [],
   "source": [
    "!pip install --upgrade numpy"
   ]
  },
  {
   "cell_type": "markdown",
   "id": "459b99e7",
   "metadata": {},
   "source": [
    "また、インストールしたライブラリを削除する場合は、`uninstall` を実行します。"
   ]
  },
  {
   "cell_type": "code",
   "execution_count": null,
   "id": "94717c31",
   "metadata": {
    "tags": [
     "hide-output"
    ]
   },
   "outputs": [],
   "source": [
    "!pip uninstall --yes numpy"
   ]
  },
  {
   "cell_type": "code",
   "execution_count": null,
   "id": "f7fa3e64",
   "metadata": {
    "tags": [
     "remove-cell"
    ]
   },
   "outputs": [],
   "source": [
    "!pip install numpy"
   ]
  }
 ],
 "metadata": {
  "kernelspec": {
   "display_name": "ebook",
   "language": "python",
   "name": "python3"
  },
  "language_info": {
   "codemirror_mode": {
    "name": "ipython",
    "version": 3
   },
   "file_extension": ".py",
   "mimetype": "text/x-python",
   "name": "python",
   "nbconvert_exporter": "python",
   "pygments_lexer": "ipython3",
   "version": "3.11.4"
  }
 },
 "nbformat": 4,
 "nbformat_minor": 5
}
