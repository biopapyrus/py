{
 "cells": [
  {
   "cell_type": "markdown",
   "id": "8274f3a0-4263-4bb8-98c7-16f43f45a7b1",
   "metadata": {
    "editable": true,
    "slideshow": {
     "slide_type": ""
    },
    "tags": []
   },
   "source": [
    "# 基本文法"
   ]
  },
  {
   "cell_type": "markdown",
   "id": "a972e4a6-e7ae-483a-af6d-3f69ba7c6168",
   "metadata": {
    "editable": true,
    "slideshow": {
     "slide_type": ""
    },
    "tags": []
   },
   "source": [
    "本章では、変数に保存されたデータを分析するための基本的なプログラミング構文を紹介します。中心となるのは、条件分岐と繰り返しの処理です。また、複数の処理をまとめて使いやすくした関数の使い方にも触れていきます。これらの基本構文を身につけることで、簡単な繰り返し計算などを自分で書けるようになります。ちなみに、人間は 1 日 8 時間働きますが、Python のプログラムは寝ません。どんどん仕事を押しつけましょう。"
   ]
  }
 ],
 "metadata": {
  "kernelspec": {
   "display_name": "book",
   "language": "python",
   "name": "python3"
  },
  "language_info": {
   "codemirror_mode": {
    "name": "ipython",
    "version": 3
   },
   "file_extension": ".py",
   "mimetype": "text/x-python",
   "name": "python",
   "nbconvert_exporter": "python",
   "pygments_lexer": "ipython3",
   "version": "3.11.4"
  }
 },
 "nbformat": 4,
 "nbformat_minor": 5
}
