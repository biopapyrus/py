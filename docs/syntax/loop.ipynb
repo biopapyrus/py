{
 "cells": [
  {
   "cell_type": "markdown",
   "id": "f5e7643e-9596-47d9-993d-04388606be05",
   "metadata": {
    "editable": true,
    "slideshow": {
     "slide_type": ""
    },
    "tags": []
   },
   "source": [
    "# 繰り返し構文"
   ]
  },
  {
   "cell_type": "markdown",
   "id": "18f1e98a",
   "metadata": {},
   "source": [
    "世界は繰り返しでできています。太陽が昇り、沈み、また昇る。リスはどんぐりを埋め、忘れ、また埋める。プログラムにも同じく、繰り返しの作業を効率よく処理するための仕組みが必要です。それが繰り返し構文（ループ構文）です。Python には主に 2 種類あり、for と while があります。使い分けると効率的ですが、基本的にはどちらも同じ処理を書くことができます。"
   ]
  },
  {
   "cell_type": "markdown",
   "id": "79cc3827-4607-4859-a839-d850ad27193b",
   "metadata": {
    "editable": true,
    "slideshow": {
     "slide_type": ""
    },
    "tags": []
   },
   "source": [
    "(for)=\n",
    "## for 文"
   ]
  },
  {
   "cell_type": "markdown",
   "id": "bb046f67-8aba-4b8a-834b-a50bcdd32dae",
   "metadata": {
    "editable": true,
    "slideshow": {
     "slide_type": ""
    },
    "tags": []
   },
   "source": [
    "あるリストの要素の合計を計算するプログラムを作ることで、繰り返し処理の基本を見ていきましょう。まず、次のように数値が入ったリストを用意します。"
   ]
  },
  {
   "cell_type": "code",
   "execution_count": null,
   "id": "e688d96f-3200-48a7-9b8e-303295231ff5",
   "metadata": {
    "editable": true,
    "slideshow": {
     "slide_type": ""
    },
    "tags": []
   },
   "outputs": [],
   "source": [
    "x = [2, 3, 1, 5, 10]"
   ]
  },
  {
   "cell_type": "markdown",
   "id": "72d83433-0cb7-4137-be7f-53096c2d3d18",
   "metadata": {
    "editable": true,
    "slideshow": {
     "slide_type": ""
    },
    "tags": []
   },
   "source": [
    "Python にはリストの合計を求めるための便利な関数 `sum` がありますが、ここでは繰り返し構文を使って自分で合計を計算する方法を考えましょう。図のように、変数 `i` を用意し、`i` の値を 0、1、2、…と変えながら、リスト `x` の各要素 `x[i]` を変数 `s` に足していきます。こうすることで、最後にはリストのすべての要素の合計が `s` に入ります。\n",
    "\n",
    "```{figure} ../_static/intro_for_loop.png\n",
    "---\n",
    "name: intro_for_loop\n",
    "width: 90%\n",
    "---\n",
    "for 文を利用してリスト要素の合計を計算する手順。\n",
    "```\n",
    "\n",
    "このように、`i` を順に変化させるには、`for` と `range` 関数を組み合わせて使います。まずは、`for` と `range` の組み合わせだけを使った簡単な例を見てみましょう。"
   ]
  },
  {
   "cell_type": "code",
   "execution_count": null,
   "id": "3ff2ba29",
   "metadata": {},
   "outputs": [],
   "source": [
    "for i in range(5):\n",
    "    print(i)"
   ]
  },
  {
   "cell_type": "markdown",
   "id": "8774f2dd",
   "metadata": {},
   "source": [
    "このプログラムでは、`range(5)` が `0` から `4` までの 5 つの整数を順に生成し、それが変数 `i` に代入されます。そして、`print` 関数によって `i` の値が画面に表示されます。なお、for 文の中では、`print` 関数を利用しない場合、変数の中身が出力されません。\n",
    "\n",
    "これで、`i` が `0`、`1`、`2`、`3`、`4` と変化することが確認できたので、`i` をリストのインデックスとして利用し、`print` の代わりに変数 `s` に `x[i]` の値を順に足していく処理に書き換えてみましょう。"
   ]
  },
  {
   "cell_type": "code",
   "execution_count": null,
   "id": "3b933e4e-0069-445b-979d-517b72466df3",
   "metadata": {
    "editable": true,
    "slideshow": {
     "slide_type": ""
    },
    "tags": []
   },
   "outputs": [],
   "source": [
    "s = 0\n",
    "for i in range(5):\n",
    "    s = s + x[i]\n",
    "\n",
    "s"
   ]
  },
  {
   "cell_type": "markdown",
   "id": "743e01c4",
   "metadata": {},
   "source": [
    "この例では、`range(5)` としてリストの要素数に合わせましたが、リストのサイズが変わるたびに数値を手動で変更するのは手間がかかります。そこで、リストの長さを自動で取得できる `len` 関数を使うと便利です。"
   ]
  },
  {
   "cell_type": "code",
   "execution_count": null,
   "id": "ff00e791",
   "metadata": {},
   "outputs": [],
   "source": [
    "s = 0\n",
    "for i in range(len(x)):\n",
    "    s = s + x[i]\n",
    "\n",
    "s"
   ]
  },
  {
   "cell_type": "markdown",
   "id": "6a2248d6-04ca-4327-970d-7fea9b8931d4",
   "metadata": {
    "editable": true,
    "slideshow": {
     "slide_type": ""
    },
    "tags": []
   },
   "source": [
    "次に、別の視点から for 文の使い方を見ていきましょう。先ほどの例では、`for i in range(5)` と書き、`range(5)` が生成する `0`、`1`、`2`、`3`、`4` を順に変数 `i` に代入し、その `i` を使ってリスト `x` の各要素を取得していました。\n",
    "\n",
    "Python では、リストのインデックスを使わずに、直接リストの各要素を取り出して繰り返し処理を行うこともできます。この場合、`for m in x` と書くと、リスト `x` の要素が順に変数 `m` に代入されます。実際に試してみましょう。"
   ]
  },
  {
   "cell_type": "code",
   "execution_count": null,
   "id": "ab7316f1-ea1d-45d1-ae92-96ca4dbf7ce6",
   "metadata": {
    "editable": true,
    "slideshow": {
     "slide_type": ""
    },
    "tags": []
   },
   "outputs": [],
   "source": [
    "for m in x:\n",
    "    print(m)"
   ]
  },
  {
   "cell_type": "markdown",
   "id": "b5db84b8-13db-4681-a171-97efc0039089",
   "metadata": {
    "editable": true,
    "slideshow": {
     "slide_type": ""
    },
    "tags": []
   },
   "source": [
    "このコードでは、リスト `x` の各要素（`2`、`3`、`1`、`5`、`10`）が順に変数 `m` に代入され、それぞれ `print(m)` によって表示されます。リストの要素の合計を求める場合も、この方法が使えます。次のように書くと、`m` にリスト `x` の各要素が順番に代入され、それらを変数 `s` に足し合わせることで合計を計算できます。"
   ]
  },
  {
   "cell_type": "code",
   "execution_count": null,
   "id": "ecb244d8-7010-44f8-9c1a-ff68646364e8",
   "metadata": {
    "editable": true,
    "slideshow": {
     "slide_type": ""
    },
    "tags": []
   },
   "outputs": [],
   "source": [
    "s = 0\n",
    "\n",
    "for m in x:\n",
    "    s = s + m\n",
    "\n",
    "s"
   ]
  },
  {
   "cell_type": "markdown",
   "id": "50751d29-c58b-4d18-ac14-4364cc3de6cf",
   "metadata": {
    "editable": true,
    "slideshow": {
     "slide_type": ""
    },
    "tags": []
   },
   "source": [
    "このように for 文の使い方には、大きく分けて 2 通りの方法があります。ひとつはリストのインデックスを使う方法で、連続した整数のリストを生成し（`range(len(x))`）、それを使ってリスト `x` の各要素にアクセスする方法です。もうひとつはリストの要素を直接扱う方法で、リスト `x` に対して繰り返し処理を行い、各要素を順に変数に代入して操作します（`for m in x`）。どちらの方法でも、リストの全要素に対して繰り返し処理を行うことができます。\n",
    "\n",
    "次に、for 文を使った少し複雑な計算例として、リストの要素の平均を計算する方法を見てみましょう。平均を求めるには、リストの要素の合計だけでなく、要素の個数も必要になります。そこで、for 文の中で要素の合計と個数を同時に計算する処理を書きます。"
   ]
  },
  {
   "cell_type": "code",
   "execution_count": null,
   "id": "36bd5fa3-0371-4c3c-bd1a-ed5ffb3b6538",
   "metadata": {
    "editable": true,
    "slideshow": {
     "slide_type": ""
    },
    "tags": []
   },
   "outputs": [],
   "source": [
    "x = [2, 4, 6, 8]\n",
    "s = 0\n",
    "n = 0\n",
    "\n",
    "for m in x:\n",
    "    s = s + m\n",
    "    n = n + 1\n",
    "\n",
    "ave = s / n\n",
    "ave"
   ]
  },
  {
   "cell_type": "markdown",
   "id": "8a998748-c100-466d-920a-95991bbc9847",
   "metadata": {
    "editable": true,
    "slideshow": {
     "slide_type": ""
    },
    "tags": []
   },
   "source": [
    "このように for 文の中に必要なだけの処理を追加することも可能です。\n",
    "\n",
    "次に、for 文と if 文を組み合わせた例を見ていきましょう。for 文の中に if 文を入れることで、いわゆる「入れ子構造」を作ることができます。このとき、for 文と if 文のインデントの位置に注意しましょう。正しくインデントしないと、意図した動作にならなかったりエラーになったりします。\n",
    "\n",
    "リストの中から奇数の個数を数えるプログラムを作成してみます。"
   ]
  },
  {
   "cell_type": "code",
   "execution_count": null,
   "id": "73fb46ba-d1d3-4afc-a5bd-f667059ca7da",
   "metadata": {
    "editable": true,
    "slideshow": {
     "slide_type": ""
    },
    "tags": []
   },
   "outputs": [],
   "source": [
    "x = [1, 2, 3, 4, 5, 6, 7, 8, 9]\n",
    "n = 0\n",
    "\n",
    "for m in x:\n",
    "    if m % 2 == 1:\n",
    "        n = n + 1\n",
    "\n",
    "n"
   ]
  },
  {
   "cell_type": "markdown",
   "id": "9b7db746-526b-4006-bd46-6f78926fc255",
   "metadata": {
    "editable": true,
    "slideshow": {
     "slide_type": ""
    },
    "tags": []
   },
   "source": [
    "上の例と同様に、リストの中にある 3 の倍数の個数を数えるプログラムを作ってみましょう。\n",
    "\n",
    "3 の倍数かどうかを判定するときには、「0 より大きい」ことと「3 で割った余りが 0 である」という二つの条件を同時に満たしている必要がある点に注意してください。この条件の書き方は、if 文を二重に重ねて入れ子にしてもよいですし、論理演算子の `and` を使って一つの if 文にまとめても構いません。"
   ]
  },
  {
   "cell_type": "code",
   "execution_count": null,
   "id": "b97063a1",
   "metadata": {},
   "outputs": [],
   "source": [
    "x = [1, 2, 3, 4, 5, 6, 7, 8, 9]\n",
    "n = 0"
   ]
  },
  {
   "cell_type": "code",
   "execution_count": null,
   "id": "0a641f1e-12e8-4b08-9b7b-1ad66534acd4",
   "metadata": {
    "editable": true,
    "slideshow": {
     "slide_type": ""
    },
    "tags": [
     "hide-cell"
    ]
   },
   "outputs": [],
   "source": [
    "n = 0\n",
    "for m in x:\n",
    "    if m > 0:\n",
    "        if m % 3 == 0:\n",
    "            n = n + 1\n",
    "\n",
    "n"
   ]
  },
  {
   "cell_type": "code",
   "execution_count": null,
   "id": "8457bcf0-ac6f-45e2-b261-79ad64e06905",
   "metadata": {
    "editable": true,
    "slideshow": {
     "slide_type": ""
    },
    "tags": [
     "hide-cell"
    ]
   },
   "outputs": [],
   "source": [
    "n = 0\n",
    "for m in x:\n",
    "    if (m > 0) and (m % 3 == 0):\n",
    "        n = n + 1\n",
    "\n",
    "n"
   ]
  },
  {
   "cell_type": "markdown",
   "id": "ea79b7f6",
   "metadata": {},
   "source": [
    "````{admonition} 練習問題 SL-1\n",
    "リスト `x` が与えられたとき、`x` の要素のうち、奇数である要素の和を計算するプログラムを書きなさい。\n",
    "\n",
    "```python\n",
    "x = [1, 2, 3, 4, 5, 6, 7, 8, 9]\n",
    "s = 0\n",
    "\n",
    "\n",
    "print(s)\n",
    "```\n",
    "````\n",
    "\n",
    "\n",
    "````{admonition} 練習問題 SL-2\n",
    "リスト `x` が与えられたとき、`x` の要素のうち、奇数である要素の平均値を計算するプログラムを書きなさい。\n",
    "\n",
    "```python\n",
    "x = [1, 2, 3, 4, 5, 6, 7, 8, 9]\n",
    "ave = 0\n",
    "\n",
    "\n",
    "print(ave)\n",
    "```\n",
    "````\n",
    "\n",
    "\n",
    "\n",
    "````{admonition} 練習問題 SL-3\n",
    "正の整数が与えられたとき、その整数の約数をリストに保存するプログラムを作成してください。例えば 6 が与えられた場合、1, 2, 3, 6 を含むリストが作られます。\n",
    "\n",
    "```python\n",
    "n = 6\n",
    "divisors = []\n",
    "\n",
    "\n",
    "print(divisors)\n",
    "```\n",
    "````\n"
   ]
  },
  {
   "cell_type": "markdown",
   "id": "eef27d27",
   "metadata": {},
   "source": [
    "もう一つの例として、素数の判定プログラムを書いてみましょう。素数とは、1 とその数自身以外で割り切れない整数のことです。ここでは、整数 `n` が与えられたとき、`n` が素数であれば `is_prime` に `True` を、素数でなければ `False` を代入するプログラムを作ってみましょう。\n",
    "\n",
    "考え方として、以下の手順をとります。\n",
    "\n",
    "1. `n` の約数を保存するためのリスト `n_divisors` を作ります。\n",
    "2. `k` を `1` から `n` まで変化させ、次の処理を行います。\n",
    "  1. `n` が `k` で割り切れる場合、`k` を `n_divisors` に追加します。\n",
    "3. `n_divisors` に含まれている数が `1` と `n` だけであれば、`is_prime` に `True` を代入します。"
   ]
  },
  {
   "cell_type": "code",
   "execution_count": null,
   "id": "e4c0eec7",
   "metadata": {
    "tags": [
     "hide-cell"
    ]
   },
   "outputs": [],
   "source": [
    "n = 1123\n",
    "n_divisors = []\n",
    "is_prime = False\n",
    "\n",
    "for k in range(n):\n",
    "    k = k + 1\n",
    "    if n % k == 0:\n",
    "        n_divisors.append(k)\n",
    "\n",
    "if len(n_divisors) == 2:\n",
    "    if (n_divisors[0]) == 1 and (n_divisors[1] == n):\n",
    "        is_prime = True\n",
    "\n",
    "is_prime"
   ]
  },
  {
   "cell_type": "markdown",
   "id": "6cff9b20",
   "metadata": {},
   "source": [
    "ここで使われている `True` と `False` は、Python において特別な意味を持つ値です。プログラムで真偽判定を行うと、その結果は「真（True）」か「偽（False）」のいずれかになります。このように、論理的な真偽を表す値として `True` と `False` が用意されています。"
   ]
  },
  {
   "cell_type": "markdown",
   "id": "36b030b4-b836-4c83-adc6-0e09070c24fa",
   "metadata": {
    "editable": true,
    "slideshow": {
     "slide_type": ""
    },
    "tags": []
   },
   "source": [
    "次に、for 文の入れ子構造を活用して、もう少し複雑なプログラムを書いてみましょう。先ほどの素数判定プログラムを応用し、ある数 `m` 以下のすべての素数を見つけて、それらをリスト `primes` に保存するように修正します。これにより、1 から m までの整数を順に調べ、それぞれが素数かどうかを判定し、素数ならばリストに追加していく処理が実現できます。\n",
    "\n",
    "手順としては、以下のようになります。\n",
    "\n",
    "1. `m` 以下の素数を保存するためのリスト `primes` を作ります。\n",
    "2. `n` を `1` から `m` まで変化させ、次の処理を行います。\n",
    "    1. `n` の約数を保存するためのリスト `n_divisors` を作ります。\n",
    "    2. `k` を `1` から `n` まで変化させ、次の処理を行います。\n",
    "        1. `n` が `k` で割り切れる場合、`k` を `n_divisors` に追加します。\n",
    "    3. `n_divisors` に含まれている数が `1` と `n` だけであれば、`n` を `primes` に追加します。\n",
    "\n",
    "このように、外側の for 文で `n` を `1` から `m` まで繰り返し、各 `n` に対して素数判定を行うことで、`m` 以下のすべての素数を探し出せます。"
   ]
  },
  {
   "cell_type": "code",
   "execution_count": null,
   "id": "ea14ca65-d422-4bd1-a9fc-c33978864003",
   "metadata": {
    "editable": true,
    "slideshow": {
     "slide_type": ""
    },
    "tags": [
     "scroll-output"
    ]
   },
   "outputs": [],
   "source": [
    "m = 100\n",
    "primes = []\n",
    "\n",
    "for n in range(m):\n",
    "    n = n + 1\n",
    "    n_divisors = []\n",
    "    for k in range(n):\n",
    "        k = k + 1\n",
    "        if n % k == 0:\n",
    "            n_divisors.append(k)\n",
    "\n",
    "    if len(n_divisors) == 2:\n",
    "        if (n_divisors[0]) == 1 and (n_divisors[1] == n):\n",
    "            primes.append(k)\n",
    "\n",
    "primes"
   ]
  },
  {
   "cell_type": "markdown",
   "id": "1e41516b",
   "metadata": {},
   "source": [
    "\n",
    "````{admonition} 練習問題 SL-4\n",
    "完全数（perfect number）とは、自分自身を除く正の約数の和が自分自身に等しくなる自然数のことであす。たとえば、\n",
    "\n",
    "- 6 = 1 + 2 + 3\n",
    "- 28 = 1 + 2 + 4 + 7 + 14\n",
    "- 496 = 1 + 2 + 4 + 8 + 16 + 31 + 62 + 124 + 248\n",
    "\n",
    "が完全数です。正の整数が与えられたとき、その整数は完全数かどうかを判定するプログラムを作成してください。\n",
    "\n",
    "```python\n",
    "n = 28\n",
    "is_pn = None\n",
    "\n",
    "\n",
    "print(is_pn)\n",
    "```\n",
    "````\n"
   ]
  },
  {
   "cell_type": "markdown",
   "id": "08b104e4",
   "metadata": {},
   "source": [
    "長さが同じリストを複数同時に for 文で処理したい場合は、`for i in range(len(x))` のように、片方のリストを使ってインデックス `i` を生成し、それを複数のリストに適用することで実現できます。たとえば、次のように書きます。"
   ]
  },
  {
   "cell_type": "code",
   "execution_count": null,
   "id": "6a75fa65",
   "metadata": {},
   "outputs": [],
   "source": [
    "trees = ['kunugi', 'arakashi', 'shirakshi']\n",
    "weights = [5.56, 1.43, 1.68]\n",
    "\n",
    "for i in range(len(trees)):\n",
    "    print(trees[i], weights[i])"
   ]
  },
  {
   "cell_type": "markdown",
   "id": "182422b9",
   "metadata": {},
   "source": [
    "(python-zip)=\n",
    "\n",
    "また、複数のリストの値を一時変数に代入して繰り返し処理を行いたい場合は、`zip` 関数を使います。繰り返し対象のリストを `zip` 関数に渡すと、それぞれのリストから順に 1 要素ずつ取り出してくれます。"
   ]
  },
  {
   "cell_type": "code",
   "execution_count": null,
   "id": "616cc8f4",
   "metadata": {},
   "outputs": [],
   "source": [
    "trees = ['kunugi', 'arakashi', 'shirakshi']\n",
    "weights = [5.56, 1.43, 1.68]\n",
    "\n",
    "for tree, weight in zip(trees, weights):\n",
    "    print(tree, weight)"
   ]
  },
  {
   "cell_type": "markdown",
   "id": "2e927d79",
   "metadata": {},
   "source": [
    "どんぐりを 1 つずつ数えていたリスも、今では for 文で高速集計中。if 文と組み合わせれば、美味しいどんぐりだけを選び出すこともできます。とはいえ、リス本人は「美味しい」の基準がその日の気分で変わることに気づいていません。"
   ]
  },
  {
   "cell_type": "markdown",
   "id": "9e34fe5c-40aa-46cd-bb01-1c3c96f37a2e",
   "metadata": {
    "editable": true,
    "slideshow": {
     "slide_type": ""
    },
    "tags": []
   },
   "source": [
    "(while)=\n",
    "## while 文"
   ]
  },
  {
   "cell_type": "markdown",
   "id": "7a7148d3-e077-40e2-8a5e-2a3cb5eca3e6",
   "metadata": {
    "editable": true,
    "slideshow": {
     "slide_type": ""
    },
    "tags": []
   },
   "source": [
    "繰り返し処理には、for 文のほかに while 文もあります。for 文は、繰り返す回数や範囲があらかじめ決まっている場合に使うのが特徴です。一方で、while 文は、ある条件が成立している間だけ処理を繰り返すという特徴があります。得意とする場面は異なりますが、基本的にはどちらも同じ処理を書くことができるため、初心者は覚えやすい方をまず一つ身につけるとよいでしょう。\n",
    "\n",
    "リストの要素の合計を計算するプログラムを while 文で書いてみましょう。"
   ]
  },
  {
   "cell_type": "code",
   "execution_count": null,
   "id": "ae259d1e-f044-489d-a2a6-cb5c62b72d74",
   "metadata": {
    "editable": true,
    "slideshow": {
     "slide_type": ""
    },
    "tags": []
   },
   "outputs": [],
   "source": [
    "x = [2, 4, 6, 8]\n",
    "s = 0\n",
    "i = 0\n",
    "\n",
    "while i < len(x):\n",
    "    s = s + x[i]\n",
    "    i = i + 1\n",
    "\n",
    "s"
   ]
  },
  {
   "cell_type": "markdown",
   "id": "a799317e",
   "metadata": {},
   "source": [
    "次に、素数判定プログラムも while 文を使って書いてみましょう。"
   ]
  },
  {
   "cell_type": "code",
   "execution_count": null,
   "id": "f4a1ce91",
   "metadata": {},
   "outputs": [],
   "source": [
    "n = 1123\n",
    "n_divisors = []\n",
    "is_prime = False\n",
    "\n",
    "k = 0\n",
    "while k < n:\n",
    "    k = k + 1\n",
    "    if n % k == 0:\n",
    "        n_divisors.append(k)\n",
    "\n",
    "if len(n_divisors) == 2:\n",
    "    if (n_divisors[0]) == 1 and (n_divisors[1] == n):\n",
    "        is_prime = True\n",
    "\n",
    "is_prime"
   ]
  },
  {
   "cell_type": "markdown",
   "id": "91844219-0272-4e32-a493-aa0454e1d7fb",
   "metadata": {
    "editable": true,
    "slideshow": {
     "slide_type": ""
    },
    "tags": []
   },
   "source": [
    "for 文があらかじめ繰り返し範囲を決めているのに対し、while 文は範囲が決まっていません。そのため、毎回条件を判定し、条件が成立している間は処理が続きます。この条件判定が正しくないと、繰り返し処理が永遠に続き、いわゆる「無限ループ」に陥る可能性があるため注意が必要です。たとえば、以下のように `i` の更新を忘れてしまうと、`i` はずっと `0` のままで、`x[0]` が無限に加算されることになり、メモリを大量に消費してシステムに負担がかかります。\n",
    "\n",
    "```python\n",
    "x = [2, 4, 6, 8]\n",
    "s = 0\n",
    "i = 0\n",
    "\n",
    "while i < len(x):\n",
    "    s = s + x[i]\n",
    "\n",
    "s\n",
    "```\n",
    "\n"
   ]
  },
  {
   "cell_type": "markdown",
   "id": "f3d44c7c-f968-4afb-af31-d1a3d3dee696",
   "metadata": {
    "editable": true,
    "slideshow": {
     "slide_type": ""
    },
    "tags": []
   },
   "source": [
    "```{admonition} 練習問題 SL-5\n",
    "`n` が与えられたとき、`n` 以下の最大の素数を探すプログラムを while 文で書きなさい。\n",
    "```\n",
    "\n",
    "````{admonition} 練習問題 SL-6\n",
    "ある池の表面積は 10km<sup>2</sup>（10,000,000m<sup>2</sup>）です。この池に外来植物が生息し始め、初めは池の表面積の 1m<sup>2</sup> を覆っています。この植物が毎日倍増すると仮定して、池全体を覆うまでに要する日数を計算するプログラムを作成してください。\n",
    "\n",
    "\n",
    "```python\n",
    "pond_size = 10000000\n",
    "plant_area = 1\n",
    "n_days = 0\n",
    "\n",
    "\n",
    "print(n_days)\n",
    "```\n",
    "````\n",
    "\n",
    "\n",
    "````{admonition} 練習問題 SL-7\n",
    "複数の要素からリストが与えられたとき、これらの要素を昇順に並べ替えるプログラムを作成してください。なお、`sorted` 関数やリストの `sort` メソッドなどを利用しないこと。\n",
    "\n",
    "\n",
    "```python\n",
    "x = [2, 3, 5, 1, 4]\n",
    "\n",
    "\n",
    "print(x)\n",
    "```\n",
    "````"
   ]
  },
  {
   "cell_type": "markdown",
   "id": "c5ef8ed9",
   "metadata": {},
   "source": [
    "「今日はどんぐりを 5 個埋める！」と決めて作業を始めたリスがいたとすれば、それは for の思考法です。終わりが見えているので、頑張る気力も湧いてきます。「疲れるまでどんぐりを埋めよう」と曖昧な目標で動き出したリスがいたら、それは while の世界。疲れの定義が曖昧なままだと、延々と埋め続ける羽目になります。\n",
    "\n",
    "ちなみにそのリス、冬眠のタイミングを完全に見失ったそうです。\n"
   ]
  },
  {
   "cell_type": "markdown",
   "id": "509c6a81",
   "metadata": {},
   "source": [
    "## break"
   ]
  },
  {
   "cell_type": "markdown",
   "id": "1a9a3622",
   "metadata": {},
   "source": [
    "`n` 以下の最大の素数を求めるには、`n` から 1 に向かって数をひとつずつ減らしながら、それぞれが素数かどうかを調べていく方法が考えられます。このとき、最初に見つかった素数が `n` 以下で最大の素数になります。"
   ]
  },
  {
   "cell_type": "code",
   "execution_count": null,
   "id": "2ce767d3",
   "metadata": {},
   "outputs": [],
   "source": [
    "%%time\n",
    "\n",
    "m = 100\n",
    "max_prime = 0\n",
    "\n",
    "for n in range(m):\n",
    "    n = m - n  # change \"0, 1, 2, ..., m - 1\" to \"m, m - 1, m - 2, ..., 1\"\n",
    "    n_divisors = []\n",
    "    for k in range(n):\n",
    "        k = k + 1\n",
    "        if n % k == 0:\n",
    "            n_divisors.append(k)\n",
    "\n",
    "    if len(n_divisors) == 2:\n",
    "        if (n_divisors[0]) == 1 and (n_divisors[1] == n):\n",
    "            if k > max_prime:\n",
    "                max_prime = k\n",
    "\n",
    "max_prime"
   ]
  },
  {
   "cell_type": "markdown",
   "id": "6af261eb",
   "metadata": {},
   "source": [
    "このプログラムでは、100 から 1 に向かって素数を探しています。しかし、たとえば最大の素数である 97 を見つけた後も、繰り返し処理はそのまま続行され、96、95、…、1 まで無駄な判定処理が行われてしまいます。こうした不要な計算を避けるには、最初に素数を見つけた時点で for 文を終了させるように、`break` を使って処理を途中で打ち切るようにしましょう。"
   ]
  },
  {
   "cell_type": "code",
   "execution_count": null,
   "id": "bbc5e625",
   "metadata": {},
   "outputs": [],
   "source": [
    "%%time\n",
    "\n",
    "m = 100\n",
    "max_prime = 0\n",
    "\n",
    "for n in range(m):\n",
    "    n = m - n\n",
    "    n_divisors = []\n",
    "    for k in range(n):\n",
    "        k = k + 1\n",
    "        if n % k == 0:\n",
    "            n_divisors.append(k)\n",
    "\n",
    "    if len(n_divisors) == 2:\n",
    "        if (n_divisors[0]) == 1 and (n_divisors[1] == n):\n",
    "            if k > max_prime:\n",
    "                max_prime = k\n",
    "                break\n",
    "\n",
    "max_prime"
   ]
  },
  {
   "cell_type": "markdown",
   "id": "5a6e4a44",
   "metadata": {},
   "source": [
    "これで、最大の素数を見つけた時点で計算が停止し、実行時間が大幅に減少することが確認できるでしょう。このように、for 文や while 文に `break` 文を適切に組み合わせることで、無駄な計算処理を削減し、効率的なプログラムを作成できます。"
   ]
  },
  {
   "cell_type": "markdown",
   "id": "963a416f",
   "metadata": {},
   "source": [
    "社会には、上司が帰らない限り帰れないという条件式が永遠に真のまま続く while 文があります。break 条件は最初から抜け落ちていて、しかも誰も修正しようとしません。"
   ]
  }
 ],
 "metadata": {
  "kernelspec": {
   "display_name": "ebook",
   "language": "python",
   "name": "python3"
  },
  "language_info": {
   "codemirror_mode": {
    "name": "ipython",
    "version": 3
   },
   "file_extension": ".py",
   "mimetype": "text/x-python",
   "name": "python",
   "nbconvert_exporter": "python",
   "pygments_lexer": "ipython3",
   "version": "3.11.4"
  }
 },
 "nbformat": 4,
 "nbformat_minor": 5
}
