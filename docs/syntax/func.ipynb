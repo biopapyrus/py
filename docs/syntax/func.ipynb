{
 "cells": [
  {
   "cell_type": "markdown",
   "id": "fe29bc82-8d5b-43c2-bbbe-febe9a752355",
   "metadata": {
    "editable": true,
    "slideshow": {
     "slide_type": ""
    },
    "tags": []
   },
   "source": [
    "```{index} か-関数\n",
    ":name: 関数\n",
    "```\n",
    "\n",
    "\n",
    "(section-function)=\n",
    "# 関数"
   ]
  },
  {
   "cell_type": "markdown",
   "id": "c47ecf47-4f3d-4f0a-aa07-d3ac1b02d249",
   "metadata": {
    "editable": true,
    "slideshow": {
     "slide_type": ""
    },
    "tags": []
   },
   "source": [
    "**関数**（**function**）とは、ある値を入力として受け取り、その値に対して処理を行い、結果を返す仕組みのことです。例えば、これまでに紹介した `len` や `max`、`min` などは、Python に標準で備わっている関数の一例です。同じ処理を何度も繰り返す場合、繰り返し構文を使う方法もありますが、処理がまとまっているなら関数として定義しておくことで、より効率的かつ便利にプログラムを作成できます。\n",
    "\n",
    "\n",
    "```{index} ひ 引数\n",
    ":name: 引数\n",
    "```\n",
    "\n",
    "```{index} く 組み込み関数\n",
    ":name: 組み込み関数\n",
    "```\n",
    "\n",
    "\n",
    "関数に入力される変数のことを**引数**（**argument**）と呼びます。また、Python に標準で用意されている関数は、**組み込み関数**（**intrinsic function**, **built-in function**）といいます。\n",
    "\n",
    "ここでは、繰り返し構文を利用して、クヌギのどんぐりの重さの平均値を計算してみましょう。"
   ]
  },
  {
   "cell_type": "code",
   "execution_count": null,
   "id": "503148ad",
   "metadata": {},
   "outputs": [],
   "source": [
    "kunugi = [5.28, 6.77, 5.42, 6.03, 6.00]"
   ]
  },
  {
   "cell_type": "code",
   "execution_count": null,
   "id": "158d121e-7a64-4ff4-a4fb-324b873c65b2",
   "metadata": {
    "editable": true,
    "slideshow": {
     "slide_type": ""
    },
    "tags": [
     "hide-cell"
    ]
   },
   "outputs": [],
   "source": [
    "s = 0\n",
    "n = 0\n",
    "\n",
    "for m in kunugi:\n",
    "    s = s + m\n",
    "    n = n + 1\n",
    "\n",
    "ave = s / n\n",
    "ave"
   ]
  },
  {
   "cell_type": "markdown",
   "id": "64d2698a-d31d-43cf-a758-c1d4bb6a174d",
   "metadata": {
    "editable": true,
    "slideshow": {
     "slide_type": ""
    },
    "tags": []
   },
   "source": [
    "次に、ミズナラのどんぐりの重さについても、同じように平均値を計算してみましょう。"
   ]
  },
  {
   "cell_type": "code",
   "execution_count": null,
   "id": "a87b7206",
   "metadata": {},
   "outputs": [],
   "source": [
    "mizunara = [2.80, 2.54, 2.28, 2.33, 2.41]"
   ]
  },
  {
   "cell_type": "code",
   "execution_count": null,
   "id": "0d3a26d2-3d7a-4fba-abb4-3cfd00856b87",
   "metadata": {
    "editable": true,
    "slideshow": {
     "slide_type": ""
    },
    "tags": [
     "hide-cell"
    ]
   },
   "outputs": [],
   "source": [
    "s = 0\n",
    "n = 0\n",
    "\n",
    "for m in mizunara:\n",
    "    s = s + m\n",
    "    n = n + 1\n",
    "\n",
    "ave = s / n\n",
    "ave"
   ]
  },
  {
   "cell_type": "markdown",
   "id": "c26a6814-ad5f-45c2-8e3c-74f0a0c94ab4",
   "metadata": {
    "editable": true,
    "slideshow": {
     "slide_type": ""
    },
    "tags": []
   },
   "source": [
    "この 2 例を見ると、クヌギ（`kunugi`）とミズナラ（`mizunara`）のリストが異なるだけで、他の部分のコードはほとんど同じであることがわかります。しかし、リストごとにコードをコピー＆ペーストして使い回す必要があるため、もし元のコードに誤りがあった場合は、そのすべてを修正しなければなりません。\n",
    "\n",
    "そこで、「平均値を計算する」という処理を関数としてまとめてみましょう。この例では、変化するのはリストの名前（`kunugi` や `mizunara`）だけで、それ以外の処理は共通しています。そこで、リストの部分を変数（ここでは `x`）に置き換え、全体を関数として定義します。\n",
    "\n",
    "関数は `def` キーワードを使い、続けて関数名を記述して作成します。関数名は自由に付けられますが、ここでは「平均を計算する」の意味で `calc_avg` と名付けます。そして、計算した平均値を関数の呼び出し元に返すために、`return` 文を使います。\n"
   ]
  },
  {
   "cell_type": "code",
   "execution_count": null,
   "id": "b07445e3-ccf3-4856-98cd-7e14d5ba8eda",
   "metadata": {
    "editable": true,
    "slideshow": {
     "slide_type": ""
    },
    "tags": []
   },
   "outputs": [],
   "source": [
    "def calc_avg(x):\n",
    "    s = 0\n",
    "    n = 0\n",
    "    \n",
    "    for m in x:\n",
    "        s = s + m\n",
    "        n = n + 1\n",
    "\n",
    "    ave = s / n\n",
    "\n",
    "    return ave"
   ]
  },
  {
   "cell_type": "markdown",
   "id": "6bf2dce7-3056-4465-a146-7171b4dbc804",
   "metadata": {
    "editable": true,
    "slideshow": {
     "slide_type": ""
    },
    "tags": []
   },
   "source": [
    "この関数 `calc_avg` は、リスト `x` を受け取り、その平均値を計算して `return` 文で `ave` を返します。この関数を使えば、どんぐりの重さを計算するコードがさらに簡単になります。\n",
    "\n",
    "この関数を使うと、クヌギとミズナラのどんぐりの平均値を次のように計算できます。"
   ]
  },
  {
   "cell_type": "code",
   "execution_count": null,
   "id": "8b22eef6-48c1-4426-bf6b-311704fb9336",
   "metadata": {
    "editable": true,
    "slideshow": {
     "slide_type": ""
    },
    "tags": []
   },
   "outputs": [],
   "source": [
    "kunugi_ave = calc_avg(kunugi)\n",
    "kunugi_ave"
   ]
  },
  {
   "cell_type": "code",
   "execution_count": null,
   "id": "6bf5e144-fd3f-46be-be37-c52939517d3d",
   "metadata": {
    "editable": true,
    "slideshow": {
     "slide_type": ""
    },
    "tags": []
   },
   "outputs": [],
   "source": [
    "mizunara_ave = calc_avg(mizunara)\n",
    "mizunara_ave"
   ]
  },
  {
   "cell_type": "markdown",
   "id": "15291f4d-fd51-42e3-bbc2-136b8a581ee0",
   "metadata": {
    "editable": true,
    "slideshow": {
     "slide_type": ""
    },
    "tags": []
   },
   "source": [
    "このように関数を使うことで、同じ処理を何度も書く必要がなくなり、コードがすっきりと読みやすくなります。また、もし関数 `calc_avg` に誤りが見つかった場合でも、関数の定義部分（`def calc_avg(x)`）を修正するだけで、関数を呼び出しているすべての場所で正しい動作が保証されます。"
   ]
  },
  {
   "cell_type": "markdown",
   "id": "3ef29d26-da94-4c19-afbb-4d24b4d197c8",
   "metadata": {
    "editable": true,
    "slideshow": {
     "slide_type": ""
    },
    "tags": []
   },
   "source": [
    "```{admonition} 練習問題 SF-1\n",
    "リスト `x` が与えられたとき、その最大値と最小値の差を計算して返す関数を作成してください。\n",
    "```"
   ]
  },
  {
   "cell_type": "markdown",
   "id": "46e3cab4-107d-4840-be5f-5285c5f6d3d9",
   "metadata": {
    "editable": true,
    "slideshow": {
     "slide_type": ""
    },
    "tags": []
   },
   "source": [
    "\n",
    "関数は数値以外も返すことができます。例えば、入力した値が、奇数（`odd`）か偶数（`even`）かを判定して返す関数を定義することもできます。"
   ]
  },
  {
   "cell_type": "code",
   "execution_count": null,
   "id": "86e31916-fd13-4d95-b0e4-f78ffe5f30d6",
   "metadata": {
    "editable": true,
    "slideshow": {
     "slide_type": ""
    },
    "tags": []
   },
   "outputs": [],
   "source": [
    "def check_oddeven(n):\n",
    "    ans = None\n",
    "    if n % 2 == 1:\n",
    "        ans = 'odd'\n",
    "    else:\n",
    "        ans = 'even'\n",
    "    return ans"
   ]
  },
  {
   "cell_type": "code",
   "execution_count": null,
   "id": "576da521-e2a8-4812-8063-adae13082b2d",
   "metadata": {
    "editable": true,
    "slideshow": {
     "slide_type": ""
    },
    "tags": []
   },
   "outputs": [],
   "source": [
    "check_oddeven(5)"
   ]
  },
  {
   "cell_type": "code",
   "execution_count": null,
   "id": "ea77751f-ebdd-4252-a04c-fa7abf02cbd4",
   "metadata": {
    "editable": true,
    "slideshow": {
     "slide_type": ""
    },
    "tags": []
   },
   "outputs": [],
   "source": [
    "check_oddeven(6)"
   ]
  },
  {
   "cell_type": "markdown",
   "id": "851ae1e0-b93d-41b8-908c-fcd083f95b2f",
   "metadata": {
    "editable": true,
    "slideshow": {
     "slide_type": ""
    },
    "tags": []
   },
   "source": [
    "同様に、ある値が 3 の倍数かどうかを判定する関数も作成できます。例えば、3 の倍数ならば `True` を、そうでなければ `False` を返すようにするのではれば次のようにします。"
   ]
  },
  {
   "cell_type": "code",
   "execution_count": null,
   "id": "f7792a86-5d9d-4ac5-bf82-7225eed5d9aa",
   "metadata": {
    "editable": true,
    "slideshow": {
     "slide_type": ""
    },
    "tags": []
   },
   "outputs": [],
   "source": [
    "def is_3x(n):\n",
    "    ans = None\n",
    "    if n % 3 == 0:\n",
    "        ans = True\n",
    "    else:\n",
    "        ans = False\n",
    "    return ans"
   ]
  },
  {
   "cell_type": "code",
   "execution_count": null,
   "id": "ccc17922-4774-4525-b232-594640f8ffe7",
   "metadata": {
    "editable": true,
    "slideshow": {
     "slide_type": ""
    },
    "tags": []
   },
   "outputs": [],
   "source": [
    "is_3x(5)"
   ]
  },
  {
   "cell_type": "code",
   "execution_count": null,
   "id": "6b72995c-20c4-4c71-90a6-0ba683cbe6c9",
   "metadata": {
    "editable": true,
    "slideshow": {
     "slide_type": ""
    },
    "tags": []
   },
   "outputs": [],
   "source": [
    "is_3x(6)"
   ]
  },
  {
   "cell_type": "markdown",
   "id": "8be62333-134a-49f7-a066-58265de009ba",
   "metadata": {
    "editable": true,
    "slideshow": {
     "slide_type": ""
    },
    "tags": []
   },
   "source": [
    "`True` または `False` を返す関数と条件構文を組み合わせて利用すると便利です。例えばリスト内で 3 の倍数の個数を数えるときなどに便利です。"
   ]
  },
  {
   "cell_type": "code",
   "execution_count": null,
   "id": "91e05581-ebdf-4e89-ba41-ad1e707de28e",
   "metadata": {
    "editable": true,
    "slideshow": {
     "slide_type": ""
    },
    "tags": []
   },
   "outputs": [],
   "source": [
    "x = [1, 2, 3, 4, 5, 6, 7, 8, 9, 10, 11, 12]\n",
    "n = 0\n",
    "for m in x:\n",
    "    if is_3x(m):\n",
    "        n = n + 1\n",
    "\n",
    "n"
   ]
  },
  {
   "cell_type": "markdown",
   "id": "cf7e7726",
   "metadata": {},
   "source": [
    "このように、関数を使うとコードの再利用性が高まり、プログラムが簡潔で読みやすくなります。また、必要に応じて関数の内部を修正するだけで、関数を使用しているすべての箇所に変更が反映されるため、メンテナンスも容易になります。"
   ]
  },
  {
   "cell_type": "markdown",
   "id": "a4dd221e-5d8c-4d8f-83cf-2f7ee1d897ea",
   "metadata": {
    "editable": true,
    "slideshow": {
     "slide_type": ""
    },
    "tags": []
   },
   "source": [
    "```{admonition} 練習問題 SF-2\n",
    "`n` が与えられたとき、その値が素数であれば `True` を、そうでなければ `False` を返す関数を作成してください。\n",
    "```\n",
    "\n",
    "```{admonition} 練習問題 SF-3\n",
    "第 $n$ 次の貴金属比 $M_{n}$ は次式で表される比のことです。\n",
    "\n",
    "$$\n",
    "1 : \\frac{n + \\sqrt{n^{2} + 4}}{2}\n",
    "$$\n",
    "\n",
    "`n` が与えられたとき、第 `n` 次の貴金属比を出力する関数を作成してください。なお、$n$ に 1、2、3 のときは、それぞれ黄金比（golden ratio）、白銀比（silver ratio）、青銅比（bronze ratio）といいます。\n",
    "```"
   ]
  },
  {
   "cell_type": "markdown",
   "id": "9deaf3a8",
   "metadata": {},
   "source": []
  }
 ],
 "metadata": {
  "kernelspec": {
   "display_name": "book",
   "language": "python",
   "name": "python3"
  },
  "language_info": {
   "codemirror_mode": {
    "name": "ipython",
    "version": 3
   },
   "file_extension": ".py",
   "mimetype": "text/x-python",
   "name": "python",
   "nbconvert_exporter": "python",
   "pygments_lexer": "ipython3",
   "version": "3.11.4"
  }
 },
 "nbformat": 4,
 "nbformat_minor": 5
}
