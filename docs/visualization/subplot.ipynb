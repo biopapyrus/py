{
 "cells": [
  {
   "cell_type": "code",
   "execution_count": null,
   "id": "44fd7595",
   "metadata": {
    "tags": [
     "remove-cell"
    ]
   },
   "outputs": [],
   "source": [
    "import os\n",
    "import sys\n",
    "sys.path.append(os.path.abspath('..'))\n",
    "from config import *\n",
    "\n",
    "!cp ../data/acorns.clean.csv ."
   ]
  },
  {
   "cell_type": "markdown",
   "id": "79d8e031-d54a-4565-baef-fb9f34ceeb93",
   "metadata": {
    "editable": true,
    "slideshow": {
     "slide_type": ""
    },
    "tags": []
   },
   "source": [
    "# サブプロット"
   ]
  },
  {
   "cell_type": "markdown",
   "id": "ebdf7aeb-1a83-4942-98ef-0efa7de5cb8c",
   "metadata": {
    "editable": true,
    "slideshow": {
     "slide_type": ""
    },
    "tags": []
   },
   "source": [
    "論文などでよく見かける図の中には、複数のグラフがひとつの図として並べられているものが多くあります。こうした図は、Matplotlib のサブプロット機能を使うことで作成できます。本節は、この機能を使って、一枚の図に複数のグラフを描く方法を紹介します。とはいえ実際の現場では、個別にグラフを作ってパワーポイントに貼り付け、手作業でレイアウト調整するほうが、素早く柔軟に仕上がることも少なくありません。技術力で並べるより、根性で揃えるほうが効率的。"
   ]
  },
  {
   "cell_type": "markdown",
   "id": "ff26c613",
   "metadata": {},
   "source": [
    "## subplot"
   ]
  },
  {
   "cell_type": "markdown",
   "id": "32523a24",
   "metadata": {},
   "source": [
    "これまで見てきたように、グラフを描く際には `fig.add_subplot` 関数を使って描画領域（座標軸オブジェクト）を取得し、その上にグラフを描いてきました。この関数にはオプションを指定することができ、それによって 1 つの描画デバイス（図）上に複数のサブ描画領域（サブプロット）を配置することが可能になります。これにより、複数のグラフを 1 つの図にまとめて表示することができます。\n",
    "\n",
    "まずは簡単な例として、1 つの図にグラフを横に 3 つ並べて描画する方法を見てみましょう。この場合、描画デバイス（図）を 1 行 3 列に分割し、それぞれの領域にグラフを配置します。たとえば、最初のグラフを左端の領域に描くには、`fig.add_subplot(1, 3, 1)` と記述します。ここで、最初の 2 つの数字は「行数」と「列数」、3 つ目の数字は「その中で何番目の領域か」を示しています。以降のサブプロットも同様に、3 番目の引数を変更することで、描画位置を指定することができます。"
   ]
  },
  {
   "cell_type": "code",
   "execution_count": null,
   "id": "84807f76-febf-4405-9d9e-f96fb2b9026f",
   "metadata": {},
   "outputs": [],
   "source": [
    "acorn_data = pd.read_csv('acorns.clean.csv')\n",
    "\n",
    "shirakashi_weight = acorn_data['weight'][acorn_data['tree'] == 'shirakashi']\n",
    "arakashi_weight = acorn_data['weight'][acorn_data['tree'] == 'arakashi']\n",
    "matebashii_weight = acorn_data['weight'][acorn_data['tree'] == 'matebashii']\n",
    "\n",
    "\n",
    "fig = plt.figure()\n",
    "\n",
    "# left\n",
    "ax1 = fig.add_subplot(1, 3, 1)\n",
    "ax1.hist(shirakashi_weight)\n",
    "\n",
    "# middle\n",
    "ax2 = fig.add_subplot(1, 3, 2)\n",
    "ax2.hist(arakashi_weight)\n",
    "\n",
    "# right\n",
    "ax3  = fig.add_subplot(1, 3, 3)\n",
    "ax3.hist(matebashii_weight)\n",
    "\n",
    "plt.tight_layout()\n",
    "plt.show()"
   ]
  },
  {
   "cell_type": "markdown",
   "id": "c4689b1d",
   "metadata": {},
   "source": [
    "このように、分割されたサブプロット領域には自動で 1 から順に番号が割り振られます。どの領域にグラフを描くかはその番号で指定できます。なお、`plt.tight_layout` を実行すれば、グラフ間の間隔が自動的に調整され、見やすいレイアウトになります。\n",
    "\n",
    "3 つのグラフを縦に並べる例を見てみましょう。この場合は、描画領域を 3 行 1 列に分割することになるため、`fig.add_subplot(3, 1, ...)` のように指定します。"
   ]
  },
  {
   "cell_type": "code",
   "execution_count": null,
   "id": "8d7338a5-17a8-4a21-9f43-d77eee2cbe48",
   "metadata": {},
   "outputs": [],
   "source": [
    "fig = plt.figure()\n",
    "\n",
    "# left\n",
    "ax1 = fig.add_subplot(3, 1, 1)\n",
    "ax1.hist(shirakashi_weight)\n",
    "\n",
    "# middle\n",
    "ax2 = fig.add_subplot(3, 1, 2)\n",
    "ax2.hist(arakashi_weight)\n",
    "\n",
    "# right\n",
    "ax3  = fig.add_subplot(3, 1, 3)\n",
    "ax3.hist(matebashii_weight)\n",
    "\n",
    "plt.tight_layout()\n",
    "plt.show()"
   ]
  },
  {
   "cell_type": "markdown",
   "id": "333bfd35",
   "metadata": {},
   "source": [
    "次に、描画デバイスを 2 行 2 列に等分割し、グラフを 4 つ描き入れる例を見ていきましょう。サブプロットの番号は左から右、上から下へ順番に割り当てられます。"
   ]
  },
  {
   "cell_type": "code",
   "execution_count": null,
   "id": "02e604eb-c96f-4b3d-917a-38352e92ec0a",
   "metadata": {
    "editable": true,
    "slideshow": {
     "slide_type": ""
    },
    "tags": []
   },
   "outputs": [],
   "source": [
    "acorn_data = pd.read_csv('acorns.clean.csv')\n",
    "\n",
    "shirakashi_weight = acorn_data['weight'][acorn_data['tree'] == 'shirakashi']\n",
    "arakashi_weight = acorn_data['weight'][acorn_data['tree'] == 'arakashi']\n",
    "matebashii_weight = acorn_data['weight'][acorn_data['tree'] == 'matebashii']\n",
    "kunugi_weight = acorn_data['weight'][acorn_data['tree'] == 'kunugi']\n",
    "\n",
    "\n",
    "fig = plt.figure()\n",
    "\n",
    "# top left\n",
    "ax1 = fig.add_subplot(2, 2, 1)\n",
    "ax1.hist(shirakashi_weight)\n",
    "\n",
    "# top right\n",
    "ax2 = fig.add_subplot(2, 2, 2)\n",
    "ax2.hist(arakashi_weight)\n",
    "\n",
    "# bottom left\n",
    "ax3 = fig.add_subplot(2, 2, 3)\n",
    "ax3.hist(matebashii_weight)\n",
    "\n",
    "# bottom right\n",
    "ax4 = fig.add_subplot(2, 2, 4)\n",
    "ax4.hist(kunugi_weight)\n",
    "\n",
    "\n",
    "plt.tight_layout()\n",
    "plt.show()"
   ]
  },
  {
   "cell_type": "markdown",
   "id": "4a2b876e",
   "metadata": {},
   "source": [
    "さらに応用的な例として、描画デバイスをまず 1 行 2 列に分割し、左側に散布図、右側には 3 つのヒストグラムを縦に並べるレイアウトを考えてみましょう。\n",
    "\n",
    "このとき、左側のサブ描画領域は `fig.add_subplot(1, 2, 1)` で取得します。一方、右側の領域をさらに 3 行 1 列に分割する場合、描画デバイス全体を 3 行 2 列とみなして、それぞれ右側の位置を指定することで実現できます。\n",
    "\n",
    "\n",
    "```{figure} ../_static/matplotlib_subplot.png\n",
    "---\n",
    "name: fig__matplotlib_subplot\n",
    "width: 70%\n",
    "---\n",
    "Maptplotlib で描画デバイスを分割する例。\n",
    "```\n",
    "\n",
    "では、実際のコードを見てみましょう。"
   ]
  },
  {
   "cell_type": "code",
   "execution_count": null,
   "id": "d9417ec5",
   "metadata": {},
   "outputs": [],
   "source": [
    "acorn_data = pd.read_csv('acorns.clean.csv')\n",
    "shirakashi = acorn_data[acorn_data['tree'] == 'shirakashi']\n",
    "\n",
    "fig = plt.figure()\n",
    "\n",
    "ax1 = fig.add_subplot(1, 2, 1)\n",
    "ax1.scatter(shirakashi['height'], shirakashi['weight'])\n",
    "ax1.set_xlabel('height')\n",
    "ax1.set_ylabel('weight')\n",
    "\n",
    "ax2 = fig.add_subplot(3, 2, 2)\n",
    "ax2.hist(shirakashi['height'])\n",
    "ax2.set_title('height')\n",
    "\n",
    "ax3 = fig.add_subplot(3, 2, 4)\n",
    "ax3.hist(shirakashi['weight'])\n",
    "ax3.set_title('weight')\n",
    "\n",
    "ax4 = fig.add_subplot(3, 2, 6)\n",
    "ax4.hist(shirakashi['diameter'])\n",
    "ax4.set_title('diameter')\n",
    "\n",
    "plt.tight_layout()\n",
    "plt.show()"
   ]
  },
  {
   "cell_type": "markdown",
   "id": "03f974de",
   "metadata": {},
   "source": [
    "このように、`fig.add_subplot` に与える引数を適切に調整することで、さまざまな形式で描画領域を分割し、複数のグラフを一つの図にまとめることができます。"
   ]
  },
  {
   "cell_type": "markdown",
   "id": "25239a35",
   "metadata": {},
   "source": [
    "## gridspec"
   ]
  },
  {
   "cell_type": "markdown",
   "id": "88985ced-ad07-4a90-b912-b53e1796af97",
   "metadata": {},
   "source": [
    "`fig.add_gridspec` 関数を使うと、描画デバイスの分割をより直感的に操作できます。考え方として、まず描画デバイスを指定された行数と列数で等分割し、その後、各グリッド領域をインデックスで指定してグラフを描くというものです。このとき、隣接する複数のグリッド領域を結合して 1 つの広い描画領域として使用することもできます。グリッド領域の指定には、リストや二次元配列のようにインデックスやスライスを使うことができます。\n",
    "\n",
    "例えば次のように描画デバイスを格子状に分割し、いくつかのグリッド領域を組み合わせて座標軸を作成することで、複雑なレイアウトのグラフを描くことができます。\n",
    "\n",
    "```{figure} ../_static/matplotlib_gridspec.png\n",
    "---\n",
    "name: fig__matplotlib_gridspec\n",
    "width: 70%\n",
    "---\n",
    "Matplotlib の GridSpec モジュールで描画デバイス分割して、複数のグラフを描く例。\n",
    "```\n",
    "\n",
    "実際のコードは次のようになります。"
   ]
  },
  {
   "cell_type": "code",
   "execution_count": null,
   "id": "776e2f7c-f85d-422d-974e-45bfb1289945",
   "metadata": {},
   "outputs": [],
   "source": [
    "acorn_data = pd.read_csv('acorns.clean.csv')\n",
    "shirakashi = acorn_data[acorn_data['tree'] == 'shirakashi']\n",
    "arakashi = acorn_data[acorn_data['tree'] == 'arakashi']\n",
    "matebashii = acorn_data[acorn_data['tree'] == 'matebashii']\n",
    "kunugi = acorn_data[acorn_data['tree'] == 'kunugi']\n",
    "\n",
    "\n",
    "fig = plt.figure()\n",
    "gs = fig.add_gridspec(3, 4)\n",
    "\n",
    "ax1 = fig.add_subplot(gs[0, 0:3])\n",
    "ax1.hist(shirakashi['weight'])\n",
    "ax1.set_title('shirakashi weight')\n",
    "\n",
    "ax2 = fig.add_subplot(gs[0, 3])\n",
    "ax2.hist(shirakashi['height'])\n",
    "ax2.set_title('shirakashi height')\n",
    "\n",
    "ax3 = fig.add_subplot(gs[1:3, 0])\n",
    "ax3.scatter(arakashi['height'], arakashi['weight'])\n",
    "ax3.set_label('height')\n",
    "ax3.set_ylabel('weight')\n",
    "ax3.set_title('arakashi')\n",
    "\n",
    "ax4 = fig.add_subplot(gs[1, 1:3])\n",
    "ax4.hist(matebashii['weight'])\n",
    "ax4.set_title('matebashii weight')\n",
    "\n",
    "ax5 = fig.add_subplot(gs[2, 1:3])\n",
    "ax5.hist(kunugi['weight'])\n",
    "ax5.set_title('kunugi weight')\n",
    "\n",
    "ax6 = fig.add_subplot(gs[1:3, 3])\n",
    "ax6.scatter(kunugi['height'], kunugi['weight'])\n",
    "ax6.set_label('height')\n",
    "ax6.set_ylabel('weight')\n",
    "ax6.set_title('kunugi')\n",
    "\n",
    "plt.tight_layout()\n",
    "plt.show()"
   ]
  },
  {
   "cell_type": "markdown",
   "id": "3ac306a2",
   "metadata": {},
   "source": [
    "サブプロット機能を使えば、複数のグラフを一つの図に描き入れることができます。しかし、グラフのタイトルや座標軸のラベル位置、フォントサイズ、余白などを調整するのは難しいです。プログラミング言語で理想を追うのは構わないが、レポート本文を書き終えてからにしましょう。ちなみに筆者はというと、R で作図してパワーポイントで仕上げています。R の方がきれいに仕上がります。見栄え重視なもので。"
   ]
  },
  {
   "cell_type": "code",
   "execution_count": null,
   "id": "d0b31eca",
   "metadata": {
    "tags": [
     "remove-cell"
    ]
   },
   "outputs": [],
   "source": [
    "!rm acorns.clean.csv"
   ]
  }
 ],
 "metadata": {
  "kernelspec": {
   "display_name": "ebook",
   "language": "python",
   "name": "python3"
  },
  "language_info": {
   "codemirror_mode": {
    "name": "ipython",
    "version": 3
   },
   "file_extension": ".py",
   "mimetype": "text/x-python",
   "name": "python",
   "nbconvert_exporter": "python",
   "pygments_lexer": "ipython3",
   "version": "3.11.4"
  }
 },
 "nbformat": 4,
 "nbformat_minor": 5
}
