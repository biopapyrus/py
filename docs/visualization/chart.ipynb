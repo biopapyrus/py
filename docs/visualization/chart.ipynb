{
 "cells": [
  {
   "cell_type": "code",
   "execution_count": null,
   "id": "44fd7595",
   "metadata": {
    "tags": [
     "remove-cell"
    ]
   },
   "outputs": [],
   "source": [
    "import os\n",
    "import sys\n",
    "sys.path.append(os.path.abspath('..'))\n",
    "from config import *\n",
    "\n",
    "!cp ../data/acorns.clean.csv .\n",
    "!cp ../data/cinsueta_exp.csv ."
   ]
  },
  {
   "cell_type": "markdown",
   "id": "dbfac003-7201-4d4d-9d78-195d31219a0c",
   "metadata": {
    "editable": true,
    "slideshow": {
     "slide_type": ""
    },
    "tags": []
   },
   "source": [
    "# 基本グラフ"
   ]
  },
  {
   "cell_type": "markdown",
   "id": "5c60c5a4",
   "metadata": {},
   "source": [
    "本節では、Maptlolib を利用して折れ線グラフ、棒グラフ、ヒストグラム、散布図、箱ひげ図などの基本的なグラフを描く方法を紹介します。\n",
    "\n",
    "グラフの可視化に使用するデータセットについて、ここで紹介します。まず、どんぐりのデータセット（acorns.clean.csv）には、さまざまな種類のどんぐり（樹種）に関する情報が記録されています。各サンプルについて、樹種（tree）、重さ（weight）、高さ（height）、直径（diameter）のデータが記録されています。"
   ]
  },
  {
   "cell_type": "code",
   "execution_count": null,
   "id": "f0eba2f8",
   "metadata": {},
   "outputs": [],
   "source": [
    "# !wget https://py.biopapyrus.jp/data/acorns.clean.csv\n",
    "acorn_data = pd.read_csv('acorns.clean.csv')\n",
    "acorn_data.head()"
   ]
  },
  {
   "cell_type": "markdown",
   "id": "55dc2a0d",
   "metadata": {},
   "source": [
    "次に、遺伝子発現量データ（cinsueta_exp.csv）は、タネツケバナの一種である _Cardamine insueta_ の葉を水面に浮かべたあと、経過時間（0〜96時間）ごとの遺伝子発現量の変化を測定したデータです。"
   ]
  },
  {
   "cell_type": "code",
   "execution_count": null,
   "id": "4d1877af",
   "metadata": {},
   "outputs": [],
   "source": [
    "# !wget https://py.biopapyrus.jp/data/cinsueta_exp.csv\n",
    "exp_data = pd.read_csv('cinsueta_exp.csv', index_col=0)\n",
    "exp_data.head()"
   ]
  },
  {
   "cell_type": "markdown",
   "id": "60731e22-95de-4bf6-8946-48f54505ca64",
   "metadata": {},
   "source": [
    "## 散布図"
   ]
  },
  {
   "attachments": {},
   "cell_type": "markdown",
   "id": "1151fce5-d142-41c8-aa33-2c7887b7c23b",
   "metadata": {},
   "source": [
    "散布図は二つの連続値データ同士の関係性を図示するグラフである。データの範囲が大きい場合は、縦軸、横軸または両方を対数化して描くことで、二つの変数の関係性が見やすくなることがあります。対数化は、自然対数 log<sub>e</sub> や常用対数 log<sub>10</sub> のどちらを使ってもよいが、log<sub>10</sub> を利用することで、実際の数値の桁数が反映されているため、生物や農学の分野でよく使われます。また、生物学において、遺伝子発現量などで倍増などのように 2 の倍数に着目する場合、log<sub>2</sub> もよく利用されています。\n",
    "\n",
    "散布図は `scatter` メソッドを利用して描きます。引数として、横軸と縦軸の座標を与えます。たとえば、どんぐりのデータセットを読み込み、どんぐりの高さと重さの関係を可視化してみましょう。"
   ]
  },
  {
   "cell_type": "code",
   "execution_count": null,
   "id": "c8482255",
   "metadata": {},
   "outputs": [],
   "source": [
    "x = acorn_data['height']\n",
    "y = acorn_data['weight']\n",
    "\n",
    "fig = plt.figure()\n",
    "ax = fig.add_subplot()\n",
    "ax.scatter(x, y)\n",
    "ax.set_xlabel('height [cm]')\n",
    "ax.set_ylabel('weight [g]')\n",
    "plt.show()"
   ]
  },
  {
   "cell_type": "markdown",
   "id": "9ee98898",
   "metadata": {},
   "source": [
    "この例では、実際に散布図を描画しているのは `ax.scatter` の部分です。それ以前のコードは、描画デバイスや座標軸などのオブジェクトを準備している段階にあたります。また、`ax.set_xlabel` と `ax.set_ylabel` は、それぞれ横軸と縦軸のラベルを設定するために用いられています。"
   ]
  },
  {
   "cell_type": "markdown",
   "id": "66fffd40",
   "metadata": {},
   "source": [
    "どんぐりのデータセットには、重さや高さだけでなく、どの木から落ちたかを示す tree 列も含まれています。そこで、散布図において、木の種類ごとに点の色を変えて表示してみましょう。\n",
    "\n",
    "`scatter` メソッドには `label` オプションが用意されており、これにカテゴリ名を指定することで、各点がどのカテゴリに属するのかを示すことができます。たとえば、以下のように `for` 文を使って、樹種ごとに散布図を描画し、その際に `label` に木の名前を指定します。`scatter` を複数回実行することで、1 つの描画領域に複数の散布図を重ねることができます。"
   ]
  },
  {
   "cell_type": "code",
   "execution_count": null,
   "id": "c962baa5",
   "metadata": {},
   "outputs": [],
   "source": [
    "fig = plt.figure()\n",
    "ax = fig.add_subplot()\n",
    "\n",
    "for tree in acorn_data['tree'].unique():\n",
    "    x = acorn_data['height'][acorn_data['tree'] == tree]\n",
    "    y = acorn_data['weight'][acorn_data['tree'] == tree]\n",
    "    ax.scatter(x, y, label=tree)\n",
    "\n",
    "ax.set_xlabel('height [cm]')\n",
    "ax.set_ylabel('weight [g]')\n",
    "ax.legend(loc='upper left')\n",
    "plt.show()"
   ]
  },
  {
   "cell_type": "markdown",
   "id": "17ea11bd",
   "metadata": {},
   "source": [
    "なお、点の数が多く重なって見づらくなる場合は、`scatter` メソッドの `alpha` オプションを使って透明度を調整すると、グラフが見やすくなります。たとえば、`alpha=0.5` と指定すると、点が半透明になります。"
   ]
  },
  {
   "cell_type": "code",
   "execution_count": null,
   "id": "33322790",
   "metadata": {},
   "outputs": [],
   "source": [
    "fig = plt.figure()\n",
    "ax = fig.add_subplot()\n",
    "\n",
    "for tree in acorn_data['tree'].unique():\n",
    "    x = acorn_data['height'][acorn_data['tree'] == tree]\n",
    "    y = acorn_data['weight'][acorn_data['tree'] == tree]\n",
    "    ax.scatter(x, y, label=tree, alpha=0.5)\n",
    "\n",
    "ax.set_xlabel('height [cm]')\n",
    "ax.set_ylabel('weight [g]')\n",
    "ax.legend(loc='upper left')\n",
    "plt.show()"
   ]
  },
  {
   "cell_type": "markdown",
   "id": "6511308e",
   "metadata": {},
   "source": [
    "データが Pandas のデータフレーム型である場合は、`groupby` メソッドを使って、集計やグループごとの処理を簡潔に記述できます。それでは、上のコードを `groupby` を使った形に書き換えてみましょう。"
   ]
  },
  {
   "cell_type": "code",
   "execution_count": null,
   "id": "7e269a8e",
   "metadata": {
    "tags": [
     "hide-cell"
    ]
   },
   "outputs": [],
   "source": [
    "fig = plt.figure()\n",
    "ax = fig.add_subplot()\n",
    "\n",
    "for subset_name, subset in acorn_data.groupby('tree'):\n",
    "    ax.scatter(subset['height'], subset['weight'], label=subset_name, alpha=0.5)\n",
    "\n",
    "ax.set_xlabel('height [cm]')\n",
    "ax.set_ylabel('weight [g]')\n",
    "ax.legend(loc='upper left')\n",
    "plt.show()"
   ]
  },
  {
   "cell_type": "markdown",
   "id": "408fd09d",
   "metadata": {},
   "source": [
    "```{admonition} 問題 VC-1\n",
    "acorns.clean.csv データを読み込み、「weight」と「height と diameter の積」の関係を散布図で分かりやすく図示してください。\n",
    "```"
   ]
  },
  {
   "cell_type": "markdown",
   "id": "84149c25-2d21-475f-981d-285ff9078bea",
   "metadata": {},
   "source": [
    "## 折れ線グラフ"
   ]
  },
  {
   "attachments": {},
   "cell_type": "markdown",
   "id": "94277fcb-2c1a-40a9-ad77-14c2891563e1",
   "metadata": {},
   "source": [
    "折れ線グラフは、連続的な数値データの変化を時系列や特定の順序に沿って可視化するのに適したグラフです。たとえば、栽培日数の経過に伴う作物の草丈の成長や、ストレス処理後における時間経過に応じた遺伝子発現量の変化などを可視化する際によく用いられます。また、データの分布やスケールの特性によっては、縦軸を対数スケール（たとえば log<sub>10</sub>）に変換して表示することで、変化の傾向をより分かりやすくすることができます。\n",
    "\n",
    "ここでは、遺伝子発現量データセットを使って、折れ線グラフの基本的な描き方を紹介します。折れ線グラフには `plot` メソッドを使用します。`scatter` メソッドの使い方と同じです。"
   ]
  },
  {
   "cell_type": "code",
   "execution_count": null,
   "id": "302ec0bd",
   "metadata": {},
   "outputs": [],
   "source": [
    "gene = 'CARHR000010'\n",
    "x = [0, 2, 4, 8, 12, 24, 48, 72, 96]\n",
    "y = np.log10(exp_data.loc[gene, :])\n",
    "\n",
    "fig = plt.figure()\n",
    "ax = fig.add_subplot()\n",
    "ax.plot(x, y)\n",
    "ax.set_xlabel('treatment [hour]')\n",
    "ax.set_ylabel('gene expression [log10(exp)]')\n",
    "\n",
    "plt.show()"
   ]
  },
  {
   "cell_type": "markdown",
   "id": "ed9a7ea5",
   "metadata": {},
   "source": [
    "複数の遺伝子について同じグラフ上に線を描画する場合は、各遺伝子に対して `plot` メソッドを個別に呼び出します。その際に、`label` オプションに遺伝子名を指定することで、凡例を追加でき、どの線がどの遺伝子を示しているのかを明確にすることができます。"
   ]
  },
  {
   "cell_type": "code",
   "execution_count": null,
   "id": "0ae4861d-4d9b-45a9-ae44-a9454caa63ab",
   "metadata": {},
   "outputs": [],
   "source": [
    "genes = ['CARHR000010', 'CARHR023760', 'CARHR022990']\n",
    "\n",
    "fig = plt.figure()\n",
    "ax = fig.add_subplot()\n",
    "\n",
    "for gene in genes:\n",
    "    x = [0, 2, 4, 8, 12, 24, 48, 72, 96]\n",
    "    y = np.log10(exp_data.loc[gene, :])\n",
    "    ax.plot(x, y, label = gene)\n",
    "\n",
    "ax.set_xlabel('treatment [hour]')\n",
    "ax.set_ylabel('gene expression [log10(exp)]')\n",
    "ax.legend()\n",
    "\n",
    "plt.show()"
   ]
  },
  {
   "cell_type": "markdown",
   "id": "06ed6bb8",
   "metadata": {},
   "source": [
    "```{admonition} 問題 VC-2\n",
    "`cinsueta_exp.csv` データを読み込み、ストレス処理後 2 時間（2h 列）における発現量が高い上位 5 つの遺伝子を抽出してください。その後、抽出した遺伝子の発現量の時系列変化を線グラフでわかりやすく可視化してください。\n",
    "```"
   ]
  },
  {
   "cell_type": "markdown",
   "id": "c67bb2d6-f3ae-4fc5-aeb8-15e8e05e0233",
   "metadata": {},
   "source": [
    "## 棒グラフ"
   ]
  },
  {
   "attachments": {},
   "cell_type": "markdown",
   "id": "9d8ea81b-7258-4d75-8702-f4bbdf5aae18",
   "metadata": {},
   "source": [
    "棒グラフは、複数のカテゴリに属する値の大小を比較したり、可視化したりするのに適したグラフです。このグラフでは、縦軸または横軸のどちらかが連続量（数値データ）、もう一方がカテゴリ（分類）になります。棒グラフは「値の比較」が目的であるため、連続量の軸（通常は縦軸）はゼロを含むように設定し、一貫したスケールを用いる必要があります。たとえば、ゼロを省略したり、絶対値と対数スケールを混在させることは避けなければなりません。\n",
    "\n",
    "棒グラフの作成には `bar` メソッドを使用します。これは散布図と同様に、横軸と縦軸の値を指定するだけで簡単に描画できます。たとえば、どんぐりのデータセットを使って、各樹種ごとのどんぐりの重さの平均値を計算し、それを棒グラフで可視化する例は以下のとおりです。"
   ]
  },
  {
   "cell_type": "code",
   "execution_count": null,
   "id": "799b110d-065a-4fb5-9cc3-3209bbc57206",
   "metadata": {},
   "outputs": [],
   "source": [
    "acorn_weight = acorn_data.groupby('tree').agg(np.mean)\n",
    "acorn_weight"
   ]
  },
  {
   "cell_type": "code",
   "execution_count": null,
   "id": "82a5b07b",
   "metadata": {},
   "outputs": [],
   "source": [
    "x = acorn_weight.index\n",
    "y = acorn_weight['weight']\n",
    "\n",
    "fig = plt.figure()\n",
    "ax = fig.add_subplot()\n",
    "ax.bar(x, y)\n",
    "ax.set_xlabel('tree')\n",
    "ax.set_ylabel('weight [g]')\n",
    "\n",
    "plt.show()"
   ]
  },
  {
   "cell_type": "markdown",
   "id": "dfc87cdc",
   "metadata": {},
   "source": [
    "次に、エラーバー付きの棒グラフを描画してみましょう。ここでは、エラーバーとして各カテゴリにおける重さの標準偏差を表示します。これにより、平均値だけでなくデータのばらつきも視覚的に把握できるようになります。"
   ]
  },
  {
   "cell_type": "code",
   "execution_count": null,
   "id": "6cfa3843",
   "metadata": {},
   "outputs": [],
   "source": [
    "acorn_weight = acorn_data.groupby('tree').agg([np.mean, np.std])\n",
    "acorn_weight"
   ]
  },
  {
   "cell_type": "code",
   "execution_count": null,
   "id": "50a2f916",
   "metadata": {},
   "outputs": [],
   "source": [
    "x = acorn_weight.index\n",
    "y = acorn_weight['weight']['mean']\n",
    "y_err = acorn_weight['weight']['std']\n",
    "\n",
    "fig = plt.figure()\n",
    "ax = fig.add_subplot()\n",
    "ax.bar(x, y, yerr=y_err, color='#7da3a1',\n",
    "       error_kw={'linewidth': 4, 'capthick': 4, 'capsize': 20, 'ecolor': '#324851'})\n",
    "ax.set_xlabel('tree')\n",
    "ax.set_ylabel('weight [g]')\n",
    "\n",
    "plt.show()\n"
   ]
  },
  {
   "cell_type": "markdown",
   "id": "004648b5-1a7f-454b-8432-7c93bdcd4e42",
   "metadata": {},
   "source": [
    "## ヒストグラム"
   ]
  },
  {
   "attachments": {},
   "cell_type": "markdown",
   "id": "10bac3ac-772c-4515-9c56-d749af2896f4",
   "metadata": {},
   "source": [
    "ヒストグラムは、1 つの変数における連続値データの分布を可視化するためのグラフです。通常、横軸はデータの値をいくつかの区間（階級）に分けたもので、縦軸は各階級に属するデータの頻度（出現回数）を表します。階級の幅や数は、経験的に決めることもありますが、スタージェスの公式などのように数学的に設定することも多いです。\n",
    "\n",
    "以下の例では、どんぐりデータセットから重さの列を取り出し、その分布をヒストグラムとして描画しています。特にオプションを指定しない場合、階級の数や幅は、データの個数や分布に応じて自動的に設定されます。"
   ]
  },
  {
   "cell_type": "code",
   "execution_count": null,
   "id": "cd2f20c4-2475-4bc0-b040-0643899b5606",
   "metadata": {},
   "outputs": [],
   "source": [
    "x = acorn_data['weight']\n",
    "\n",
    "fig = plt.figure()\n",
    "ax = fig.add_subplot()\n",
    "ax.hist(x)\n",
    "ax.set_xlabel('weight [g]')\n",
    "\n",
    "plt.show()"
   ]
  },
  {
   "cell_type": "markdown",
   "id": "7b1ea508",
   "metadata": {},
   "source": [
    "また、各樹種ごとにヒストグラムを描くこともできます。`for` 文を使って、樹種ごとに `hist` メソッドを適用することで、複数のヒストグラムを重ねて表示することができます。`alpha` オプションで透明度を設定すると、重なり部分が見やすくなります。"
   ]
  },
  {
   "cell_type": "code",
   "execution_count": null,
   "id": "c11a06dd-9066-4d8a-9d92-2547acd4f156",
   "metadata": {},
   "outputs": [],
   "source": [
    "fig = plt.figure()\n",
    "ax = fig.add_subplot()\n",
    "\n",
    "for tree in acorn_data['tree'].unique():\n",
    "    x = acorn_data['weight'][acorn_data['tree'] == tree]\n",
    "    ax.hist(x, label=tree, alpha=0.8)\n",
    "\n",
    "ax.set_xlabel('weight [g]')\n",
    "ax.legend(loc='upper right')\n",
    "plt.show()"
   ]
  },
  {
   "cell_type": "markdown",
   "id": "d3d7d06c",
   "metadata": {},
   "source": [
    "このようにヒストグラムを利用すれば、データの分布や偏りを直感的に把握することができます。"
   ]
  },
  {
   "cell_type": "markdown",
   "id": "771c8ede-14ce-4ad7-beb9-812c04e96d36",
   "metadata": {},
   "source": [
    "## ボックスプロット"
   ]
  },
  {
   "attachments": {},
   "cell_type": "markdown",
   "id": "194006a8-0917-4636-b762-798289ef812d",
   "metadata": {},
   "source": [
    "ボックスプロット（箱ひげ図）は、複数の 1 変量の連続値データの分布を比較する際に有効なグラフです。ヒストグラムでは複数の分布を重ねて表示するため、比較が難しくなることがありますが、ボックスプロットを使えば、カテゴリごとに独立した位置に分布を描けるため、分布の違いを視覚的に比較しやすくなります。\n",
    "\n",
    "ボックスプロットは、中央に箱（ボックス）と、その上下に「ひげ（線）」が伸びた図として表現されます。箱の上下端は、それぞれ第 1 四分位数（$Q1$）と第 3 四分位数（$Q3$）を表します。箱の中の線は中央値（第 2 四分位数）を表します。また、ひげの端は、外れ値を除いた最小値と最大値を表します。外れ値は、通常、$[Q1 - 1.5IQR, Q3 + 1.5IQR]$ の範囲外のデータとみなされ、個別にプロットされます。なお、$IQR$ は四分位範囲のことで、$IQR = Q3 - Q1$ と計算されます。\n",
    "\n",
    "\n",
    "ボックスプロットは `boxplot` メソッドで描きます。縦軸のデータはリストのリスト、NumPy の配列、あるいは Pandas のデータフレームの形式で渡します。横軸のカテゴリ名（ラベル）は `labels` オプションで指定します。では、どんぐりのデータセットを使い、クヌギの各種測定項目をデータフレームとして、`boxplot` メソッドに渡し、それらの分布を可視化してみましょう。"
   ]
  },
  {
   "cell_type": "code",
   "execution_count": null,
   "id": "ff625e1b-6aae-4d85-b630-f01ee639bf0f",
   "metadata": {},
   "outputs": [],
   "source": [
    "kunugi = acorn_data.loc[acorn_data['tree'] == 'kunugi', :].iloc[:, 1:]\n",
    "\n",
    "fig = plt.figure()\n",
    "ax = fig.add_subplot()\n",
    "\n",
    "ax.boxplot(kunugi, labels=kunugi.columns)\n",
    "\n",
    "plt.show()"
   ]
  },
  {
   "cell_type": "markdown",
   "id": "6aca53c4",
   "metadata": {},
   "source": [
    "次に、樹種ごとにどんぐりの重さだけを抽出し、それぞれをリストに保存して、リストのリストとして `boxplot` に渡す方法を紹介します。これにより、どの樹種が重いどんぐりをつけるかといった傾向を比較できます。"
   ]
  },
  {
   "cell_type": "code",
   "execution_count": null,
   "id": "29a3b3d5-b3bd-4705-bef6-5c9379836d76",
   "metadata": {},
   "outputs": [],
   "source": [
    "x = []\n",
    "y = []\n",
    "for tree in acorn_data['tree'].unique():\n",
    "    x.append(tree)\n",
    "    y.append(acorn_data.loc[acorn_data['tree'] == tree, 'weight'])\n",
    "\n",
    "fig = plt.figure()\n",
    "ax = fig.add_subplot()\n",
    "ax.boxplot(y, labels=x)\n",
    "ax.set_ylabel('weight [g]')\n",
    "\n",
    "plt.show()"
   ]
  },
  {
   "cell_type": "markdown",
   "id": "7ac6f886",
   "metadata": {},
   "source": [
    "## バイオリンプロット"
   ]
  },
  {
   "cell_type": "markdown",
   "id": "4d8e3868",
   "metadata": {},
   "source": [
    "バイオリンプロットは、ボックスプロットと同様に、複数のカテゴリにおける連続値データの分布を比較するためのグラフです。ボックスプロットが四分位点（中央値、第一・第三四分位数など）を強調するのに対し、バイオリンプロットではデータの分布の形（カーネル密度）を推定して可視化します。正規分布でないデータや、分布の形そのものを比較したい場合に、バイオリンプロットの方が有効です。\n",
    "\n",
    "バイオリンプロットは `violinplot` メソッドを使って描きます。ただし、`boxplot` メソッドと異なり、`violinplot` には `labels` オプションがありません。そのため、プロットを描くと横軸のラベルは自動的に数値（1, 2, 3, ...）になります。横軸を変数名などのわかりやすいラベルに変更するには、`set_xticks` を使って明示的に設定する必要があります。"
   ]
  },
  {
   "cell_type": "code",
   "execution_count": null,
   "id": "3dee9594",
   "metadata": {},
   "outputs": [],
   "source": [
    "kunugi = acorn_data.loc[acorn_data['tree'] == 'kunugi', :].iloc[:, 1:]\n",
    "\n",
    "fig = plt.figure()\n",
    "ax = fig.add_subplot()\n",
    "\n",
    "ax.violinplot(kunugi)\n",
    "ax.set_xticks(np.arange(1, 1 + len(kunugi.columns)))\n",
    "ax.set_xticklabels(kunugi.columns)\n",
    "\n",
    "plt.show()"
   ]
  },
  {
   "cell_type": "code",
   "execution_count": null,
   "id": "7012822a",
   "metadata": {},
   "outputs": [],
   "source": [
    "x = []\n",
    "y = []\n",
    "for tree in acorn_data['tree'].unique():\n",
    "    x.append(tree)\n",
    "    y.append(acorn_data.loc[acorn_data['tree'] == tree, 'weight'])\n",
    "\n",
    "fig = plt.figure()\n",
    "ax = fig.add_subplot()\n",
    "ax.violinplot(y)\n",
    "ax.set_xticks(np.arange(1, 1 + len(x)))\n",
    "ax.set_xticklabels(x)\n",
    "\n",
    "ax.set_ylabel('weight [g]')\n",
    "\n",
    "plt.show()"
   ]
  },
  {
   "cell_type": "markdown",
   "id": "c5791031-ea0c-4223-9aaf-99ceb213a609",
   "metadata": {},
   "source": [
    "## ドットプロット"
   ]
  },
  {
   "attachments": {},
   "cell_type": "markdown",
   "id": "08f035bd-74af-44aa-be66-62341b6957bb",
   "metadata": {},
   "source": [
    "ドットプロットは、1 つのデータ点を 1 つの点（ドット）で描画するグラフで、データそのものを可視化する方法です。カテゴリごとの個々のデータ値を点として表示するため、データのばらつきや分布の様子を視覚的に把握しやすくなります。\n",
    "\n",
    "たとえば、各種のどんぐりの「重さ」をカテゴリごとにドットプロットで表示するには、以下のように `scatter` メソッドを使って描きます。"
   ]
  },
  {
   "cell_type": "code",
   "execution_count": null,
   "id": "963f0f24",
   "metadata": {},
   "outputs": [],
   "source": [
    "tree_id = {}\n",
    "for i, tree in enumerate(acorn_data['tree'].unique()):\n",
    "    tree_id[tree] = i\n",
    "\n",
    "x = acorn_data['tree'].replace(tree_id)\n",
    "y = acorn_data['weight']\n",
    "\n",
    "fig = plt.figure()\n",
    "ax = fig.add_subplot()\n",
    "ax.scatter(x, y, alpha = 0.5)\n",
    "\n",
    "ax.set_xticks(np.arange(len(tree_id)))\n",
    "ax.set_xticklabels(sorted(tree_id, key=tree_id.get))\n",
    "ax.set_ylabel('weight [g]')\n",
    "\n",
    "plt.show()"
   ]
  },
  {
   "cell_type": "markdown",
   "id": "f0fa1dae",
   "metadata": {},
   "source": [
    "ドットプロットでは、同じか近い値のサンプルが多い場合に点が重なってしまい、分布がわかりにくくなります。そこで、横軸に小さな乱数を加えて点を左右にばらすことで、点同士の重なりを避けることができます。このようなグラフはジッタープロットと呼ばれています。なお、横軸はカテゴリであるため、多少位置をずらしても意味の解釈には影響しません。"
   ]
  },
  {
   "cell_type": "code",
   "execution_count": null,
   "id": "4169c2d1-ed98-418f-ac24-e1e73897b421",
   "metadata": {},
   "outputs": [],
   "source": [
    "tree_id = {}\n",
    "for i, tree in enumerate(acorn_data['tree'].unique()):\n",
    "    tree_id[tree] = i\n",
    "\n",
    "x = acorn_data['tree'].replace(tree_id)\n",
    "x = x + np.random.uniform(-0.2, 0.2, len(x))\n",
    "y = acorn_data['weight']\n",
    "\n",
    "fig = plt.figure()\n",
    "ax = fig.add_subplot()\n",
    "ax.scatter(x, y, alpha = 0.5)\n",
    "\n",
    "ax.set_xticks(np.arange(len(tree_id)))\n",
    "ax.set_xticklabels(sorted(tree_id, key=tree_id.get))\n",
    "ax.set_ylabel('weight [g]')\n",
    "\n",
    "plt.show()"
   ]
  },
  {
   "cell_type": "markdown",
   "id": "59807d40",
   "metadata": {},
   "source": [
    "ジッタープロットは、単体でもデータの分布を可視化できますが、ボックスプロットやバイオリンプロットと重ねて表示することで、分布の概要と個々のデータ点の両方を視覚的に捉えることができ、より正確なデータの理解につながります。"
   ]
  },
  {
   "cell_type": "code",
   "execution_count": null,
   "id": "181aca97-a71f-4574-b428-af72ed621718",
   "metadata": {},
   "outputs": [],
   "source": [
    "tree_id = {}\n",
    "x = []\n",
    "y = []\n",
    "for i, tree in enumerate(acorn_data['tree'].unique()):\n",
    "    x.append(tree)\n",
    "    y.append(acorn_data.loc[acorn_data['tree'] == tree, 'weight'])\n",
    "    tree_id[tree] = i + 1\n",
    "\n",
    "acorn_data['x'] = acorn_data['tree'].replace(tree_id) + np.random.uniform(-0.2, 0.2, len(acorn_data['tree']))\n",
    "\n",
    "\n",
    "fig = plt.figure()\n",
    "ax = fig.add_subplot()\n",
    "ax.violinplot(y)\n",
    "ax.scatter(acorn_data['x'], acorn_data['weight'], alpha = 0.5)\n",
    "\n",
    "ax.set_xticks(np.arange(1, 1 + len(x)))\n",
    "ax.set_xticklabels(x)\n",
    "ax.set_ylabel('weight [g]')\n",
    "\n",
    "plt.show()"
   ]
  },
  {
   "cell_type": "code",
   "execution_count": null,
   "id": "8fb1c090",
   "metadata": {
    "tags": [
     "remove-cell"
    ]
   },
   "outputs": [],
   "source": [
    "!rm  acorns.clean.csv\n",
    "!rm cinsueta_exp.csv"
   ]
  }
 ],
 "metadata": {
  "kernelspec": {
   "display_name": "ebook",
   "language": "python",
   "name": "python3"
  },
  "language_info": {
   "codemirror_mode": {
    "name": "ipython",
    "version": 3
   },
   "file_extension": ".py",
   "mimetype": "text/x-python",
   "name": "python",
   "nbconvert_exporter": "python",
   "pygments_lexer": "ipython3",
   "version": "3.11.4"
  }
 },
 "nbformat": 4,
 "nbformat_minor": 5
}
