{
 "cells": [
  {
   "cell_type": "markdown",
   "id": "3ee7e198-e608-4f42-b47d-6dec41fa6c98",
   "metadata": {
    "editable": true,
    "slideshow": {
     "slide_type": ""
    },
    "tags": []
   },
   "source": [
    "# データ可視化"
   ]
  },
  {
   "cell_type": "markdown",
   "id": "a1202a78-4d1a-411e-a902-38e5730a7ab5",
   "metadata": {
    "editable": true,
    "slideshow": {
     "slide_type": ""
    },
    "tags": []
   },
   "source": [
    "データの可視化は、データの特徴やパターンを直感的に理解するために非常に重要です。数値やテキストがただ膨大に並んでいるだけでは、全体像や傾向、重要なポイントを把握するのが難しく、データに潜む有益な情報や異常値、関係性などを見逃してしまうことがあります。視覚的にデータを表現することで、複雑な情報でも一目で理解しやすくなり、分析結果をより直感的に捉えることが可能になります。\n",
    "\n",
    "どんぐりは見つけた時には芽が出てる。異常値も同じ。見えるようにしておかないと、手遅れになる。\n",
    "\n",
    "Python には、データの可視化を行うためのライブラリがいくつも用意されています。中でも最も古く、広く利用されているのが Matplotlib です。基本的なグラフから高度な表現まで対応可能で、機能も非常に豊富です。Seaborn は、Matplotlib を基盤として構築された高水準の可視化ライブラリで、より簡潔なコードで洗練されたグラフを描画できます。ほかに、Plotly といったライブラリではインタラクティブなグラフを生成でき、ウェブページ形式での表示が可能です。マウス操作でグラフの拡大・縮小・回転ができるため、ウェブアプリケーションなどの開発において非常に便利です。\n",
    "\n",
    "これらのライブラリをインストールするには、`pip` コマンドを使用します。ただし、すべてのライブラリを一度にインストールする必要はありません。必要になったタイミングで、必要なものだけをインストールすれば十分です。Jupyter Notebook 上でインストールを行う場合は、`pip` の代わりに `!pip` を使用します。\n",
    "\n",
    "\n",
    "```bash\n",
    "pip install matplotlib\n",
    "pip install seaborn\n",
    "pip install plotly[express]\n",
    "```\n",
    "\n",
    "\n",
    "各ライブラリをコード内で使用するには、以下のようにインポートします。\n",
    "\n",
    "\n",
    "```python\n",
    "import matplotlib.pyplot as plt\n",
    "import seaborn as sns\n",
    "import plotly.express as px\n",
    "```"
   ]
  }
 ],
 "metadata": {
  "kernelspec": {
   "display_name": "ebook",
   "language": "python",
   "name": "python3"
  },
  "language_info": {
   "codemirror_mode": {
    "name": "ipython",
    "version": 3
   },
   "file_extension": ".py",
   "mimetype": "text/x-python",
   "name": "python",
   "nbconvert_exporter": "python",
   "pygments_lexer": "ipython3",
   "version": "3.11.4"
  }
 },
 "nbformat": 4,
 "nbformat_minor": 5
}
