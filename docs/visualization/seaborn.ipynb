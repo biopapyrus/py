{
 "cells": [
  {
   "cell_type": "code",
   "execution_count": null,
   "id": "44fd7595",
   "metadata": {
    "tags": [
     "remove-cell"
    ]
   },
   "outputs": [],
   "source": [
    "import numpy as np\n",
    "import pandas as pd\n",
    "import matplotlib.pyplot as plt\n",
    "\n",
    "!cp ../data/acorns.clean.csv .\n",
    "!cp ../data/cinsueta_exp.csv ."
   ]
  },
  {
   "cell_type": "markdown",
   "id": "2dd5239c-9b8d-4684-abcc-8a11dd497fc6",
   "metadata": {
    "editable": true,
    "slideshow": {
     "slide_type": ""
    },
    "tags": []
   },
   "source": [
    "(section-seaborn)=\n",
    "# Seaborn"
   ]
  },
  {
   "cell_type": "markdown",
   "id": "5e9a6c7c",
   "metadata": {},
   "source": [
    "Seaborn は、データの可視化に特化したライブラリのひとつで、Matplotlib を補完する役割を担っています。Matplotlib では複雑なコードが必要となるようなグラフも、Seaborn を使えば、シンプルな関数ひとつで手軽に描画できるようになります。また、Seaborn は基本的に Pandas と組み合わせて使用することを想定されており、データの受け渡しは Pandas のデータフレームを通して行うのが一般的です。"
   ]
  },
  {
   "cell_type": "markdown",
   "id": "9546f7aa",
   "metadata": {},
   "source": [
    "## Seaborn ライブラリー"
   ]
  },
  {
   "cell_type": "markdown",
   "id": "62a7f637",
   "metadata": {},
   "source": [
    "Seaborn ライブラリを利用するには、次のようにインポートします。"
   ]
  },
  {
   "cell_type": "code",
   "execution_count": null,
   "id": "c8a724e8",
   "metadata": {},
   "outputs": [],
   "source": [
    "import seaborn as sns"
   ]
  },
  {
   "cell_type": "markdown",
   "id": "6f5e0bbf",
   "metadata": {},
   "source": [
    "なお、Seaborn をインポートすると、Matplotlib の標準設定が Seaborn によって上書きされます。そのため、グラフの色合いや背景などのスタイルが、Seaborn をインポートする前と後で変わる点に注意してください。"
   ]
  },
  {
   "cell_type": "markdown",
   "id": "36d6b464",
   "metadata": {},
   "source": [
    "## データセット　"
   ]
  },
  {
   "cell_type": "markdown",
   "id": "3debb6c6",
   "metadata": {},
   "source": [
    "可視化用にどんぐりのデータセットとタネツケバナの遺伝子発現量データセットを読み込みます。\n",
    "\n",
    "どんぐりのデータセット（acorns.clean.csv）には、さまざまな種類のどんぐり（樹種）に関する情報が記録されています。各サンプルについて、樹種（tree）、重さ（weight）、高さ（height）、直径（diameter）のデータが記録されています。\n"
   ]
  },
  {
   "cell_type": "code",
   "execution_count": null,
   "id": "77f36b89",
   "metadata": {},
   "outputs": [],
   "source": [
    "# !wget https://py.biopapyrus.jp/data/acorns.clean.csv\n",
    "acorn_data = pd.read_csv('acorns.clean.csv')\n",
    "acorn_data.head()"
   ]
  },
  {
   "cell_type": "markdown",
   "id": "cba8c8f4",
   "metadata": {},
   "source": [
    "タネツケバナの遺伝子発現量データ（cinsueta_exp.csv）は、_Cardamine insueta_ の葉を水面に浮かべたあと、経過時間（0〜96時間）ごとの遺伝子発現量の変化を測定したデータです。"
   ]
  },
  {
   "cell_type": "code",
   "execution_count": null,
   "id": "1360ddb5",
   "metadata": {},
   "outputs": [],
   "source": [
    "# !wget https://py.biopapyrus.jp/data/cinsueta_exp.csv\n",
    "exp_data = pd.read_csv('cinsueta_exp.csv', index_col=0)\n",
    "exp_data = exp_data.reset_index()\n",
    "exp_data.head()"
   ]
  },
  {
   "cell_type": "markdown",
   "id": "95ee226e-f92d-43f9-8378-eea0b6709913",
   "metadata": {},
   "source": [
    "## 基本グラフ"
   ]
  },
  {
   "cell_type": "markdown",
   "id": "4aad048a-ceb7-4f6a-a079-d3cd3fab57af",
   "metadata": {
    "editable": true,
    "slideshow": {
     "slide_type": ""
    },
    "tags": []
   },
   "source": [
    "Seaborn の機能を利用して、散布図や線グラフなどを描く方法を紹介します。まずは、散布図の例です。Seaborn の描画関数は、少なくとも 3 つの引数を取ります。最初にデータセットとしてデータフレーム型のオブジェクトを渡し、次に x 座標と y 座標に対応する列名を指定します。\n",
    "\n",
    "例えば、散布図を描くには `scatterplot` 関数を使い、次のように記述します。"
   ]
  },
  {
   "cell_type": "code",
   "execution_count": null,
   "id": "fcd32f4e",
   "metadata": {},
   "outputs": [],
   "source": [
    "sns.scatterplot(acorn_data, x='height', y='weight')\n",
    "plt.show()"
   ]
  },
  {
   "cell_type": "markdown",
   "id": "3a2ca233",
   "metadata": {},
   "source": [
    "Seaborn の `scatterplot` 関数では、`hue`、`style`、`size` といったオプションを使うことができます。これらにデータフレームの列名を指定すると、点の色（`hue`）、マーカーの種類（`style`）、およびサイズ（`size`）が、その列に書かれたカテゴリごとに自動的に変わります。\n",
    "\n",
    "また、`scatterplot` 関数には `ax` という引数もあり、ここに `fig.add_subplot` で作成したサブプロット領域を渡すと、その領域内にグラフを描画できます。では、この機能を使って、`hue`、`style`、`size` の違いを並べて見てみましょう。"
   ]
  },
  {
   "cell_type": "code",
   "execution_count": null,
   "id": "6969266b",
   "metadata": {},
   "outputs": [],
   "source": [
    "fig = plt.figure()\n",
    "ax1 = fig.add_subplot(1, 3, 1)\n",
    "ax2 = fig.add_subplot(1, 3, 2)\n",
    "ax3 = fig.add_subplot(1, 3, 3)\n",
    "\n",
    "sns.scatterplot(acorn_data, x='height', y='weight', hue='tree', ax=ax1)\n",
    "sns.scatterplot(acorn_data, x='height', y='weight', style='tree', ax=ax2)\n",
    "sns.scatterplot(acorn_data, x='height', y='weight', size='tree', ax=ax3)\n",
    "\n",
    "plt.show()"
   ]
  },
  {
   "cell_type": "markdown",
   "id": "0214fd3b",
   "metadata": {},
   "source": [
    "次に、遺伝子発現量のデータを使って線グラフを描いてみましょう。`exp_data` はデータフレーム形式で、各行が遺伝子、各列がストレス処理後の経過時間を表しています。Seaborn で遺伝子ごとの発現量の時系列変化を可視化するには、x 軸および y 軸に対応する情報を列名で指定する必要があります。しかし、現在の `exp_data` にはそれに該当する列がありません。そのため、データフレームを整形し、遺伝子名と経過時間を示す列を追加します。\n",
    "\n",
    "`exp_data` 全体で処理すると、情報量が多くなってしまうため、ここでは最初の 5 つの遺伝子のデータのみを対象に処理を行います。また、ここでグラフが見やすいように、発現量を対数化してから可視化します[^logexp]。\n",
    "\n",
    "[^logexp]: 遺伝子発現量のデータは、値の幅が広いため、可視化の前に対数変換を行うのが一般的です。これにより、極端に大きい値による変動幅の偏りを抑え、全体の変化をより見やすくすることができます。この例でも、 NumPy の `np.log10` 関数を使って、遺伝子発現量の値を対数化してからグラフを作成しています。"
   ]
  },
  {
   "cell_type": "code",
   "execution_count": null,
   "id": "c0c45e96",
   "metadata": {
    "tags": [
     "scroll-output"
    ]
   },
   "outputs": [],
   "source": [
    "exp_data_long = pd.melt(exp_data.iloc[0:5, ], id_vars='gene', var_name='timepoint', value_name='exp')\n",
    "exp_data_long['log10exp'] = np.log10(exp_data_long['exp'] + 1)\n",
    "exp_data_long['timepoint'] = exp_data_long['timepoint'].str.replace('h', '').astype(int)\n",
    "exp_data_long"
   ]
  },
  {
   "cell_type": "markdown",
   "id": "674f5b2b",
   "metadata": {},
   "source": [
    "整形後のデータを使い、Seaborn の `lineplot` 関数で遺伝子ごとの発現量の時間変化を描きます。"
   ]
  },
  {
   "cell_type": "code",
   "execution_count": null,
   "id": "e0fb6a3e",
   "metadata": {},
   "outputs": [],
   "source": [
    "sns.lineplot(exp_data_long, x='timepoint', y='log10exp', hue='gene')\n",
    "plt.show()"
   ]
  },
  {
   "cell_type": "markdown",
   "id": "f5368677-a4cf-4d19-8e8b-a160f8ef202d",
   "metadata": {
    "editable": true,
    "slideshow": {
     "slide_type": ""
    },
    "tags": []
   },
   "source": [
    "## ヒートマップ"
   ]
  },
  {
   "cell_type": "markdown",
   "id": "25aa50cc-800a-4169-8013-e9da2f6661e4",
   "metadata": {},
   "source": [
    "Seaborn の `heatmap` 関数を使えば、遺伝子発現データのような行列形式のデータから簡単にヒートマップを作成できます。\n",
    "\n",
    "ここでは、タネツケバナの遺伝子発現量データ `exp_data` を使い、最初の 5 つの遺伝子の発現量に対してヒートマップを作成します。グラフを見やすくするために、発現量は対数変換（log<sub>10</sub>）してから可視化します。"
   ]
  },
  {
   "cell_type": "code",
   "execution_count": null,
   "id": "af875464",
   "metadata": {},
   "outputs": [],
   "source": [
    "expmat = exp_data.iloc[0:5, 1:]\n",
    "expmat.index = exp_data.iloc[0:5, 0]\n",
    "expmat = np.log10(expmat + 1)\n",
    "\n",
    "sns.heatmap(expmat)\n",
    "plt.show()"
   ]
  },
  {
   "cell_type": "markdown",
   "id": "d9c65db1",
   "metadata": {},
   "source": [
    "`heatmap` 関数では、さまざまなオプションを指定することで見た目を調整できます。例えば、`vmin` および `vmax` は色スケールの最小値・最大値を指定するのに利用します。また、`cmap` はカラーパレットを指定するのに利用します。`'YlGn'`、`'viridis'`、 `'coolwarm'` などの Matplotlib で定義されたカラーパレットの名前を指定します。"
   ]
  },
  {
   "cell_type": "code",
   "execution_count": null,
   "id": "27439c56",
   "metadata": {},
   "outputs": [],
   "source": [
    "sns.heatmap(expmat, vmin=0, vmax=5, cmap='YlGn')\n",
    "plt.show()"
   ]
  },
  {
   "cell_type": "markdown",
   "id": "3024a07b",
   "metadata": {},
   "source": [
    "より詳しい分析を行いたい場合は、`clustermap` 関数を使って、行や列を階層的にクラスタリングしたヒートマップを描くことができます。クラスタリングには、距離の定義（`'euclidean'`、`'correlation'` など）とクラスタリングアルゴリズム（`ward`、`average` など）を指定します。"
   ]
  },
  {
   "cell_type": "code",
   "execution_count": null,
   "id": "78161788",
   "metadata": {},
   "outputs": [],
   "source": [
    "sns.clustermap(expmat, metric='euclidean', method='ward',\n",
    "               vmin=0, vmax=5, cmap='YlGn')\n",
    "plt.show()"
   ]
  },
  {
   "cell_type": "markdown",
   "id": "fa01cf57",
   "metadata": {},
   "source": [
    "## 多変量データの可視化"
   ]
  },
  {
   "cell_type": "markdown",
   "id": "77ee1461",
   "metadata": {},
   "source": [
    "Seaborn には、多変量データの関係性を視覚的に把握できる便利な関数が多数用意されています。ここでは代表的なものをいくつか紹介します。\n",
    "\n",
    "`pairplot` 関数を使うと、データフレーム内の数値変数の全ての組み合わせについて散布図を自動的に描画してくれます。また、`hue` オプションを使えばカテゴリごとに色分けも可能です。データ全体の傾向をざっくり把握したいときに便利です。"
   ]
  },
  {
   "cell_type": "code",
   "execution_count": null,
   "id": "33143f75",
   "metadata": {},
   "outputs": [],
   "source": [
    "sns.pairplot(acorn_data, hue='tree')\n",
    "plt.show()"
   ]
  },
  {
   "cell_type": "markdown",
   "id": "ed3b1827",
   "metadata": {},
   "source": [
    "特定の 2 変数間の関係を詳しく見たいときには、`jointplot` 関数が役立ちます。この関数は、中央に散布図を描き、その周囲に各変数の分布（ヒストグラム）を表示してくれます。"
   ]
  },
  {
   "cell_type": "code",
   "execution_count": null,
   "id": "82f41eff",
   "metadata": {},
   "outputs": [],
   "source": [
    "sns.jointplot(acorn_data, x='height', y='weight', hue='tree')\n",
    "plt.show()"
   ]
  },
  {
   "cell_type": "markdown",
   "id": "17413420",
   "metadata": {},
   "source": [
    "`lmplot` 関数は、散布図と共に回帰直線を描画し、さらにその 95% 信頼区間も表示してくれます。2 変数間にどのような傾向があるのかを視覚的に確認するのに適しています。"
   ]
  },
  {
   "cell_type": "code",
   "execution_count": null,
   "id": "a485e3dd",
   "metadata": {},
   "outputs": [],
   "source": [
    "sns.lmplot(acorn_data, x='height', y='weight', hue='tree')\n",
    "plt.show()"
   ]
  },
  {
   "cell_type": "markdown",
   "id": "8b44ee2b",
   "metadata": {},
   "source": [
    "Seaborn では、上記以外にも多彩なグラフを簡単に作成できます。描きたいグラフがある場合は、Seaborn の[公式ドキュメント](https://seaborn.pydata.org/)やインターネットで検索して調べると良いでしょう。ドキュメントには例付きの丁寧な説明が掲載されています。\n",
    "\n",
    "前節および本節では、Matplotlib や Seaborn を使ったさまざまなデータ可視化の例を紹介しました。グラフはデータを「伝える」ための道具です。適切な可視化を選び、見せたい情報がしっかり伝わるよう心がけましょう。で、ここに書いたことを全部覚えようなんて、さすがに思ってませんよね？正直に言うと、たとえ覚えたとしても数週間後にはほとんど忘れてます。それに、数ヶ月後のライブラリのアップデートであっさり消えてしまうかもしれませんからね。"
   ]
  },
  {
   "cell_type": "code",
   "execution_count": null,
   "id": "4d6678a6",
   "metadata": {
    "tags": [
     "remove-cell"
    ]
   },
   "outputs": [],
   "source": [
    "!rm acorns.clean.csv\n",
    "!rm cinsueta_exp.csv"
   ]
  }
 ],
 "metadata": {
  "kernelspec": {
   "display_name": "ebook",
   "language": "python",
   "name": "python3"
  },
  "language_info": {
   "codemirror_mode": {
    "name": "ipython",
    "version": 3
   },
   "file_extension": ".py",
   "mimetype": "text/x-python",
   "name": "python",
   "nbconvert_exporter": "python",
   "pygments_lexer": "ipython3",
   "version": "3.11.4"
  }
 },
 "nbformat": 4,
 "nbformat_minor": 5
}
