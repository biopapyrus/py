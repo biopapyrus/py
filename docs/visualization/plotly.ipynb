{
 "cells": [
  {
   "cell_type": "code",
   "execution_count": null,
   "id": "44fd7595",
   "metadata": {
    "tags": [
     "remove-cell"
    ]
   },
   "outputs": [],
   "source": [
    "import os\n",
    "import sys\n",
    "sys.path.append(os.path.abspath('..'))\n",
    "from config import *\n",
    "\n",
    "!cp ../data/acorns.clean.csv .\n",
    "!cp ../data/cinsueta_exp.csv ."
   ]
  },
  {
   "cell_type": "markdown",
   "id": "f5c343b8-b68a-470b-92d6-13dd808a8648",
   "metadata": {
    "editable": true,
    "slideshow": {
     "slide_type": ""
    },
    "tags": []
   },
   "source": [
    "# plotly"
   ]
  },
  {
   "cell_type": "markdown",
   "id": "c57897f1-be16-4c40-9d9f-65ae9b0afcfc",
   "metadata": {
    "editable": true,
    "slideshow": {
     "slide_type": ""
    },
    "tags": []
   },
   "source": [
    "Plotly はインタラクティブなグラフを簡単に作成できるライブラリです。Python だけでなく、統計解析に強い R など他の言語からも利用できるため、多くのユーザーに支持されています。数ある可視化ライブラリの中でも、Plotly は一度は触れておく価値のあるツールです。本節では、Plotly を使って基本的なグラフを作成する方法を紹介します。"
   ]
  },
  {
   "cell_type": "markdown",
   "id": "c72249ff",
   "metadata": {},
   "source": [
    "## plotly ライブラリー"
   ]
  },
  {
   "cell_type": "markdown",
   "id": "2f9613c7",
   "metadata": {},
   "source": [
    "Plotly には主に 2 種類の使用方法があります。一つは、`plotly.graph_objects` モジュールを利用した方法です。高度なカスタマイズが可能で、柔軟性が高い反面、コード量が多くなりがちです。もう一つが `plotly.express` モジュールを利用する方法です。少ないコードで手軽にグラフを描けるシンプルなインターフェースです。Seaborn に似ており、データフレームを与えて、列名で x 軸および y 軸を指定して描画します。ここでは、簡潔に使える `plotly.express` を中心に紹介します。\n",
    "\n",
    "このモジュールを利用するには次のようにインポートします。"
   ]
  },
  {
   "cell_type": "code",
   "execution_count": null,
   "id": "e3714d8b-9a82-4ef6-a94a-e02a76756bfa",
   "metadata": {
    "editable": true,
    "slideshow": {
     "slide_type": ""
    },
    "tags": []
   },
   "outputs": [],
   "source": [
    "import plotly.express as px"
   ]
  },
  {
   "cell_type": "markdown",
   "id": "5e5a487b",
   "metadata": {},
   "source": [
    "続けて、可視化用にどんぐりのデータセットとタネツケバナの遺伝子発現量データセットを読み込みます。どんぐりのデータセット（acorns.clean.csv）には、さまざまな種類のどんぐり（樹種）に関する情報が記録されています。各サンプルについて、樹種（tree）、重さ（weight）、高さ（height）、直径（diameter）のデータが記録されています。"
   ]
  },
  {
   "cell_type": "code",
   "execution_count": null,
   "id": "7daff147",
   "metadata": {},
   "outputs": [],
   "source": [
    "# !wget https://py.biopapyrus.jp/data/acorns.clean.csv\n",
    "acorn_data = pd.read_csv('acorns.clean.csv')\n",
    "acorn_data.head()"
   ]
  },
  {
   "cell_type": "markdown",
   "id": "ed8bd638",
   "metadata": {},
   "source": [
    "タネツケバナの遺伝子発現量データ（cinsueta_exp.csv）は、_Cardamine insueta_ の葉を水面に浮かべたあと、経過時間（0〜96時間）ごとの遺伝子発現量の変化を測定したデータです。"
   ]
  },
  {
   "cell_type": "code",
   "execution_count": null,
   "id": "015fddfc",
   "metadata": {},
   "outputs": [],
   "source": [
    "# !wget https://py.biopapyrus.jp/data/cinsueta_exp.csv\n",
    "exp_data = pd.read_csv('cinsueta_exp.csv', index_col=0)\n",
    "exp_data = exp_data.reset_index()\n",
    "exp_data.head()"
   ]
  },
  {
   "cell_type": "markdown",
   "id": "9ea9bbc8-47e9-4133-80d6-ebc796608082",
   "metadata": {
    "editable": true,
    "slideshow": {
     "slide_type": ""
    },
    "tags": []
   },
   "source": [
    "## 散布図"
   ]
  },
  {
   "cell_type": "markdown",
   "id": "ebd1d231-1254-460d-9bf4-bdedf03161a9",
   "metadata": {
    "editable": true,
    "slideshow": {
     "slide_type": ""
    },
    "tags": []
   },
   "source": [
    "Plotly Express では、`scatter` 関数を使って散布図を描きます。たとえば、どんぐりの高さを x 軸、重さを y 軸としてプロットしたい場合は、次のように書きます。"
   ]
  },
  {
   "cell_type": "code",
   "execution_count": null,
   "id": "dd441851-60bd-4129-bc2e-e5e5702d70f2",
   "metadata": {
    "editable": true,
    "slideshow": {
     "slide_type": ""
    },
    "tags": []
   },
   "outputs": [],
   "source": [
    "fig = px.scatter(acorn_data, x='height', y='weight')\n",
    "fig.show()"
   ]
  },
  {
   "cell_type": "markdown",
   "id": "81dd8c18",
   "metadata": {},
   "source": [
    "また、`color` オプションにデータフレームの列名を指定することで、点の色をその列のカテゴリや値に応じて自動で変更できます。`size` オプションを利用すると、各点のサイズも調整可能です。次は、点の色をどんぐりの樹種（tree 列）で変化させ、点のサイズをどんぐりの直径（diameter）に応じて変化させている例です。"
   ]
  },
  {
   "cell_type": "code",
   "execution_count": null,
   "id": "a70e9ef2-b4a9-4ea2-889b-3177042643e7",
   "metadata": {},
   "outputs": [],
   "source": [
    "fig = px.scatter(acorn_data, x='height', y='weight', color='tree', size='diameter')\n",
    "fig.show()"
   ]
  },
  {
   "cell_type": "markdown",
   "id": "1418a3da",
   "metadata": {},
   "source": [
    "## 線グラフ"
   ]
  },
  {
   "cell_type": "markdown",
   "id": "ef37457c",
   "metadata": {},
   "source": [
    "タネツケバナの遺伝子発現量データを用いて、特定の遺伝子における発現量の時間変化を折れ線グラフで可視化してみましょう。`exp_data` データフレームは、行に遺伝子、列に時間ごとの発現量が格納された形式になっています。しかし、このままでは x 軸を時間、y 軸を発現量として、列名で指定できません。そこで、以下のように `pd.melt` 関数を用いてデータフレームの形を変えます。"
   ]
  },
  {
   "cell_type": "code",
   "execution_count": null,
   "id": "976d0621",
   "metadata": {},
   "outputs": [],
   "source": [
    "exp_data_long = pd.melt(exp_data.iloc[0:5, ], id_vars='gene', var_name='timepoint', value_name='exp')"
   ]
  },
  {
   "cell_type": "markdown",
   "id": "332ab24a",
   "metadata": {},
   "source": [
    "続けて、発現量を対数化し[^logexp]、時間ラベルを整数に変換します。\n",
    "\n",
    "[^logexp]: 遺伝子発現量のデータは、値の幅が広いため、可視化の前に対数変換を行うのが一般的です。これにより、極端に大きい値による変動幅の偏りを抑え、全体の変化をより見やすくすることができます。この例でも、 NumPy の `np.log10` 関数を使って、遺伝子発現量の値を対数化してからグラフを作成しています。"
   ]
  },
  {
   "cell_type": "code",
   "execution_count": null,
   "id": "726ca469",
   "metadata": {
    "tags": [
     "scroll-output"
    ]
   },
   "outputs": [],
   "source": [
    "exp_data_long['log10exp'] = np.log10(exp_data_long['exp'] + 1)\n",
    "exp_data_long['timepoint'] = exp_data_long['timepoint'].str.replace('h', '').astype(int)\n",
    "exp_data_long"
   ]
  },
  {
   "cell_type": "markdown",
   "id": "150b307b",
   "metadata": {},
   "source": [
    "データの整形が完了したら、`plotly.express` の `line` 関数を使って、遺伝子ごとの発現変化の時系列変化を折れ線グラフで可視化します。"
   ]
  },
  {
   "cell_type": "code",
   "execution_count": null,
   "id": "e00e8671-cfb5-49ad-afc8-4babc5ee3b65",
   "metadata": {},
   "outputs": [],
   "source": [
    "fig = px.line(exp_data_long, x='timepoint', y='log10exp', color='gene')\n",
    "fig.show()"
   ]
  },
  {
   "cell_type": "markdown",
   "id": "262b3b92",
   "metadata": {},
   "source": [
    "## 棒グラフ"
   ]
  },
  {
   "cell_type": "markdown",
   "id": "a0423075",
   "metadata": {},
   "source": [
    "どんぐりのデータを使って、樹種ごとの重さの平均を棒グラフにして視覚化する方法を紹介します。まず、`acorn_data` を樹種（tree）ごとに集計し、それぞれの測定項目の平均値を求めます。"
   ]
  },
  {
   "cell_type": "code",
   "execution_count": null,
   "id": "560dd628",
   "metadata": {},
   "outputs": [],
   "source": [
    "acorn_weight = acorn_data.groupby('tree').agg(np.mean).reset_index()\n",
    "acorn_weight"
   ]
  },
  {
   "cell_type": "markdown",
   "id": "f4c3e085",
   "metadata": {},
   "source": [
    "重さ（weight）の平均値を縦棒グラフで可視化します。x 軸に樹種、y 軸に平均重さを指定します。"
   ]
  },
  {
   "cell_type": "code",
   "execution_count": null,
   "id": "6fecb0f3",
   "metadata": {},
   "outputs": [],
   "source": [
    "fig = px.bar(acorn_weight, x='tree', y='weight')\n",
    "fig.show()"
   ]
  },
  {
   "cell_type": "markdown",
   "id": "f6e19d55",
   "metadata": {},
   "source": [
    "重さ以外の測定項目（height や diameter など）も含めて比較したい場合は、測定項目が列名として指定できるようにデータフレームの形を変更します。"
   ]
  },
  {
   "cell_type": "code",
   "execution_count": null,
   "id": "2336ace6",
   "metadata": {},
   "outputs": [],
   "source": [
    "acorn_weight_long = pd.melt(acorn_weight, id_vars='tree', var_name='item', value_name='value')\n",
    "acorn_weight_long.head()"
   ]
  },
  {
   "cell_type": "markdown",
   "id": "80bf1a34",
   "metadata": {},
   "source": [
    "続けて、整形後のデータを使って、item 列の値（重さ、直径、高さなど）ごとに色分けした横並びの棒グラフを描きます。`barmode='group'` を指定することで、グループごとに棒が並びます。"
   ]
  },
  {
   "cell_type": "code",
   "execution_count": null,
   "id": "195c8fd1",
   "metadata": {},
   "outputs": [],
   "source": [
    "fig = px.bar(acorn_weight_long, x='tree', y='value', color='item', barmode='group')\n",
    "fig.show()"
   ]
  },
  {
   "cell_type": "markdown",
   "id": "5369c800",
   "metadata": {},
   "source": [
    "なお、`barmode` を省略した場合は、積み上げ棒グラフが描かれます。"
   ]
  },
  {
   "cell_type": "code",
   "execution_count": null,
   "id": "f73235e0",
   "metadata": {},
   "outputs": [],
   "source": [
    "fig = px.bar(acorn_weight_long, x='tree', y='value', color='item')\n",
    "fig.show()"
   ]
  },
  {
   "cell_type": "markdown",
   "id": "3776c5b7-3b4e-46da-ad6b-e2a063bf79ef",
   "metadata": {},
   "source": [
    "## ヒストグラム"
   ]
  },
  {
   "cell_type": "markdown",
   "id": "0d70af19",
   "metadata": {},
   "source": [
    "`histogram` 関数を使うと、数値データの分布をヒストグラムで可視化できます。たとえば、どんぐりの重さ（weight）の分布を表示するには、次のように書きます。"
   ]
  },
  {
   "cell_type": "code",
   "execution_count": null,
   "id": "bcc2f56d",
   "metadata": {},
   "outputs": [],
   "source": [
    "fig = px.histogram(acorn_data, x='weight')\n",
    "fig.show()"
   ]
  },
  {
   "cell_type": "markdown",
   "id": "ce8f2ae8",
   "metadata": {},
   "source": [
    "`color` オプションを使うと、どんぐりの樹種（tree）ごとに色分けしたヒストグラムを描くことができます。複数個のヒストグラムがある場合、`barmode='overlay'` を使うことで、重ねて表示されるようになります。また、`nbins` でビン（棒）の数を指定することができます。"
   ]
  },
  {
   "cell_type": "code",
   "execution_count": null,
   "id": "77a17cda",
   "metadata": {},
   "outputs": [],
   "source": [
    "fig = px.histogram(acorn_data, x='weight', color='tree', nbins=20, barmode='overlay')\n",
    "fig.show()"
   ]
  },
  {
   "cell_type": "markdown",
   "id": "1b2751a6",
   "metadata": {},
   "source": [
    "`histogram` 関数の `marginal` オプションを使えば、ヒストグラムの上部にボックスプロットを追加することができます。マウスをボックスプロットに載せると、各種の要約統計量を確認することができます。"
   ]
  },
  {
   "cell_type": "code",
   "execution_count": null,
   "id": "2e2af01d",
   "metadata": {},
   "outputs": [],
   "source": [
    "fig = px.histogram(acorn_data, x='weight', color='tree', nbins=20, barmode='overlay', marginal='box')\n",
    "fig.show()"
   ]
  },
  {
   "cell_type": "code",
   "execution_count": null,
   "id": "be3edd37",
   "metadata": {
    "tags": [
     "remove-cell"
    ]
   },
   "outputs": [],
   "source": [
    "!rm acorns.clean.csv\n",
    "!rm cinsueta_exp.csv"
   ]
  }
 ],
 "metadata": {
  "kernelspec": {
   "display_name": "ebook",
   "language": "python",
   "name": "python3"
  },
  "language_info": {
   "codemirror_mode": {
    "name": "ipython",
    "version": 3
   },
   "file_extension": ".py",
   "mimetype": "text/x-python",
   "name": "python",
   "nbconvert_exporter": "python",
   "pygments_lexer": "ipython3",
   "version": "3.11.4"
  }
 },
 "nbformat": 4,
 "nbformat_minor": 5
}
