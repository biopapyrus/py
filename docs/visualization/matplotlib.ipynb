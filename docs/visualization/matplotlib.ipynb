{
 "cells": [
  {
   "cell_type": "code",
   "execution_count": null,
   "id": "44fd7595",
   "metadata": {
    "tags": [
     "remove-cell"
    ]
   },
   "outputs": [],
   "source": [
    "import os\n",
    "import sys\n",
    "sys.path.append(os.path.abspath('..'))\n",
    "from config import *"
   ]
  },
  {
   "cell_type": "markdown",
   "id": "dbfac003-7201-4d4d-9d78-195d31219a0c",
   "metadata": {
    "editable": true,
    "slideshow": {
     "slide_type": ""
    },
    "tags": []
   },
   "source": [
    "(section-matplotlib)=\n",
    "# Matplotlib"
   ]
  },
  {
   "cell_type": "markdown",
   "id": "5c60c5a4",
   "metadata": {},
   "source": [
    "Matplotlib は、グラフや図の作成に最も広く使われている基本的な可視化ライブラリです。学術論文用のグラフからデータ分析やプレゼンテーション資料まで、さまざまな用途に対応しています。また、Matplotlib は NumPy や Pandas といった数値計算・データ処理ライブラリと相性が良く、科学技術計算や機械学習の分野でも頻繁に利用されています。さらに、Seaborn や Pandas など、Matplotlib を土台とした可視化ライブラリも多数存在し、Python における可視化の中心的な存在となっています。"
   ]
  },
  {
   "cell_type": "markdown",
   "id": "f7f380a6",
   "metadata": {},
   "source": [
    "## Matplotlib ライブラリー"
   ]
  },
  {
   "cell_type": "markdown",
   "id": "b8b2f4c9",
   "metadata": {},
   "source": [
    "Matplotlib でグラフを描く際には、主に pyplot モジュールを使います。以下のようにインポートして利用します。"
   ]
  },
  {
   "cell_type": "code",
   "execution_count": null,
   "id": "dbccf006",
   "metadata": {},
   "outputs": [],
   "source": [
    "import matplotlib.pyplot as plt"
   ]
  },
  {
   "cell_type": "markdown",
   "id": "ea6d1943",
   "metadata": {},
   "source": [
    "なお、本書ではグラフを見やすくするため、Matplotlib の表示設定を変更しています。そのため、本書のコードをそのまま実行しても同じ見た目のグラフが描かれない場合があります。本書と同じスタイルのグラフを描きたい場合は、Matplotlib をインポートした直後に以下のコードを一度だけ実行してください。これにより、以降描かれるグラフは本書のスタイルに統一されます。\n",
    "\n",
    "\n",
    "```python\n",
    "import matplotlib.pyplot as plt\n",
    "\n",
    "plt.style.use('ggplot')\n",
    "plt.rcParams['figure.figsize'] = [16, 12]\n",
    "plt.rcParams['figure.dpi'] = 300\n",
    "plt.rcParams['legend.fontsize'] = 28\n",
    "plt.rcParams['lines.markersize'] = 18\n",
    "plt.rcParams['lines.linewidth'] = 3\n",
    "plt.rcParams['axes.prop_cycle'] = plt.cycler(color=['#666666', '#E69F00', '#56B4E9', '#009E73',\n",
    "                                                    '#F0E442', '#0072B2', '#D55E00', '#CC79A7'])\n",
    "plt.rcParams['font.family'] = 'Helvetica Neue' \n",
    "plt.rcParams['font.size'] = 32\n",
    "```"
   ]
  },
  {
   "cell_type": "markdown",
   "id": "5450edf4-46f1-45db-b78b-b9f75bc916a5",
   "metadata": {
    "editable": true,
    "slideshow": {
     "slide_type": ""
    },
    "tags": []
   },
   "source": [
    "## インターフェース"
   ]
  },
  {
   "attachments": {},
   "cell_type": "markdown",
   "id": "b02f741f-11ca-42d9-a04a-5ad01508cc3b",
   "metadata": {
    "editable": true,
    "slideshow": {
     "slide_type": ""
    },
    "tags": []
   },
   "source": [
    "Matplotlib でグラフを描く方法には、大きく分けて２通りあります。一つは、オブジェクト指向的に操作する object-oriented interface、もう一つは MATLAB や R で使われているような state-based interface です。どちらも同じグラフを描けますが、操作の仕方が異なります。\n",
    "\n",
    "object-oriented interface では、まずグラフの描画領域（Figure）や座標軸（Axes）といったオブジェクトを作成し、それらを使って描画します。例えば、散布図を描く場合は次のようになります。"
   ]
  },
  {
   "cell_type": "code",
   "execution_count": null,
   "id": "c4b23cf1",
   "metadata": {
    "tags": [
     "hide-output"
    ]
   },
   "outputs": [],
   "source": [
    "x = [2.27, 1.98, 2.08, 2.18, 2.20, 2.19, 2.16, 2.20, 2.26, 2.35]\n",
    "y = [5.55, 4.62, 5.05, 5.44, 5.60, 4.83, 5.55, 5.13, 6.03, 7.41]\n",
    "\n",
    "fig = plt.figure()\n",
    "ax = fig.add_subplot()\n",
    "ax.scatter(x, y)\n",
    "\n",
    "plt.show()"
   ]
  },
  {
   "cell_type": "markdown",
   "id": "193385d2",
   "metadata": {},
   "source": [
    "一方、state-based interface は、オブジェクトを意識せず、直接関数を呼び出して描くスタイルです。object-oriented interface に比べると簡潔に書けるのが特徴的です。"
   ]
  },
  {
   "cell_type": "code",
   "execution_count": null,
   "id": "2bf8f197",
   "metadata": {
    "tags": [
     "hide-output"
    ]
   },
   "outputs": [],
   "source": [
    "plt.scatter(x, y)\n",
    "plt.show()"
   ]
  },
  {
   "cell_type": "markdown",
   "id": "00246a3d",
   "metadata": {},
   "source": [
    "MATLAB や R に慣れている人には state-based interface の方が直感的で扱いやすいかもしれません。\n",
    "\n",
    "Python では、さまざまな場面でオブジェクト指向の考え方に触れることになります。そのため、本節ではオブジェクト指向に基づいた object-oriented interface を中心に解説します。なお、インターネット上にある Matplotlib のサンプルコードでは、object-oriented interface と state-based interface の両方が混在して使われていることがあります。コードを参考にする際には、「どちらのインタフェースで書かれているか」を意識して読むと、混乱を避けることができます。"
   ]
  },
  {
   "cell_type": "markdown",
   "id": "8ee9a0cb",
   "metadata": {},
   "source": [
    "## グラフの保存方法"
   ]
  },
  {
   "cell_type": "markdown",
   "id": "f66ea08a",
   "metadata": {},
   "source": [
    "Pythonで描いたグラフは、変数と同様に、明示的に表示する命令がなければ画面には表示されず、pyplot モジュール（`plt`）内に保持されます。グラフを画面に表示するには、pyplot モジュールの `show` メソッドを使います。たとえば、前述の例ではグラフを描いたあとに `plt.show()` を実行しており、これによってグラフが画面上に表示されます。\n",
    "\n",
    "一方、グラフをファイルとして保存したい場合は、`show` の代わりに `savefig` メソッドを使います。たとえば、PNG 形式で保存する場合は、次のように指定します。なお、保存フォーマットは PNG のほかに PDF、PS、EPS、SVG なども選択可能です。\n",
    "\n",
    "\n",
    "```python\n",
    "plt.scatter(x, y)\n",
    "plt.savefig('kunugi_weights_heights.png', format='png')\n",
    "```\n",
    "\n",
    "`show` メソッドを実行すると、グラフが画面に表示された後に、`plt` 内のグラフデータが自動的に削除されます。そのため、グラフの保存と表示の両方を行いたい場合は、必ず `savefig` を先に実行してください。"
   ]
  }
 ],
 "metadata": {
  "kernelspec": {
   "display_name": "ebook",
   "language": "python",
   "name": "python3"
  },
  "language_info": {
   "codemirror_mode": {
    "name": "ipython",
    "version": 3
   },
   "file_extension": ".py",
   "mimetype": "text/x-python",
   "name": "python",
   "nbconvert_exporter": "python",
   "pygments_lexer": "ipython3",
   "version": "3.11.4"
  }
 },
 "nbformat": 4,
 "nbformat_minor": 5
}
