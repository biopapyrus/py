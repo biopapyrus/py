{
 "cells": [
  {
   "cell_type": "markdown",
   "id": "c41267bc-4d2e-49b9-b1ff-951d4c874bca",
   "metadata": {},
   "source": [
    "# コンピュータとプログラミング言語"
   ]
  },
  {
   "cell_type": "markdown",
   "id": "6cfc21c2",
   "metadata": {},
   "source": [
    "本章では、コンピュータを動かすしくみや、それを構成するさまざまな部品についてわかりやすく説明します。ハードウェアやソフトウェア、コマンド、シェルなど、基本的な用語にも触れていきます。また、Python の学習を始めるために必要な準備や、開発環境の整え方についても紹介します。これから、パソコンの中にあなた専用の実験室をつくっていきます。安心してください、爆発の心配はありません。今のところ。"
   ]
  }
 ],
 "metadata": {
  "kernelspec": {
   "display_name": "Python 3 (ipykernel)",
   "language": "python",
   "name": "python3"
  },
  "language_info": {
   "codemirror_mode": {
    "name": "ipython",
    "version": 3
   },
   "file_extension": ".py",
   "mimetype": "text/x-python",
   "name": "python",
   "nbconvert_exporter": "python",
   "pygments_lexer": "ipython3",
   "version": "3.11.4"
  }
 },
 "nbformat": 4,
 "nbformat_minor": 5
}
