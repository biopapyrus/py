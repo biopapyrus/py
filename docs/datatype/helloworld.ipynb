{
 "cells": [
  {
   "cell_type": "markdown",
   "id": "ce4aa2ce-ffd9-41e9-90db-bf68a5597507",
   "metadata": {
    "editable": true,
    "slideshow": {
     "slide_type": ""
    },
    "tags": []
   },
   "source": [
    "# Hello World"
   ]
  },
  {
   "cell_type": "markdown",
   "id": "805b3058-1479-418c-8c9f-3a50b1a3f55e",
   "metadata": {
    "editable": true,
    "slideshow": {
     "slide_type": ""
    },
    "tags": []
   },
   "source": [
    "```{epigraph}\n",
    "The only way to learn a new programming language is by writing programs in it.\n",
    "\n",
    "-- Dennis M. Ritchie\n",
    "```\n",
    "\n",
    "新しいプログラミング言語を学ぶ唯一の道は、それでプログラムを書いてみることである。そう書かれているのは C 言語の入門書である『The C Programming Language』{cite}`Kernighan88`。この本は、プログラミング言語を学ぶには、コードを書いて、実行し、その結果を出力することを通して学ぶのが重要であると教えています。その例題として紹介されているのが「hello, world」を画面に出力するプログラムです。以来、多くのプログラミング言語で、「hello, world」や「Hello World!」を画面に表示することが、最初の練習として広く用いられています。\n",
    "\n",
    "では、Python で「hello, world」を画面に出力してみましょう。"
   ]
  },
  {
   "cell_type": "code",
   "execution_count": null,
   "id": "bc2a9d1f",
   "metadata": {},
   "outputs": [],
   "source": [
    "print('hello, world')"
   ]
  },
  {
   "cell_type": "markdown",
   "id": "6296f84c",
   "metadata": {},
   "source": [
    "このコードの `print` は関数と呼ばれ、括弧の中に書かれたデータを画面に出力する機能を持っています。この場合、`print` 関数は `hello, world` という文字データを受け取り、画面に出力しています。プログラムを実行して画面に「hello, world」と表示されれば、最初のステップは成功です。\n",
    "\n",
    "もちろん、この一行で世界が変わるわけではありません。空は今日も雲まかせ、冷蔵庫にはあいかわらず昨日のコーラが置かれています。でも、あなたの指先からプログラムが動き出した瞬間です。しかも、バグなし。それって、けっこうすごいことなんです。\n",
    "\n",
    "次は、「hello, world」のかわりに、`Smile. Tomorrow will be worse.` を表示してみましょう。"
   ]
  },
  {
   "cell_type": "code",
   "execution_count": null,
   "id": "997acde8",
   "metadata": {
    "tags": [
     "hide-cell"
    ]
   },
   "outputs": [],
   "source": [
    "print('Smile. Tomorrow will be worse.')"
   ]
  },
  {
   "cell_type": "markdown",
   "id": "17872494",
   "metadata": {},
   "source": [
    "そうです、もうお気づきかもしれませんが、この節は本書でいちばん簡単な内容です。これからは、ちょっとずつ難しくなっていきます。さあ、Python の冒険はまだ始まったばかり。道に迷ったら `print('Help!')` と書いてください。誰も助けに来ませんが、気持ちはスッキリします。\n"
   ]
  },
  {
   "cell_type": "markdown",
   "id": "59279ac8",
   "metadata": {},
   "source": [
    "\n",
    "```{bibliography} ../references.bib\n",
    ":filter: docname in docnames\n",
    ":style: plain\n",
    "```\n"
   ]
  }
 ],
 "metadata": {
  "kernelspec": {
   "display_name": "book",
   "language": "python",
   "name": "python3"
  },
  "language_info": {
   "codemirror_mode": {
    "name": "ipython",
    "version": 3
   },
   "file_extension": ".py",
   "mimetype": "text/x-python",
   "name": "python",
   "nbconvert_exporter": "python",
   "pygments_lexer": "ipython3",
   "version": "3.11.4"
  }
 },
 "nbformat": 4,
 "nbformat_minor": 5
}
