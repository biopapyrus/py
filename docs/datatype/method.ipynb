{
 "cells": [
  {
   "cell_type": "markdown",
   "id": "4e885e7a-2f74-4fa2-8a39-21181f2df375",
   "metadata": {
    "editable": true,
    "slideshow": {
     "slide_type": ""
    },
    "tags": []
   },
   "source": [
    "```{index} めそっど\n",
    ":name: メソッド\n",
    "```\n",
    "\n",
    "(section-method)=\n",
    "# メソッド"
   ]
  },
  {
   "cell_type": "markdown",
   "id": "4bf83a7c",
   "metadata": {},
   "source": [
    "複数の値を保持できるデータ型として、[リスト](section-list)と[辞書](section-dict)を紹介しました。これらは、単にデータを格納するだけでなく、**メソッド**（**method**）と呼ばれる機能（関数）も備えています。これまでに紹介したいくつかの関数は、引数としてデータを受け取り、それを処理して結果を返す、独立した処理の単位です。一方、メソッドは、特定のデータ型に属する関数であり、そのデータ型の[オブジェクト](content-object)に紐づいています。メソッドは、そのオブジェクト自身が保持しているデータを操作したり、取得したりするための機能です。\n",
    "\n",
    "メソッドと関数、動きは似てるけど立場が違います。メソッドは大企業、関数は下請け零細企業。表向きはどっちも優秀に見えるけど、責任の押しつけ先が違うんです。大企業は、ルール完備かつ保守万全で、信頼感たっぷり。でもいざ面倒ごとになると「それ、うちの管轄じゃないんで」と言って下請けに丸投げ。しかも、ミスった時は、「使い方が悪い」とか「仕様です」でとぼけるのが常套手段。結局バグ出すのも尻拭いするのも、いつも下請け側。"
   ]
  },
  {
   "cell_type": "markdown",
   "id": "7c844684",
   "metadata": {},
   "source": [
    "## リストのメソッド"
   ]
  },
  {
   "cell_type": "markdown",
   "id": "ac51d711",
   "metadata": {},
   "source": [
    "### 要素の並べ替え"
   ]
  },
  {
   "cell_type": "markdown",
   "id": "d765155e",
   "metadata": {},
   "source": [
    "リストの要素の並べ替えを例に、メソッドについて説明します。リストの要素が数値で構成されている場合、これらを並べ替えるには、Python の組み込み関数 `sorted` を利用することができます。たとえば、リスト `x` を `sorted` 関数に渡して、その処理結果を `y` に保存すると、`y` は `x` を並べ替えた新しいリストになります。このとき、元のリスト `x` は変更されません。"
   ]
  },
  {
   "cell_type": "code",
   "execution_count": null,
   "id": "348444d4",
   "metadata": {},
   "outputs": [],
   "source": [
    "x = [2.80, 2.54, 2.28, 2.33, 2.41]\n",
    "y = sorted(x)\n",
    "y"
   ]
  },
  {
   "cell_type": "code",
   "execution_count": null,
   "id": "05043f87",
   "metadata": {},
   "outputs": [],
   "source": [
    "x"
   ]
  },
  {
   "cell_type": "markdown",
   "id": "e0d51073",
   "metadata": {},
   "source": [
    "一方、メソッドとは、特定のデータ型に固有の関数のことを指します。たとえば、リストには `sort` メソッドが定義されているため、リスト型で保存されているすべてのオブジェクトはこの `sort` メソッドを使うことができます。実際に、リスト `x` に対して `sort` メソッドを適用してみましょう。"
   ]
  },
  {
   "cell_type": "code",
   "execution_count": null,
   "id": "4a25d578",
   "metadata": {},
   "outputs": [],
   "source": [
    "x = [2.80, 2.54, 2.28, 2.33, 2.41]\n",
    "x.sort()\n",
    "x"
   ]
  },
  {
   "cell_type": "markdown",
   "id": "4bb538c1",
   "metadata": {},
   "source": [
    "このように、`x.sort()` を実行すると、リスト `x` の要素が並べ替えられていることが確認できるはずです。つまり、あるオブジェクトに属しているメソッドを使うと、そのオブジェクト自身のデータが変更されます。これがメソッドの特徴です。\n",
    "\n",
    "なお、要素を降順で並べたい場合は、`sort` メソッドに `reverse=True` というオプションを指定します。"
   ]
  },
  {
   "cell_type": "code",
   "execution_count": null,
   "id": "f8d9bbf5",
   "metadata": {},
   "outputs": [],
   "source": [
    "x = [2.80, 2.54, 2.28, 2.33, 2.41]\n",
    "x.sort(reverse=True)\n",
    "x"
   ]
  },
  {
   "cell_type": "markdown",
   "id": "c019d488",
   "metadata": {},
   "source": [
    "### 要素の追加"
   ]
  },
  {
   "cell_type": "markdown",
   "id": "f808a35a",
   "metadata": {},
   "source": [
    "一度作成したリストに対して、要素の追加や削除を行うことができます。特に、リストに要素を追加する操作は非常によく使われます。例えば、ファイルの各行からデータを抽出する場合、あらかじめ行数が分からないため、まず空のリストを用意し、1 行ずつ処理しながら抽出した情報をリストに追加する、といった使い方が一般的です。\n",
    "\n",
    "リストの末尾に要素を1つ追加するには、`append` メソッドを使用します。"
   ]
  },
  {
   "cell_type": "code",
   "execution_count": null,
   "id": "0da7765e",
   "metadata": {},
   "outputs": [],
   "source": [
    "x = [2.80, 2.54, 2.28, 2.33, 2.41]\n",
    "x.append(2.55)\n",
    "x"
   ]
  },
  {
   "cell_type": "markdown",
   "id": "eb1f8fba",
   "metadata": {},
   "source": [
    "ただし、`append` にリストを渡すと、そのリスト全体が一つの要素として追加され、入れ子構造になります。"
   ]
  },
  {
   "cell_type": "code",
   "execution_count": null,
   "id": "cfa62705",
   "metadata": {},
   "outputs": [],
   "source": [
    "x = [2.80, 2.54, 2.28, 2.33, 2.41]\n",
    "x.append([2.55, 2.66, 2.67])\n",
    "x"
   ]
  },
  {
   "cell_type": "markdown",
   "id": "5286e53a",
   "metadata": {},
   "source": [
    "複数の要素を個別に追加したい場合は、`extend` メソッドを使います。"
   ]
  },
  {
   "cell_type": "code",
   "execution_count": null,
   "id": "045676a1",
   "metadata": {},
   "outputs": [],
   "source": [
    "x = [2.80, 2.54, 2.28, 2.33, 2.41]\n",
    "x.extend([2.55, 2.66, 2.67])\n",
    "x"
   ]
  },
  {
   "cell_type": "markdown",
   "id": "d5bba4dd",
   "metadata": {},
   "source": [
    "任意の位置に要素を挿入するには、`insert` メソッドを使います。第一引数に挿入位置のインデックス、第二引数に挿入する値を指定します。"
   ]
  },
  {
   "cell_type": "code",
   "execution_count": null,
   "id": "abb15d20",
   "metadata": {},
   "outputs": [],
   "source": [
    "x = [2.80, 2.54, 2.28, 2.33, 2.41]\n",
    "x.insert(0, 2.55)\n",
    "x"
   ]
  },
  {
   "cell_type": "code",
   "execution_count": null,
   "id": "86c9dcb4",
   "metadata": {},
   "outputs": [],
   "source": [
    "x = [2.80, 2.54, 2.28, 2.33, 2.41]\n",
    "x.insert(3, 2.66)\n",
    "x"
   ]
  },
  {
   "cell_type": "markdown",
   "id": "62ab74ac",
   "metadata": {},
   "source": [
    "### 要素の削除"
   ]
  },
  {
   "cell_type": "markdown",
   "id": "d5622009",
   "metadata": {},
   "source": [
    "リストから要素を削除するには、`pop` メソッドを使います。インデックスを指定すると、その位置の要素が削除されます。"
   ]
  },
  {
   "cell_type": "code",
   "execution_count": null,
   "id": "8bf1d2f6",
   "metadata": {},
   "outputs": [],
   "source": [
    "x = [2.80, 2.54, 2.28, 2.33, 2.41]\n",
    "x.pop(2)\n",
    "x"
   ]
  },
  {
   "cell_type": "markdown",
   "id": "42ae8e43",
   "metadata": {},
   "source": [
    "インデックスを指定しない場合は、末尾の要素が削除されます。"
   ]
  },
  {
   "cell_type": "code",
   "execution_count": null,
   "id": "d15c6b7f",
   "metadata": {},
   "outputs": [],
   "source": [
    "x = [2.80, 2.54, 2.28, 2.33, 2.41]\n",
    "x.pop(3)\n",
    "x"
   ]
  },
  {
   "cell_type": "markdown",
   "id": "32242f6a",
   "metadata": {},
   "source": [
    "プログラムの実行中、特にリストの各要素に対して繰り返し処理をしている最中に、要素の追加や削除を行うと、リストの長さが変化してしまいます。その結果、一部の要素が複数回処理されたり、逆に処理されなかったりする可能性があります。リストの中身を変更しながら処理する際は、コピーして使うなどの工夫が必要です。"
   ]
  },
  {
   "cell_type": "markdown",
   "id": "021a866f",
   "metadata": {},
   "source": [
    "## 辞書のメソッド"
   ]
  },
  {
   "cell_type": "markdown",
   "id": "9889252d",
   "metadata": {},
   "source": [
    "### 要素の追加"
   ]
  },
  {
   "cell_type": "markdown",
   "id": "8f9a18a0",
   "metadata": {},
   "source": [
    "辞書に要素を追加するときは、キーを指定して値を代入します。"
   ]
  },
  {
   "cell_type": "code",
   "execution_count": null,
   "id": "9af77ef1",
   "metadata": {},
   "outputs": [],
   "source": [
    "acorn_weights = {\n",
    "    'kunugi': 3.45,\n",
    "    'arakashi': 1.42,\n",
    "    'shirakashi': 1.73\n",
    "}\n",
    "acorn_weights['matebashii'] = 2.78\n",
    "\n",
    "acorn_weights"
   ]
  },
  {
   "cell_type": "markdown",
   "id": "ce1e3769",
   "metadata": {},
   "source": [
    "複数の要素をまとめて追加するときは、`update` メソッドを使います。このとき、追加したい要素を辞書の形で用意しておく必要があります。"
   ]
  },
  {
   "cell_type": "code",
   "execution_count": null,
   "id": "058c3ee5",
   "metadata": {},
   "outputs": [],
   "source": [
    "acorn_weights = {\n",
    "    'kunugi': 3.45,\n",
    "    'arakashi': 1.42,\n",
    "    'shirakashi': 1.73\n",
    "}\n",
    "\n",
    "new_data = {\n",
    "    'matebashii': 2.78,\n",
    "    'konara': 1.63\n",
    "}\n",
    "\n",
    "acorn_weights.update(new_data)\n",
    "\n",
    "acorn_weights"
   ]
  },
  {
   "cell_type": "markdown",
   "id": "1fee40ce",
   "metadata": {},
   "source": [
    "### 要素の削除"
   ]
  },
  {
   "cell_type": "markdown",
   "id": "bb95f1e8",
   "metadata": {},
   "source": [
    "辞書から要素を削除するときは、`pop` メソッドを利用します。削除したい要素のキーを引数として渡します。"
   ]
  },
  {
   "cell_type": "code",
   "execution_count": null,
   "id": "f0f11049",
   "metadata": {},
   "outputs": [],
   "source": [
    "acorn_weights = {\n",
    "    'kunugi': 3.45,\n",
    "    'arakashi': 1.42,\n",
    "    'shirakashi': 1.73\n",
    "}\n",
    "\n",
    "acorn_weights.pop('kunugi')\n",
    "\n",
    "acorn_weights"
   ]
  },
  {
   "cell_type": "markdown",
   "id": "5e5533e7",
   "metadata": {},
   "source": [
    "なお、`popitem` メソッドは辞書の最後の要素を削除します。また、`clear` メソッドを使うと辞書の全要素を一括で削除できます。必要に応じて使い分けてください。"
   ]
  }
 ],
 "metadata": {
  "kernelspec": {
   "display_name": "ebook",
   "language": "python",
   "name": "python3"
  },
  "language_info": {
   "codemirror_mode": {
    "name": "ipython",
    "version": 3
   },
   "file_extension": ".py",
   "mimetype": "text/x-python",
   "name": "python",
   "nbconvert_exporter": "python",
   "pygments_lexer": "ipython3",
   "version": "3.11.4"
  }
 },
 "nbformat": 4,
 "nbformat_minor": 5
}
