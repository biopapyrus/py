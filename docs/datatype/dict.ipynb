{
 "cells": [
  {
   "cell_type": "markdown",
   "id": "f6b975c1-763e-44bf-a7ac-d38ca0b65c11",
   "metadata": {
    "editable": true,
    "slideshow": {
     "slide_type": ""
    },
    "tags": []
   },
   "source": [
    "```{index} 辞書\n",
    ":name: 辞書\n",
    "```\n",
    "\n",
    "(section-dict)=\n",
    "# 辞書"
   ]
  },
  {
   "attachments": {},
   "cell_type": "markdown",
   "id": "55a923af-d8cb-4858-a495-d275c2a35182",
   "metadata": {
    "editable": true,
    "slideshow": {
     "slide_type": ""
    },
    "tags": []
   },
   "source": [
    "**辞書**（**dictionary**）は、**キー**（**key**）と**値**（**value**）の組み合わせでデータを管理するデータ構造です。リストのようにインデックス番号で値を参照するのではなく、「キー」を使って目的の値を取り出す点が特徴です。キーは一意である必要があり、重複することはできません。そのため、データの数が増えても管理がしやすく、コードの可読性や保守性が高まります。なお、「辞書」はカタカナで**ディクショナリ**と呼ばれることも多く、特にプログラミングにおいてはそちらの呼び方が一般的です。\n",
    "\n",
    "辞書では、キーと値のペアをコロン（`:`）でつなぎ、全体を波かっこ（`{}`）で囲んで定義します。どんぐりの価格管理システムを辞書で作ってみましょう。100 円のコナラを登録する場合、キーに`'コナラ'`、値に `100` を指定して、次のように書きます。"
   ]
  },
  {
   "cell_type": "code",
   "execution_count": null,
   "id": "b7f8009f",
   "metadata": {},
   "outputs": [],
   "source": [
    "prices = {'コナラ': 100}"
   ]
  },
  {
   "cell_type": "markdown",
   "id": "271883c6",
   "metadata": {},
   "source": [
    "複数のどんぐりを登録したいときは、キーと値のペアをカンマ（`,`）で区切って並べます。"
   ]
  },
  {
   "cell_type": "code",
   "execution_count": null,
   "id": "4227e51f",
   "metadata": {},
   "outputs": [],
   "source": [
    "prices = {\n",
    "    'コナラ': 100,\n",
    "    'ミズナラ': 110,\n",
    "    'シラカシ': 80,\n",
    "    'アラカシ': 90,\n",
    "    'アベマキ': 320,\n",
    "    'クヌギ': 300,\n",
    "    'スタジイ': 80,\n",
    "    'マテバシイ': 180\n",
    "}"
   ]
  },
  {
   "cell_type": "markdown",
   "id": "86ceb05c",
   "metadata": {},
   "source": [
    "この辞書を使えば、どんぐりの名前を指定するだけで、その価格を簡単に取り出せます。たとえば、コナラの価格を調べたい場合は次のように書きます。ここで注意したいのは、辞書を作るときには `{}`を使いましたが、値を取り出すときには `[]` を使うという点です。括弧の形が違うので混同しないようにしましょう。"
   ]
  },
  {
   "cell_type": "code",
   "execution_count": null,
   "id": "2a548ba2",
   "metadata": {},
   "outputs": [],
   "source": [
    "prices['コナラ']"
   ]
  },
  {
   "cell_type": "markdown",
   "id": "6446deb6",
   "metadata": {},
   "source": [
    "では、この辞書を利用して、コナラ 1 つ、クヌギ 2 つ、スタジイ 2 つの合計金額を計算してみましょう。"
   ]
  },
  {
   "cell_type": "code",
   "execution_count": null,
   "id": "af4f4efb",
   "metadata": {
    "tags": [
     "hide-cell"
    ]
   },
   "outputs": [],
   "source": [
    "total = prices['コナラ'] + prices['クヌギ'] * 2 + prices['スタジイ'] * 2\n",
    "total"
   ]
  },
  {
   "cell_type": "markdown",
   "id": "b014ffdb",
   "metadata": {},
   "source": [
    "このように、辞書を使えば、データの登録順序を覚えていなくても、どんぐりの名前から価格を簡単に取り出せます。リスのレジ打ちも迷わずスピーディー。お釣りをごまかす暇もありません。"
   ]
  },
  {
   "cell_type": "markdown",
   "id": "bd80c38e",
   "metadata": {},
   "source": [
    "辞書に代入できる値は、数値だけではありません。リストなどの複雑なデータも扱うことができます。ここでは、クヌギ、アラカシ、コナラの木の下で収集したどんぐりの重さのデータを、辞書に保存する例を見てみましょう。\n",
    "\n",
    "| どんぐりの木 | どんぐりの重さ                 |\n",
    "|------------|------------------------------|\n",
    "| クヌギ      | 5.28, 6.77, 5.42, 6.03, 6.00 |\n",
    "| アラカシ    | 1.36, 1.42, 1.54, 1.30, 1.56 |\n",
    "| コナラ      | 1.61, 1.53, 1.25, 1.54, 1.20 |\n",
    "\n",
    "このデータを辞書に保存するために、まずは木の種類ごとにリストを作り、それぞれを変数に代入します。"
   ]
  },
  {
   "cell_type": "code",
   "execution_count": null,
   "id": "eeeb5fb2",
   "metadata": {},
   "outputs": [],
   "source": [
    "kunugi = [5.28, 6.77, 5.42, 6.03, 6.00]\n",
    "arakashi = [1.36, 1.42, 1.54, 1.30, 1.56]\n",
    "konara = [1.61, 1.53, 1.25, 1.54, 1.20]"
   ]
  },
  {
   "cell_type": "markdown",
   "id": "9042db4d",
   "metadata": {},
   "source": [
    "次に、木の名前をキーとして、どんぐりの重さのリストを値とする辞書を作成します。なお、先ほどの例でも見たように、キーには英数字だけでなく日本語を含むさまざまな文字を使うことができます。しかし、英数字以外の文字（日本語など）をキーに使うと、実行環境やコードの書き方によってはバグの原因になることがあります。そのため、この本では、今後はキーに英数字を使うことにします。\n",
    "\n",
    "では、以下のように辞書を作成してみましょう。"
   ]
  },
  {
   "cell_type": "code",
   "execution_count": null,
   "id": "ac58881c",
   "metadata": {},
   "outputs": [],
   "source": [
    "acorn_weights = {\n",
    "    'kunugi': kunugi,\n",
    "    'arakashi': arakashi,\n",
    "    'konara': konara\n",
    "}"
   ]
  },
  {
   "cell_type": "markdown",
   "id": "fcb72cd9",
   "metadata": {},
   "source": [
    "このように作られた辞書は、「辞書の中にリストが入っている」という入れ子構造（ネスト構造）になっています。この構造からどんぐりの重さを 1 つだけ取り出したいときは、まず、木の名前（キー）を使ってリスト全体を取得し、次に、そのリストの中から位置を指定して、特定の要素を取り出します。\n",
    "\n",
    "たとえば、1 つ目のクヌギどんぐりの重さを取り出す場合は、次のように書きます。"
   ]
  },
  {
   "cell_type": "code",
   "execution_count": null,
   "id": "a2ae0e62",
   "metadata": {},
   "outputs": [],
   "source": [
    "acorn_weights['kunugi'][0]"
   ]
  },
  {
   "cell_type": "markdown",
   "id": "010e1475",
   "metadata": {},
   "source": [
    "ここでは、`['kunugi']` で「クヌギのリスト全体」を取得し、そのあと `[0]` で「最初の要素（1 つ目のどんぐりの重さ）」を取り出しています。\n",
    "\n",
    "他の例をみてみましょう。4 番目のコナラどんぐりの重さを取得するには、次のように指定します。"
   ]
  },
  {
   "cell_type": "code",
   "execution_count": null,
   "id": "ea91aeb1",
   "metadata": {},
   "outputs": [],
   "source": [
    "acorn_weights['konara'][3]"
   ]
  },
  {
   "cell_type": "markdown",
   "id": "bc556be9",
   "metadata": {},
   "source": [
    "なお、リストを個別に定義せず、最初から辞書に直接リストを指定することもできます。"
   ]
  },
  {
   "cell_type": "code",
   "execution_count": null,
   "id": "97a2c6d4",
   "metadata": {},
   "outputs": [],
   "source": [
    "acorn_weights = {\n",
    "    'kashiwa': [5.28, 6.77, 5.42, 6.03, 6.00],\n",
    "    'arakashi': [1.36, 1.42, 1.54, 1.30, 1.56],\n",
    "    'konara': [1.61, 1.53, 1.25, 1.54, 1.20]\n",
    "}"
   ]
  },
  {
   "cell_type": "markdown",
   "id": "157f77f3",
   "metadata": {},
   "source": [
    "このように、辞書を使うと、木の種類ごとにどんぐりのデータを整理して効率的に管理することができます。"
   ]
  }
 ],
 "metadata": {
  "kernelspec": {
   "display_name": "book",
   "language": "python",
   "name": "python3"
  },
  "language_info": {
   "codemirror_mode": {
    "name": "ipython",
    "version": 3
   },
   "file_extension": ".py",
   "mimetype": "text/x-python",
   "name": "python",
   "nbconvert_exporter": "python",
   "pygments_lexer": "ipython3",
   "version": "3.11.4"
  }
 },
 "nbformat": 4,
 "nbformat_minor": 5
}
