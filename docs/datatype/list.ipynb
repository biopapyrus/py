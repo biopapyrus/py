{
 "cells": [
  {
   "cell_type": "markdown",
   "id": "4e885e7a-2f74-4fa2-8a39-21181f2df375",
   "metadata": {
    "editable": true,
    "slideshow": {
     "slide_type": ""
    },
    "tags": []
   },
   "source": [
    "```{index} りすと\n",
    ":name: リスト\n",
    "```\n",
    "\n",
    "(section-list)=\n",
    "# リスト"
   ]
  },
  {
   "attachments": {},
   "cell_type": "markdown",
   "id": "2c850086-260c-4944-8f16-81afe0dd4737",
   "metadata": {
    "editable": true,
    "slideshow": {
     "slide_type": ""
    },
    "tags": []
   },
   "source": [
    "同じ性質を持つデータが増えると、それらのデータを個別の変数に代入して処理するのは非効率です。このとき、**リスト**（**list**）と呼ばれる**データ型**（**data type**）を使います。リストは、関連する複数のデータを 1 つにまとめて扱えるため、データ管理が容易になります。具体例を使って、リストの便利さを見ていきましょう。"
   ]
  },
  {
   "cell_type": "markdown",
   "id": "5fe1dca4",
   "metadata": {},
   "source": [
    "秋のある日、どんぐりを 5 つ拾いました。それぞれの重さを測定したところ、2.80g、2.54g、2.28g、2.33g、2.41g であることがわかりました。これらの平均を計算してみます。まずは、これまでに学んだ知識を活用して、個々の重さを変数に保存し、合計と平均を計算してみましょう。"
   ]
  },
  {
   "cell_type": "code",
   "execution_count": null,
   "id": "dd40ede8-513d-4965-9c74-a24a6dc1098c",
   "metadata": {
    "editable": true,
    "slideshow": {
     "slide_type": ""
    },
    "tags": []
   },
   "outputs": [],
   "source": [
    "acorn_1_weight = 2.80\n",
    "acorn_2_weight = 2.54\n",
    "acorn_3_weight = 2.28\n",
    "acorn_4_weight = 2.33\n",
    "acorn_5_weight = 2.41\n",
    "\n",
    "weight_sum = acorn_1_weight + acorn_2_weight + acorn_3_weight + acorn_4_weight + acorn_5_weight\n",
    "weight_ave = weight_sum / 5\n",
    "\n",
    "weight_ave"
   ]
  },
  {
   "cell_type": "markdown",
   "id": "174bfb3d",
   "metadata": {},
   "source": [
    "どんぐりが 5 個ならこの方法でも可能ですが、数が増えるとこの方法は扱いにくくなります。そこで、リストを利用します。リストを作るときは、複数の値を `,` で区切り、全体を `[` と `]` で囲みます。以下のコードは、5 つのどんぐりの重さをリスト `acorn_weights` に保存しています。"
   ]
  },
  {
   "cell_type": "code",
   "execution_count": null,
   "id": "65b91f90",
   "metadata": {},
   "outputs": [],
   "source": [
    "acorn_weights = [2.80, 2.54, 2.28, 2.33, 2.41]"
   ]
  },
  {
   "cell_type": "markdown",
   "id": "b6cebeab-0c4c-4676-96b8-a7c17febd2ea",
   "metadata": {
    "editable": true,
    "slideshow": {
     "slide_type": ""
    },
    "tags": []
   },
   "source": [
    "代入された値を表示させると、次のように出力されます。"
   ]
  },
  {
   "cell_type": "code",
   "execution_count": null,
   "id": "6537ed35-0877-4b7e-82e6-e6708ec9bcd0",
   "metadata": {
    "editable": true,
    "slideshow": {
     "slide_type": ""
    },
    "tags": []
   },
   "outputs": [],
   "source": [
    "acorn_weights"
   ]
  },
  {
   "cell_type": "markdown",
   "id": "c699d04e",
   "metadata": {},
   "source": [
    "リストに含まれる各値のことを**要素**（**element**）といいます。リストに含まれる全要素の数を、そのリストの**サイズ**（**size**）、**長さ**（**length**）、あるいは要素数といいます。リストのサイズを調べるには `len` 関数を利用します。"
   ]
  },
  {
   "cell_type": "code",
   "execution_count": null,
   "id": "02f53873-2dc9-4312-83c9-c8e7e77f3278",
   "metadata": {
    "editable": true,
    "slideshow": {
     "slide_type": ""
    },
    "tags": []
   },
   "outputs": [],
   "source": [
    "len(acorn_weights)"
   ]
  },
  {
   "cell_type": "markdown",
   "id": "cfa4b9f7",
   "metadata": {},
   "source": [
    "リスト内のすべての要素の合計を求めるときは `sum` 関数が便利です。"
   ]
  },
  {
   "cell_type": "code",
   "execution_count": null,
   "id": "4beb43d2",
   "metadata": {},
   "outputs": [],
   "source": [
    "sum(acorn_weights)"
   ]
  },
  {
   "cell_type": "markdown",
   "id": "e4246139",
   "metadata": {},
   "source": [
    "`len` と `sum` を組み合わせれば、次のように平均を簡単に計算できます。リストを使うと、コードがシンプルになり、誤入力のリスクも減らせます。"
   ]
  },
  {
   "cell_type": "code",
   "execution_count": null,
   "id": "50ca2f61",
   "metadata": {},
   "outputs": [],
   "source": [
    "acorn_weight_ave = sum(acorn_weights) / len(acorn_weights)\n",
    "acorn_weight_ave"
   ]
  },
  {
   "cell_type": "markdown",
   "id": "1487b02e-8775-445c-b02d-90ea6c0ba0be",
   "metadata": {
    "editable": true,
    "slideshow": {
     "slide_type": ""
    },
    "tags": []
   },
   "source": [
    "また、`min` 関数や `max` 関数を使えば、リストの最小値や最大値も簡単に取得できます。"
   ]
  },
  {
   "cell_type": "code",
   "execution_count": null,
   "id": "4d3f323d-ddbf-463e-828e-bee08702471f",
   "metadata": {
    "editable": true,
    "slideshow": {
     "slide_type": ""
    },
    "tags": []
   },
   "outputs": [],
   "source": [
    "min(acorn_weights)"
   ]
  },
  {
   "cell_type": "code",
   "execution_count": null,
   "id": "4f68fc7b-6af4-47a5-b541-4d083afedc17",
   "metadata": {
    "editable": true,
    "slideshow": {
     "slide_type": ""
    },
    "tags": []
   },
   "outputs": [],
   "source": [
    "max(acorn_weights)"
   ]
  },
  {
   "cell_type": "markdown",
   "id": "9f61e8c1",
   "metadata": {},
   "source": [
    "なお、Python の基本関数の中で、リストに含まれる要素の平均や分散を直接計算できる関数はありません。これらの計算を行うには、統計計算用のモジュールである statistics を利用します。math モジュールと同様に、`import` 文で statistics モジュールを読み込んでから使います。"
   ]
  },
  {
   "cell_type": "code",
   "execution_count": null,
   "id": "2b3894c4-8500-42f1-a8a3-72438cf9184b",
   "metadata": {
    "editable": true,
    "slideshow": {
     "slide_type": ""
    },
    "tags": []
   },
   "outputs": [],
   "source": [
    "import statistics"
   ]
  },
  {
   "cell_type": "markdown",
   "id": "f6de77f4-4c68-4946-bc9f-a841d3b307bb",
   "metadata": {
    "editable": true,
    "slideshow": {
     "slide_type": ""
    },
    "tags": []
   },
   "source": [
    "これで statistics に実装されているさまざまな統計計算用の関数を利用できるようになります。例えば、平均と分散を計算するには、それぞれ `mean` および `variance` 関数を使います。"
   ]
  },
  {
   "cell_type": "code",
   "execution_count": null,
   "id": "41942536-da43-4ec5-bac6-e8b1e2d77978",
   "metadata": {
    "editable": true,
    "slideshow": {
     "slide_type": ""
    },
    "tags": []
   },
   "outputs": [],
   "source": [
    "statistics.mean(acorn_weights)"
   ]
  },
  {
   "cell_type": "code",
   "execution_count": null,
   "id": "c90749d0",
   "metadata": {},
   "outputs": [],
   "source": [
    "statistics.variance(acorn_weights)"
   ]
  },
  {
   "cell_type": "markdown",
   "id": "5df109ef-a45c-437c-bbc9-334f49557d23",
   "metadata": {
    "editable": true,
    "slideshow": {
     "slide_type": ""
    },
    "tags": []
   },
   "source": [
    "```{index} へ 変動係数\n",
    ":name: 変動係数\n",
    "```\n",
    "\n",
    "````{admonition} 練習問題 DL-1\n",
    "**変動係数**（**Coefficient of Variation**）は、標準偏差 $\\sigma$ を平均値 $\\mu$ で割った値です。\n",
    "\n",
    "$$ \\text{CV} = \\frac{\\sigma}{\\mu} $$\n",
    "\n",
    "リスト `x` を受け取り、そのリストに含まれる要素の値の変動係数を計算するプログラムを作成してください。なお、標準偏差は分散の平方根です。\n",
    "\n",
    "```python\n",
    "x = [2.80, 2.54, 2.28, 2.33, 2.41]\n",
    "cv = None\n",
    "\n",
    "\n",
    "print(cv)\n",
    "```\n",
    "\n",
    "````\n",
    "\n",
    "```{admonition} 変動係数\n",
    ":class: tip\n",
    "\n",
    "変動係数は、単位の異なるデータや、平均値の異なるデータ同士のばらつきを相対的に評価するために用いられます。たとえば、ネズミとゾウの体重のばらつきを比べる場合、単純に標準偏差だけを見れば、当然ゾウのほうが大きなばらつきを示すことになります。これは、そもそものスケール（平均体重）が大きく異なるためです。変動係数は、標準偏差を平均値で割ることで算出され、単位をも持たない割合としてばらつきを表現します。こうすることで、ネズミとゾウのような異なるスケールのデータでも、公平に比較することが可能になります。変動係数は、動物園でも使える思いやりのある統計量なのです。\n",
    "```"
   ]
  },
  {
   "cell_type": "markdown",
   "id": "9e82223e-1fe3-4f78-953d-0d186be884d4",
   "metadata": {
    "editable": true,
    "slideshow": {
     "slide_type": ""
    },
    "tags": []
   },
   "source": [
    "上で紹介した `len` や `sum` 関数は、リストに含まれるすべての要素に対して計算したりします。これに対して、リストから個別の要素を取り出したいときは `[]` を利用します。リストの変数名の後に `[]` を付け、括弧の中に取り出したい要素の位置を書きます。なお、位置は、リストの左から 0、1、2、・・・のように付けられています。例えば、リスト `x` の最初の要素を取得するには、`x[0]` のように使います。Python に限らずほとんどのプログラミング言語の世界では、モノを数えるときは 0 から数え始めます。"
   ]
  },
  {
   "cell_type": "code",
   "execution_count": null,
   "id": "f836f340-5c52-4c4e-a2db-d12ea833fad8",
   "metadata": {
    "editable": true,
    "slideshow": {
     "slide_type": ""
    },
    "tags": []
   },
   "outputs": [],
   "source": [
    "x = [2.80, 2.54, 2.28, 2.33, 2.41]\n",
    "x[0]"
   ]
  },
  {
   "cell_type": "markdown",
   "id": "6ecf662c",
   "metadata": {},
   "source": [
    "リスト `x` の 2 番目の要素を取得するには、次のようにします。"
   ]
  },
  {
   "cell_type": "code",
   "execution_count": null,
   "id": "e0825c18-b2aa-4c15-8182-a60b287ccdd7",
   "metadata": {
    "editable": true,
    "slideshow": {
     "slide_type": ""
    },
    "tags": []
   },
   "outputs": [],
   "source": [
    "x[1]"
   ]
  },
  {
   "cell_type": "markdown",
   "id": "785697a9",
   "metadata": {},
   "source": [
    "リストを使って、どんぐり販売所の価格管理システムを作ってみましょう。このどんぐり販売所では、以下の表にある 8 種類のどんぐりを販売しています。\n",
    "\n",
    "| どんぐり | 値段 |\n",
    "|-----------|----:|\n",
    "| コナラ     | 100 |\n",
    "| ミズナラ    | 110 |\n",
    "| シラカシ    | 80 |\n",
    "| アラカシ    | 90 |\n",
    "| アベマキ    | 320 |\n",
    "| クヌギ     | 300 |\n",
    "| スタジイ    | 80 |\n",
    "| マテバシイ  | 180 |\n",
    "\n",
    "これらの価格をリストで管理してみましょう。"
   ]
  },
  {
   "cell_type": "code",
   "execution_count": null,
   "id": "dffe9b40",
   "metadata": {},
   "outputs": [],
   "source": [
    "prices = [100, 110, 80, 90, 320, 300, 80, 180]"
   ]
  },
  {
   "cell_type": "markdown",
   "id": "4eb97c75",
   "metadata": {},
   "source": [
    "次に、この価格管理システムを利用して価格計算をしてみよう。あるリスがコナラを 1 つ、クヌギを 2 つ、スタジイを 2 つ買ったとします。その合計金額を計算してみましょう。"
   ]
  },
  {
   "cell_type": "code",
   "execution_count": null,
   "id": "f59933e4",
   "metadata": {
    "tags": [
     "hide-cell"
    ]
   },
   "outputs": [],
   "source": [
    "total = prices[0] + prices[5] * 2 + prices[6] * 2\n",
    "total"
   ]
  },
  {
   "cell_type": "markdown",
   "id": "4bf83a7c",
   "metadata": {},
   "source": [
    "どうでしょうか。リストを使って価格を管理する場合、どのどんぐりがリストのどこにあるかを覚えておく必要があります。種類が少なければ、記憶力次第でなんとかなります。とはいえ、いちいち「コナラは何番目だったっけ？」と悩んでいたら、リスの行列に怒られてしまいます。もっとスマートな方法、あります。リスもびっくり、[辞書](section-dict)の出番です。"
   ]
  }
 ],
 "metadata": {
  "kernelspec": {
   "display_name": "ebook",
   "language": "python",
   "name": "python3"
  },
  "language_info": {
   "codemirror_mode": {
    "name": "ipython",
    "version": 3
   },
   "file_extension": ".py",
   "mimetype": "text/x-python",
   "name": "python",
   "nbconvert_exporter": "python",
   "pygments_lexer": "ipython3",
   "version": "3.11.4"
  }
 },
 "nbformat": 4,
 "nbformat_minor": 5
}
