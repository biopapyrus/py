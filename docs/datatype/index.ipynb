{
 "cells": [
  {
   "cell_type": "markdown",
   "id": "8274f3a0-4263-4bb8-98c7-16f43f45a7b1",
   "metadata": {
    "editable": true,
    "slideshow": {
     "slide_type": ""
    },
    "tags": []
   },
   "source": [
    "# 変数と算術計算"
   ]
  },
  {
   "cell_type": "markdown",
   "id": "a972e4a6-e7ae-483a-af6d-3f69ba7c6168",
   "metadata": {
    "editable": true,
    "slideshow": {
     "slide_type": ""
    },
    "tags": []
   },
   "source": [
    "本章では、プログラミング言語の基本となる変数の使い方と、簡単な算術演算について紹介します。後半では、複数のデータをまとめて扱うリストや辞書といったデータ構造の使い方について解説します。これらは、この章の後で登場するさまざまなデータを自在に扱うための土台となるため、ぜひ身につけておきましょう。ちなみに、変数にデータを渡すのは、Python に「これ、ちょっと持っててね」とお願いするようなものです。渡したデータはすぐ使われるかもしれませんし、明日には忘れられているかもしれません。プログラミング言語の世界は、意外とあっさりしているのです。"
   ]
  }
 ],
 "metadata": {
  "kernelspec": {
   "display_name": "book",
   "language": "python",
   "name": "python3"
  },
  "language_info": {
   "codemirror_mode": {
    "name": "ipython",
    "version": 3
   },
   "file_extension": ".py",
   "mimetype": "text/x-python",
   "name": "python",
   "nbconvert_exporter": "python",
   "pygments_lexer": "ipython3",
   "version": "3.11.4"
  }
 },
 "nbformat": 4,
 "nbformat_minor": 5
}
