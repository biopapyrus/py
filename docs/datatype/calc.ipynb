{
 "cells": [
  {
   "cell_type": "markdown",
   "id": "e2ba8f9c-f020-4083-9e00-7c81b09e83ba",
   "metadata": {
    "editable": true,
    "slideshow": {
     "slide_type": ""
    },
    "tags": []
   },
   "source": [
    "# 算術演算"
   ]
  },
  {
   "cell_type": "markdown",
   "id": "3f790738-824a-4411-8088-c5d036e7be03",
   "metadata": {},
   "source": [
    "Python を使って、簡単な計算をしてみましょう。まず、2 つの数値を用意し、これらを変数に保存します。"
   ]
  },
  {
   "cell_type": "code",
   "execution_count": null,
   "id": "e39c809a-4015-4968-85f1-37d00aecdab3",
   "metadata": {},
   "outputs": [],
   "source": [
    "x = 11\n",
    "y = 2"
   ]
  },
  {
   "cell_type": "markdown",
   "id": "824b5aff",
   "metadata": {},
   "source": [
    "この 2 つの数値に対して、加減乗除を行ってみます。算術演算子の `+`、`-`、`*`、`/` を使います。"
   ]
  },
  {
   "cell_type": "code",
   "execution_count": null,
   "id": "3205c599",
   "metadata": {},
   "outputs": [],
   "source": [
    "ans = x + y\n",
    "ans"
   ]
  },
  {
   "cell_type": "code",
   "execution_count": null,
   "id": "179541ae",
   "metadata": {},
   "outputs": [],
   "source": [
    "ans = x - y\n",
    "ans"
   ]
  },
  {
   "cell_type": "code",
   "execution_count": null,
   "id": "dd4f1d21",
   "metadata": {},
   "outputs": [],
   "source": [
    "ans = x * y\n",
    "ans"
   ]
  },
  {
   "cell_type": "code",
   "execution_count": null,
   "id": "97d64010",
   "metadata": {},
   "outputs": [],
   "source": [
    "ans = x / y\n",
    "ans"
   ]
  },
  {
   "cell_type": "markdown",
   "id": "7190ff3f",
   "metadata": {},
   "source": [
    "割り算では、算数的な割り算のほかに、商（`//`）や余り（`%`）を求めることもできます。特に余りを求める演算子 `%` は、奇数や偶数の判定などでよく利用されます。"
   ]
  },
  {
   "cell_type": "code",
   "execution_count": null,
   "id": "7fa8f502",
   "metadata": {},
   "outputs": [],
   "source": [
    "ans = x // y\n",
    "ans"
   ]
  },
  {
   "cell_type": "code",
   "execution_count": null,
   "id": "22b34d63",
   "metadata": {},
   "outputs": [],
   "source": [
    "ans = x % y\n",
    "ans"
   ]
  },
  {
   "cell_type": "markdown",
   "id": "d70fe54a",
   "metadata": {},
   "source": [
    "べき乗を計算する演算子 `**` も定義されているため、指数計算も簡単に行えます。"
   ]
  },
  {
   "cell_type": "code",
   "execution_count": null,
   "id": "31a2b8ef",
   "metadata": {},
   "outputs": [],
   "source": [
    "ans = 2 ** 10\n",
    "ans"
   ]
  },
  {
   "cell_type": "markdown",
   "id": "901ba51e-5ed9-4279-a810-a6c928af5a14",
   "metadata": {
    "editable": true,
    "slideshow": {
     "slide_type": ""
    },
    "tags": []
   },
   "source": [
    "次に、算術演算を組み合わせて少し複雑な計算をしてみましょう。BMI (body mass index) をご存知でしょうか。BMI は体重 $w$ \\[kg\\] と身長 $h$ \\[m\\] を用いて次の式で計算され、成人の肥満度を示す指数です。\n",
    "\n",
    "$$\n",
    "\\text{BMI} = \\frac{w}{h^{2}}\n",
    "$$\n",
    "\n",
    "$w$ および $h$ が与えられたとき、BMI を計算するプログラムを作ってみよう。答えを見るには下の「Show code cell content」をクリックしてください。"
   ]
  },
  {
   "cell_type": "code",
   "execution_count": null,
   "id": "bb37b315-144d-463c-9774-9524f50e46a3",
   "metadata": {
    "editable": true,
    "slideshow": {
     "slide_type": ""
    },
    "tags": []
   },
   "outputs": [],
   "source": [
    "w = 68\n",
    "h = 1.80"
   ]
  },
  {
   "cell_type": "code",
   "execution_count": null,
   "id": "f4f11c78-0e7a-43a4-83f3-9f93c940ceaa",
   "metadata": {
    "editable": true,
    "slideshow": {
     "slide_type": ""
    },
    "tags": [
     "hide-cell"
    ]
   },
   "outputs": [],
   "source": [
    "bmi = w / (h * h)\n",
    "\n",
    "bmi"
   ]
  },
  {
   "cell_type": "markdown",
   "id": "0d421189-0f38-4b05-a89e-e773578959d5",
   "metadata": {
    "editable": true,
    "slideshow": {
     "slide_type": ""
    },
    "tags": []
   },
   "source": [
    "計算は合ってる。あとは心が耐えられるかどうかだけだ。\n",
    "\n",
    "Python の標準機能で簡単な算術演算を行えますが、平方根、指数や対数などの計算には math と呼ばれる Python の数学用の拡張機能を使います。このような拡張機能を[モジュール](module)と呼びます。\n",
    "\n",
    "モジュールを利用するには `import` 文を使います。たとえば、math モジュールを読み込むには次のように書きます。"
   ]
  },
  {
   "cell_type": "code",
   "execution_count": null,
   "id": "af806a20-c404-4eb5-9606-26f207e67704",
   "metadata": {
    "editable": true,
    "slideshow": {
     "slide_type": ""
    },
    "tags": []
   },
   "outputs": [],
   "source": [
    "import math"
   ]
  },
  {
   "cell_type": "markdown",
   "id": "191d9afd-3d29-4e49-b417-aaee5f1b4098",
   "metadata": {
    "editable": true,
    "slideshow": {
     "slide_type": ""
    },
    "tags": []
   },
   "source": [
    "見た目には変化がありませんが、Python が math モジュールに実装された機能を使う準備が整いました。では、math モジュールの `sqrt` 関数を使って $\\sqrt{2}$ を求めてみよう。"
   ]
  },
  {
   "cell_type": "code",
   "execution_count": null,
   "id": "7d027310-aa93-45d0-833e-0236c53aaca8",
   "metadata": {
    "editable": true,
    "slideshow": {
     "slide_type": ""
    },
    "tags": []
   },
   "outputs": [],
   "source": [
    "x = math.sqrt(2)\n",
    "x"
   ]
  },
  {
   "cell_type": "markdown",
   "id": "e00b9ead-0b0c-4cbc-80d4-899e2350a45e",
   "metadata": {
    "editable": true,
    "slideshow": {
     "slide_type": ""
    },
    "tags": []
   },
   "source": [
    "ここで `math.sqrt` と書いているのは、math モジュールの中の `sqrt` 関数を使用することを示しています。同名の関数が他のモジュールやユーザーが作成したプログラムに存在する場合もあるため、Python ではモジュール名と関数名をピリオド（`.`）で繋げて使うことで、どのモジュールの関数を使っているかを明確にしています。\n",
    "\n",
    "次に、ピタゴラスの定理を使った計算例をみていこう。直角三角形の 3 辺の長さについて、斜辺の長さの 2 乗は、他の 2 辺の長さの 2 乗の和に等しいことが知られています。これをピタゴラスの定理（三平方の定理）と呼びます。数式で表すと、直角をなす両辺の長さをそれぞれ $a$ と $b$ とし、斜辺の長さを $c$ としたとき、次の等式が成立します。\n",
    "\n",
    "$$\n",
    "a^{2} + b^{2} = c^{2} \n",
    "$$\n",
    "\n",
    "では、この定理に基づき、$a$ と $b$ が与えられたときに、斜辺の長さ $c$ の長さを求めるプログラムを書いてみましょう。"
   ]
  },
  {
   "cell_type": "code",
   "execution_count": null,
   "id": "33c0fb30-4486-4b58-8992-53585f969cd0",
   "metadata": {
    "editable": true,
    "slideshow": {
     "slide_type": ""
    },
    "tags": []
   },
   "outputs": [],
   "source": [
    "a = 3\n",
    "b = 4"
   ]
  },
  {
   "cell_type": "code",
   "execution_count": null,
   "id": "55308222-8028-4cec-843f-06522c70d9a4",
   "metadata": {
    "editable": true,
    "slideshow": {
     "slide_type": ""
    },
    "tags": [
     "hide-cell"
    ]
   },
   "outputs": [],
   "source": [
    "c = math.sqrt(a * a + b * b)\n",
    "c"
   ]
  },
  {
   "cell_type": "markdown",
   "id": "9dd95f4e",
   "metadata": {},
   "source": [
    "````{admonition} 練習問題 DC-1\n",
    "黄金数（golden number） $\\phi$ は次の式で表されます。\n",
    "\n",
    "$$\n",
    "\\phi = \\frac{1 + \\sqrt{5}}{2}\n",
    "$$\n",
    "\n",
    "黄金数を計算するプログラムを作成してください。\n",
    "\n",
    "```python\n",
    "phi = None\n",
    "\n",
    "\n",
    "print(phi)\n",
    "```\n",
    "\n",
    "なお、$1 : \\phi$ で表される比を黄金比と呼びます。オウムガイの螺旋やパルテノン神殿、ピラミッドなどが黄金比を持つと言われていますが、実際のところ詳細は不明です。Python はそんなロマンチックな話は一切抜きで、淡々と数字だけを返してくれます。数字に色は、ありませんからね。\n",
    "````\n",
    "\n",
    "\n",
    "```{admonition} None\n",
    ":class: tip\n",
    "`None` は、Python で扱うデータの一つで、「何もない」ことを表します。数学では 0 や空白文字（スペース）などが「何もない」ことを示す場合もありますが、プログラミングの世界では 0 や空白も、それ自体が意味を持つ「値」として扱われます。そのため、本当に「何もない」状態を表すためには、特別な値を使う必要があります。Python では、その役割を果たすのが `None` です。変数に `None` を代入すると、その変数に「空の箱」が用意されますが、その中身はまだ何も入っていない状態です。たとえば、今後の処理結果を格納するために、あらかじめ空の変数を用意しておきたいときなどに `None` を使います。\n",
    "```\n"
   ]
  },
  {
   "cell_type": "markdown",
   "id": "48ffa88e-bc72-410d-ae05-b1afc62066fc",
   "metadata": {
    "editable": true,
    "slideshow": {
     "slide_type": ""
    },
    "tags": []
   },
   "source": [
    "````{admonition} 練習問題 DC-2\n",
    "二次方程式 $ax^{2} + bx + c = 0 , (a \\ne 0, b^{2} - 4ac \\ge 0)$ の解は、次式で計算されます。\n",
    "\n",
    "$$\n",
    "x = \\frac{-b \\pm \\sqrt{b^{2} - 4ac}}{2a}\n",
    "$$\n",
    "\n",
    "`a`, `b`, `c` の値を入力すると、この式に基づいて 2 つの解を計算して出力するプログラムを作成してください。なお、コンピュータでは $\\pm$ を扱えないため、$+$ と $-$ のときの解を別々に計算して、出力してください。\n",
    "\n",
    "```python\n",
    "a = 1\n",
    "b = -6\n",
    "c = 8\n",
    "x1 = None\n",
    "x2 = None\n",
    "\n",
    "\n",
    "print(x1)\n",
    "print(x2)\n",
    "```\n",
    "\n",
    "````"
   ]
  },
  {
   "cell_type": "markdown",
   "id": "20c4a495",
   "metadata": {},
   "source": [
    "常用対数は 10 を底とした対数で、通常は $\\log_{10} n$ と記述します。もし $n$ が $k$ 桁の数値ならば、$10^{k - 1} \\le n < 10^{k}$ が成り立ちます。たとえば、4 桁の数である 1024 の場合、$10^{3} \\le 1024 < 10^{4}$ です。\n",
    "\n",
    "この性質を利用して、$2^{100}$ の桁数を計算するプログラムを作成してみましょう。べき乗を計算するには、`**` 演算子のほか、math モジュールの `pow` 関数も使えます。また、常用対数を計算するには `math.log10` 関数を使用します。使用例は「[python べき乗](https://www.google.com/search?q=python+%E3%81%B9%E3%81%8D%E4%B9%97)」や「[python 対数](https://www.google.com/search?q=python+%E5%AF%BE%E6%95%B0)」などのキーワードでウェブ検索すると見つかります。"
   ]
  },
  {
   "cell_type": "code",
   "execution_count": null,
   "id": "27dfa80e",
   "metadata": {
    "tags": [
     "hide-cell"
    ]
   },
   "outputs": [],
   "source": [
    "x = math.pow(2, 100)\n",
    "k = math.log10(x)\n",
    "k"
   ]
  },
  {
   "cell_type": "markdown",
   "id": "45352993",
   "metadata": {},
   "source": [
    "````{admonition} 練習問題 DC-3\n",
    "0.1mm の厚さの紙を $n$ 回折ったときの厚さを計算するプログラムを作成し、$n=10$ および $n=100$ のときの紙の厚さを計算してください。例えば、1 回折ると厚さは 0.2mm になり、2 回折ると 0.4mm になります。\n",
    "\n",
    "```python\n",
    "n = 100\n",
    "thickness = None\n",
    "\n",
    "\n",
    "print(thickness)\n",
    "```\n",
    "\n",
    "紙を 100 回折ったら厚さが太陽まで届いてしまいます。でも、うちの研究所の書類の山はそれを軽く超えています。まさに宇宙規模の問題に挑んでいる証拠です。\n",
    "````"
   ]
  }
 ],
 "metadata": {
  "kernelspec": {
   "display_name": "book",
   "language": "python",
   "name": "python3"
  },
  "language_info": {
   "codemirror_mode": {
    "name": "ipython",
    "version": 3
   },
   "file_extension": ".py",
   "mimetype": "text/x-python",
   "name": "python",
   "nbconvert_exporter": "python",
   "pygments_lexer": "ipython3",
   "version": "3.11.4"
  }
 },
 "nbformat": 4,
 "nbformat_minor": 5
}
