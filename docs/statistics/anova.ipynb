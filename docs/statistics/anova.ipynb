{
 "cells": [
  {
   "cell_type": "code",
   "execution_count": null,
   "id": "8340cc23",
   "metadata": {
    "tags": [
     "remove-cell"
    ]
   },
   "outputs": [],
   "source": [
    "import os\n",
    "import sys\n",
    "sys.path.append(os.path.abspath('..'))\n",
    "from config import *\n",
    "\n",
    "!cp ../data/acorns.clean.csv ."
   ]
  },
  {
   "cell_type": "markdown",
   "id": "851a62ac-c84a-494e-8e0c-58ba04ca8d99",
   "metadata": {},
   "source": [
    "```{index} ANOVA\n",
    ":name: ANOVA\n",
    "```\n",
    "\n",
    "```{index} ぶ-分散分析\n",
    ":name: 分散分析\n",
    "```\n",
    "\n",
    "# 分散分析"
   ]
  },
  {
   "cell_type": "markdown",
   "id": "2af4e6c0-85f6-4710-a457-1dfeae8f9d2d",
   "metadata": {},
   "source": [
    "t 検定は 2 群間の母平均に有意差があるかを検定する手法ですが、3 群以上のデータを比較する場合には使用できません。3 群以上のデータにおける母平均の差を検定するためには、**分散分析**（**Analysis of Variance**; **ANOVA**）を用います。分散分析は、複数の群の母平均の差異を同時に評価できるため、たとえば 3 種類以上のどんぐりの重さを比較する際に有効です。また、t 検定と同様に、分散分析においてもデータが正規分布に従うことが前提となります。データが正規分布に従っていない場合、分散分析の結果の信頼性は低下するため、検定を行う前にデータの分布を確認することが重要です。\n",
    "\n",
    "今回は、アラカシ、シラカシ、コナラの 3 種類のどんぐりの重さに違いがあるかどうかを、分散分析を用いて検定します。まず、データを準備し、各群の分布を確認します。"
   ]
  },
  {
   "cell_type": "code",
   "execution_count": null,
   "id": "13ca5aa8",
   "metadata": {},
   "outputs": [],
   "source": [
    "# !wget https://py.biopapyrus.jp/data/acorns.clean.csv\n",
    "acorns_data = pd.read_csv('acorns.clean.csv')\n",
    "\n",
    "arakashi = acorns_data['weight'][acorns_data['tree'] == 'arakashi']\n",
    "shirakashi = acorns_data['weight'][acorns_data['tree'] == 'shirakashi']\n",
    "konara = acorns_data['weight'][acorns_data['tree'] == 'konara']"
   ]
  },
  {
   "cell_type": "code",
   "execution_count": null,
   "id": "d3f529eb",
   "metadata": {
    "tags": [
     "hide-input"
    ]
   },
   "outputs": [],
   "source": [
    "import matplotlib.pyplot as plt\n",
    "\n",
    "fig = plt.figure()\n",
    "ax = fig.add_subplot()\n",
    "ax.hist(shirakashi, alpha=0.5, label='shirakashi')\n",
    "ax.hist(arakashi, alpha=0.5, label='arakashi')\n",
    "ax.hist(konara, alpha=0.5, label='konara')\n",
    "ax.legend()\n",
    "plt.show()"
   ]
  },
  {
   "cell_type": "markdown",
   "id": "e04e5b06",
   "metadata": {},
   "source": [
    "次に、「アラカシ、シラカシ、コナラのどんぐりの重さに差はない」という帰無仮説を立て、有意水準を 5% として検定を行います。分散分析は、SciPy ライブラリの stats モジュールに含まれる `f_oneway` 関数を使用します。"
   ]
  },
  {
   "cell_type": "code",
   "execution_count": null,
   "id": "d116f1b2-d5a7-421f-baeb-7356ea67e108",
   "metadata": {},
   "outputs": [],
   "source": [
    "import scipy.stats as stats\n",
    "res = stats.f_oneway(arakashi, shirakashi, konara)"
   ]
  },
  {
   "cell_type": "markdown",
   "id": "b72536dc",
   "metadata": {},
   "source": [
    "分散分析の結果として、F 統計量と p 値が得られます。"
   ]
  },
  {
   "cell_type": "code",
   "execution_count": null,
   "id": "13eb810d",
   "metadata": {},
   "outputs": [],
   "source": [
    "print(res.statistic)\n",
    "print(res.pvalue)"
   ]
  },
  {
   "cell_type": "markdown",
   "id": "0d6b81ba",
   "metadata": {},
   "source": [
    "F 統計量は、群間の平均の差と群内のばらつきの比率を表します。この値が大きいほど、群間に有意差がある可能性が高いといえます。また、p 値が事前に設定した有意水準よりも小さい場合、帰無仮説を棄却し、群間の平均に有意差があると統計的に結論付けることができます。今回の結果として、p 値が 0.05 より小さいため、帰無仮説を棄却し、アラカシ、シラカシ、コナラのどんぐりの平均重には有意差があると解釈できます。\n",
    "\n",
    "なお、分散分析は群間に差があるかどうかを検定する手法であり、どの群間で差があるのかを示すものではありません。したがって、群間の平均値の差をさらに詳しく検討したい場合には、多重比較検定を行う必要があります。具体的には、Tukey 検定、Dunnett 検定、あるいは Williams 検定などを用いて、群間の差の有無を個別に検定することができます。"
   ]
  },
  {
   "cell_type": "code",
   "execution_count": null,
   "id": "a462c02a",
   "metadata": {},
   "outputs": [],
   "source": [
    "!rm acorns.clean.csv"
   ]
  }
 ],
 "metadata": {
  "kernelspec": {
   "display_name": "ebook",
   "language": "python",
   "name": "python3"
  },
  "language_info": {
   "codemirror_mode": {
    "name": "ipython",
    "version": 3
   },
   "file_extension": ".py",
   "mimetype": "text/x-python",
   "name": "python",
   "nbconvert_exporter": "python",
   "pygments_lexer": "ipython3",
   "version": "3.11.4"
  }
 },
 "nbformat": 4,
 "nbformat_minor": 5
}
