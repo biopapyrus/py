{
 "cells": [
  {
   "cell_type": "code",
   "execution_count": null,
   "id": "8340cc23",
   "metadata": {
    "tags": [
     "remove-cell"
    ]
   },
   "outputs": [],
   "source": [
    "import os\n",
    "import sys\n",
    "sys.path.append(os.path.abspath('..'))\n",
    "from config import *"
   ]
  },
  {
   "cell_type": "markdown",
   "id": "c54d66e1-7962-4ae3-9233-b85ee6e4a914",
   "metadata": {},
   "source": [
    "# 統計検定"
   ]
  },
  {
   "cell_type": "markdown",
   "id": "e6209737-2cf9-48f0-a094-e53ffbacd92a",
   "metadata": {},
   "source": [
    "実験結果を客観的に解釈し説明するためには、統計的な分析が欠かせません。例えば、同じどんぐりの種でも採取場所によってサイズが異なるかどうか、またどんぐりの重さが高さや直径から説明できるかどうか、といった問題はすべて統計的な検証が必要です。本章では、Python の SciPy や statsmodels などのライブラリーを用いて、t 検定、分散分析、回帰分析、一般化線形モデルなどの例を示しながら解説します。\n",
    "\n",
    "どんぐりも統計の前ではただの数字。無情に切り捨てられたどんぐりに、夢見るリスの気持ちはお構いなしです。"
   ]
  }
 ],
 "metadata": {
  "kernelspec": {
   "display_name": "ebook",
   "language": "python",
   "name": "python3"
  },
  "language_info": {
   "codemirror_mode": {
    "name": "ipython",
    "version": 3
   },
   "file_extension": ".py",
   "mimetype": "text/x-python",
   "name": "python",
   "nbconvert_exporter": "python",
   "pygments_lexer": "ipython3",
   "version": "3.11.4"
  }
 },
 "nbformat": 4,
 "nbformat_minor": 5
}
