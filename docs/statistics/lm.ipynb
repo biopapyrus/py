{
 "cells": [
  {
   "cell_type": "code",
   "execution_count": null,
   "id": "f182a3d6",
   "metadata": {
    "tags": [
     "remove-cell"
    ]
   },
   "outputs": [],
   "source": [
    "import os\n",
    "import sys\n",
    "sys.path.append(os.path.abspath('..'))\n",
    "from config import *\n",
    "\n",
    "!cp ../data/acorns.clean.csv ."
   ]
  },
  {
   "cell_type": "markdown",
   "id": "445703b4",
   "metadata": {},
   "source": [
    "# 線形回帰"
   ]
  },
  {
   "cell_type": "markdown",
   "id": "9c69d05b",
   "metadata": {},
   "source": [
    "```{index} せ 線形回帰\n",
    ":name: 線形回帰\n",
    "```\n",
    "\n",
    "```{index} せ 説明変数\n",
    ":name: 説明変数\n",
    "```\n",
    "\n",
    "```{index} も 目的変数\n",
    ":name: 目的変数\n",
    "```\n",
    "\n",
    "\n",
    "\n",
    "**回帰**（**regression**）とは、ある変数（結果）が別の変数（原因）に影響されて変化する関係を探る手法です。この関係を数式で表現し、原因と結果の結びつきを定量的に分析したり、将来を予測したりする方法を**回帰分析**（**regression analysis**）と呼びます。たとえば、天候や土壌条件が作物の収量に与える影響を分析したり、気象条件から植物病害虫の発生リスクや農作物の市場価格を予測したりする際に活用されます。\n",
    "\n",
    "回帰には、**線形回帰**（**linear regression**）と非線形回帰がありますが、生物学や農学の分野では多くの場合、線形回帰が用いられます。回帰分析において、原因となる変数を**説明変数**（**explanatory variable**）、結果となる変数を**目的変数**（**objective variable**）と呼びます。説明変数を $X$、目的変数を $Y$ としたとき、線形回帰は次のような式で表されます。\n",
    "\n",
    "$$\n",
    "Y = \\beta_{0} + \\beta_{1}X + \\epsilon \n",
    "$$\n",
    "\n",
    "ここで、$\\beta_{0}$ は切片、$\\beta_{1}$ は説明変数に対する回帰係数、$\\epsilon$ は誤差項です。\n",
    "\n",
    "また、目的変数に影響を与える要因が複数あると考えられる場合は、$n$ 個の説明変数を用いて次のように表現します。\n",
    "\n",
    "$$\n",
    "Y = \\beta_{0} + \\beta_{1}X_{1} + \\beta_{2}X_{2} + \\cdots + \\beta_{n}X_{n} + \\epsilon \n",
    "$$\n",
    "\n",
    "\n",
    "このとき、$\\beta_{1}, \\beta_{2}, \\cdots, \\beta_{n}$ はそれぞれの説明変数に対応する回帰係数です。実験や調査で得られた $X$ および $Y$ のデータをもとに、これらの係数を推定します。推定された回帰係数を用いて得られる式（例：$y = 1.2 + 1.6x_{1} + 0.8x_{2} + \\cdots + 0.2x_{n}$）を、回帰直線、回帰モデル、あるいは単にモデルと呼びます。\n",
    "\n",
    "線形回帰のうち、説明変数が 1 つだけの場合を**線形単回帰**（**simple linear regression**）、複数ある場合を**線形重回帰**（**multiple linear regression**）と呼びます。ただし、実用上、単回帰が使用される場面は少なく、実際には複数の説明変数を用いる重回帰が一般的です。そのため、一般に「回帰」や「回帰分析」と言えば、重回帰と考えて差し支えありません。\n",
    "\n",
    "また、回帰モデルでは誤差項が正規分布に従うことが前提とされます。したがって、モデル構築後には、モデルによる予測値と実測値の誤差を可視化し、その誤差の分布が適切かどうかを確認する必要があります。\n",
    "\n",
    "Python を用いて回帰分析を行う際には、主に statsmodels と scikit-learn の 2 つのライブラリが利用されます。statsmodels は統計的解析に適しており、回帰係数の推定、パラメータに対する検定、予測区間や信頼区間の算出などが可能です。一方、scikit-learn は回帰分析を機械学習の一手法として扱い、予測に重点を置いたモデリングに適しています。本節では、推定されたモデルを評価したり、信頼区間の確認したりするなどの統計的な観点を重視するため、statsmodels を使用して解説を進めます。"
   ]
  },
  {
   "cell_type": "markdown",
   "id": "b0480a77",
   "metadata": {},
   "source": [
    "```{index} た 単回帰\n",
    ":name: 単回帰\n",
    "```\n",
    "\n",
    "(simple_linear_regression)=\n",
    "## 単回帰"
   ]
  },
  {
   "cell_type": "markdown",
   "id": "36905cb7",
   "metadata": {},
   "source": [
    "どんぐりの高さ（height）を使ってその重さ（weight）を予測する回帰モデルを作成してみましょう。まず、Pandas を使ってどんぐりのデータを読み込みます。どんぐりは種類によって形が異なり、例えばクヌギは丸く、マテバシイは細長い形状をしています。そのため、すべての種類のデータをまとめて扱うと、形状の違いによってモデルの精度が下がる可能性があります。そこで今回は、クヌギのどんぐりのデータだけを抽出し、分析対象とします。モデルの作成には重さと高さの情報だけが必要なので、これら 2 列だけを取り出します。"
   ]
  },
  {
   "cell_type": "code",
   "execution_count": null,
   "id": "3c9e6feb",
   "metadata": {
    "tags": [
     "scroll-output"
    ]
   },
   "outputs": [],
   "source": [
    "# !wget https://py.biopapyrus.jp/data/acorns.clean.csv\n",
    "acorns_data = pd.read_csv('acorns.clean.csv')\n",
    "kunugi = acorns_data.loc[acorns_data['tree'] == 'kunugi', ['weight', 'height']]\n",
    "kunugi"
   ]
  },
  {
   "cell_type": "markdown",
   "id": "6744785f",
   "metadata": {},
   "source": [
    "次に、statsmodels ライブラリの api モジュールが提供する `OLS` 関数を使って回帰係数を推定してみましょう。`OLS` 関数では、目的変数と説明変数をそれぞれ引数として与えます。このとき、回帰モデルに定数項（$\\beta_0$）を含めるために、`add_constant` 関数を使って説明変数に定数列（すべての値が 1）を追加する必要があります。以下は、クヌギのどんぐりデータを用いて回帰モデルを構築する例です。"
   ]
  },
  {
   "cell_type": "code",
   "execution_count": null,
   "id": "f516dd1a",
   "metadata": {},
   "outputs": [],
   "source": [
    "import statsmodels.api as sm\n",
    "from statsmodels.formula.api import ols\n",
    "\n",
    "X = kunugi['height']\n",
    "y = kunugi['weight']\n",
    "\n",
    "model = sm.OLS(y, sm.add_constant(X))\n",
    "results = model.fit()"
   ]
  },
  {
   "cell_type": "markdown",
   "id": "7b93e913",
   "metadata": {},
   "source": [
    "推定された回帰モデルの結果は、`results` オブジェクトに保存されます。モデルの詳細な概要を確認するには、次のように `summary()` メソッドを使用します。"
   ]
  },
  {
   "cell_type": "code",
   "execution_count": null,
   "id": "8b0d1372",
   "metadata": {},
   "outputs": [],
   "source": [
    "results.summary()"
   ]
  },
  {
   "cell_type": "markdown",
   "id": "ad898b5c",
   "metadata": {},
   "source": [
    "また、推定された回帰係数を確認したい場合は、次のようにします。"
   ]
  },
  {
   "cell_type": "code",
   "execution_count": null,
   "id": "8b5bc868",
   "metadata": {},
   "outputs": [],
   "source": [
    "results.params"
   ]
  },
  {
   "cell_type": "code",
   "execution_count": null,
   "id": "538f3035",
   "metadata": {
    "tags": [
     "remove-cell"
    ]
   },
   "outputs": [],
   "source": [
    "glue('lm_intercept', abs(round(float(results.params[0]), 2)))\n",
    "glue('lm_slope', round(float(results.params[1]), 2))"
   ]
  },
  {
   "cell_type": "markdown",
   "id": "c0f82a71",
   "metadata": {},
   "source": [
    "今回構築した回帰モデルでは、説明変数はどんぐりの「高さ」のみです。このため、回帰式は weight = {glue:}`lm_slope`height - {glue:}`lm_intercept` のような一次式となります。\n",
    "\n",
    "この回帰式をもとに、観測データと回帰直線を重ねてグラフで可視化してみましょう。回帰直線を描くためには、説明変数（どんぐりの高さ）と、それに対応する予測値のペアが少なくとも 2 組必要です。ここでは、回帰モデルを構築する際に使用したデータを基に、どんぐりの高さの最小値と最大値をモデルに入力し、それぞれの予測値を算出します。続けて、これら 2 点を結ぶことで回帰直線を描画します。\n",
    "\n",
    "以下のコードでは、モデルの `predict` メソッドを用いて予測値を算出し、`plot` メソッドを使って回帰直線を描いています。さらに、測定値は `scatter` メソッドを用いて、同じグラフ上に散布図として重ねて表示します。"
   ]
  },
  {
   "cell_type": "code",
   "execution_count": null,
   "id": "a3ca92a7",
   "metadata": {},
   "outputs": [],
   "source": [
    "fig = plt.figure()\n",
    "ax = fig.add_subplot()\n",
    "\n",
    "# observed data\n",
    "ax.scatter(X, y)\n",
    "\n",
    "# regression line\n",
    "x_ = [X.min(), X.max()]\n",
    "y_ = results.predict(sm.add_constant(x_))\n",
    "ax.plot(x_, y_)\n",
    "\n",
    "ax.set_xlabel('height')\n",
    "ax.set_ylabel('weight')\n",
    "plt.show()"
   ]
  },
  {
   "cell_type": "markdown",
   "id": "2d263406",
   "metadata": {},
   "source": [
    "モデルの妥当性を検討するためには、予測値と観測値の差である残差のパターンを確認することが重要です。残差が説明変数の値に依存せず、正規分布している場合、モデルは妥当である可能性が高くなります。以下のコードは、各サンプルの誤差を視覚的に示しています。"
   ]
  },
  {
   "cell_type": "code",
   "execution_count": null,
   "id": "21e49558",
   "metadata": {},
   "outputs": [],
   "source": [
    "err = y - results.predict(sm.add_constant(X))\n",
    "\n",
    "fig = plt.figure()\n",
    "\n",
    "ax1 = fig.add_subplot(1, 2, 1)\n",
    "ax1.plot([X.min(), X.max()], [0, 0])\n",
    "ax1.vlines(X, 0, err, linestyles='dashed')\n",
    "ax1.scatter(X, err)\n",
    "ax1.set_xlabel('height')\n",
    "ax1.set_ylabel('error')\n",
    "\n",
    "ax2 = fig.add_subplot(1, 2, 2)\n",
    "ax2.hist(err)\n",
    "\n",
    "plt.show()"
   ]
  },
  {
   "cell_type": "markdown",
   "id": "335c4291",
   "metadata": {},
   "source": [
    "予測誤差の大きいどんぐりが含まれるものの、予測誤差の分布は正規分布に近いため、モデルとしては妥当と考えられれます。"
   ]
  },
  {
   "cell_type": "markdown",
   "id": "a2aaefd3",
   "metadata": {},
   "source": [
    "回帰モデルは、分析に用いたどんぐりのデータセットに基づいて推定されたものです。そのため、同じ条件でデータを再び収集したとしても、得られる回帰直線は毎回少しずつ異なる可能性があります。仮に、同様の実験を無数に繰り返したとすると、無数の異なる回帰直線が描かれることになります。ここで、もしどんぐりの重さと高さの間に真の比例関係が存在するならば、これらの回帰直線の傾きや切片は、ある特定の値に近づいて収束し、回帰直線もある範囲内に収まると考えられます。このような無数の回帰直線のうち、95% が通ると予想される範囲を 95% **信頼区間**（**confidence interval**; **CI**）と呼びます。\n",
    "\n",
    "信頼区間に似た概念として、**予測区間**（**prediction interval**; **PI**）があります。信頼区間が再実験によって得られる回帰直線が通る範囲を示すのに対し、予測区間は再実験で得られる新たなデータ点が存在する範囲を示します。\n",
    "\n",
    "信頼区間および予測区間を計算するには、モデルの `get_prediction` メソッドに説明変数の値を代入します。これにより、それぞれの説明変数に対応する信頼区間および予測区間が計算されます。計算結果は、`summary_frame` メソッドを用いることで、データフレームとして取得できます。\n",
    "\n",
    "なお、信頼区間や予測区間の幅は一定ではなく、説明変数の値に応じて変化します。そのため、信頼区間や予測区間をより正確に把握するには、説明変数の値を複数用意する必要があります。ここでは、モデル構築に使用したデータの最小値から最大値までを 100 等分し、その値を説明変数としてモデルに代入して予測を行います。"
   ]
  },
  {
   "cell_type": "code",
   "execution_count": null,
   "id": "14c7d9b4",
   "metadata": {
    "tags": [
     "scroll-output"
    ]
   },
   "outputs": [],
   "source": [
    "x_ = np.linspace(X.min(), X.max(), 100)\n",
    "y_ = results.get_prediction(sm.add_constant(x_))\n",
    "\n",
    "y_sum = y_.summary_frame(alpha=0.05)\n",
    "y_sum.head()"
   ]
  },
  {
   "cell_type": "markdown",
   "id": "0fe4d6e9",
   "metadata": {},
   "source": [
    "次に、信頼区間と予測区間をグラフに描画してみます。"
   ]
  },
  {
   "cell_type": "code",
   "execution_count": null,
   "id": "a4bacc7f",
   "metadata": {},
   "outputs": [],
   "source": [
    "fig = plt.figure()\n",
    "ax = fig.add_subplot()\n",
    "\n",
    "# data\n",
    "ax.scatter(X, y)\n",
    "\n",
    "# regression line\n",
    "ax.plot(x_, y_sum['mean'])\n",
    "\n",
    "# prediction interval\n",
    "ax.fill_between(x_, y_sum['obs_ci_lower'], y_sum['obs_ci_upper'],\n",
    "                lw=0, color='#426e86', alpha=0.2, label='PI 95%')\n",
    "\n",
    "# confidence interval\n",
    "ax.fill_between(x_, y_sum['mean_ci_lower'], y_sum['mean_ci_upper'],\n",
    "                lw=0, color='#34675c', alpha=0.4, label='CI 95%')\n",
    "\n",
    "ax.set_xlabel('height')\n",
    "ax.set_ylabel('weight')\n",
    "ax.legend()\n",
    "plt.show()"
   ]
  },
  {
   "cell_type": "markdown",
   "id": "079dec0d",
   "metadata": {},
   "source": [
    "```{admonition} 練習問題 SLM-2\n",
    "どんぐりデータセット（acorns.clean.txt）を読み込み、各種どんぐりに対して、高さ（height）で重さ（weight）を説明する単回帰モデルを構築し、どんぐりの形と推定される回帰直線の傾きの間にどのような関係があると思われるのかを簡潔に答えよ。\n",
    "```"
   ]
  },
  {
   "cell_type": "markdown",
   "id": "c93ffb31",
   "metadata": {},
   "source": [
    "## 重回帰"
   ]
  },
  {
   "cell_type": "markdown",
   "id": "c1b32571",
   "metadata": {},
   "source": [
    "説明変数が複数ある場合の回帰分析を見ていきましょう。クヌギのどんぐりの重さ（weight）を推定するために、どんぐりの高さ（height）と直径（diameter）の 2 つの説明変数を使います。まず、解析対象のデータを抽出します。"
   ]
  },
  {
   "cell_type": "code",
   "execution_count": null,
   "id": "d664d495",
   "metadata": {},
   "outputs": [],
   "source": [
    "acorns_data = pd.read_csv('acorns.clean.csv')\n",
    "X = acorns_data.loc[acorns_data['tree'] == 'kunugi', ['height', 'diameter']]\n",
    "y = acorns_data['weight'][acorns_data['tree'] == 'kunugi']"
   ]
  },
  {
   "cell_type": "markdown",
   "id": "9259e4ad",
   "metadata": {},
   "source": [
    "説明変数が複数ある場合、各変数の単位や値の範囲が異なることが多いため、そのままで回帰係数を推定すると、どの説明変数が目的変数に強く影響を与えているのかを適切に分析することができません。そこで、回帰を行う前に、すべての説明変数が平均 0、分散 1 となるように**標準化**（**standardization**）を行います。標準化を行うことで、各説明変数が同じスケールで評価され、モデルの解釈がしやすくなります。この場合、`weight` 列以外のすべての列に対して正規化を行います。"
   ]
  },
  {
   "cell_type": "code",
   "execution_count": null,
   "id": "07ad7a38",
   "metadata": {},
   "outputs": [],
   "source": [
    "X = (X - X.mean()) / X.std()\n",
    "X.describe()"
   ]
  },
  {
   "cell_type": "markdown",
   "id": "2303068a",
   "metadata": {},
   "source": [
    "\n",
    "\n",
    "続けて、`OLS` 関数に目的変数、定数列を追加した説明変数を順に与えて、モデルを構築します。"
   ]
  },
  {
   "cell_type": "code",
   "execution_count": null,
   "id": "919ac461",
   "metadata": {},
   "outputs": [],
   "source": [
    "model = sm.OLS(y, sm.add_constant(X))\n",
    "results = model.fit()\n",
    "results.summary()"
   ]
  },
  {
   "cell_type": "code",
   "execution_count": null,
   "id": "967116cd",
   "metadata": {},
   "outputs": [],
   "source": [
    "results.params"
   ]
  },
  {
   "cell_type": "code",
   "execution_count": null,
   "id": "51b3fe8a",
   "metadata": {
    "tags": [
     "remove-cell"
    ]
   },
   "outputs": [],
   "source": [
    "glue('lm_x0', round(float(results.params[0]), 3))\n",
    "glue('lm_x1', round(float(results.params[1]), 3))\n",
    "glue('lm_x2', round(float(results.params[2]), 3))"
   ]
  },
  {
   "cell_type": "markdown",
   "id": "42bb7092",
   "metadata": {},
   "source": [
    "回帰式は　weight = {glue}`lm_x0` + {glue}`lm_x1`height + {glue}`lm_x2`diameter のように推定されました。係数の大きさから、クヌギのどんぐりの重さを説明するには、高さよりも直径の方がより有効であると考えられます。\n",
    "\n",
    "次に、細長い形状を持つコナラのどんぐりに対して、同様の回帰モデルを構築して分析してみよう。"
   ]
  },
  {
   "cell_type": "code",
   "execution_count": null,
   "id": "4f42710a",
   "metadata": {
    "tags": [
     "hide-cell"
    ]
   },
   "outputs": [],
   "source": [
    "X_konara = acorns_data.loc[acorns_data['tree'] == 'konara', ['height', 'diameter']]\n",
    "X_konara = (X_konara - X_konara.mean()) / X_konara.std()\n",
    "\n",
    "y_konara = acorns_data['weight'][acorns_data['tree'] == 'konara']\n",
    "\n",
    "model_konara = sm.OLS(y_konara, sm.add_constant(X_konara))\n",
    "results_konara = model_konara.fit()\n",
    "\n",
    "results_konara.summary()"
   ]
  },
  {
   "cell_type": "markdown",
   "id": "597246f9",
   "metadata": {},
   "source": [
    "結果として、高さにかかる回帰係数が直径よりも大きいことが確認されました。つまり、コナラのどんぐりの場合は、重さに対して高さがより強い影響を与えていると考えられます。"
   ]
  },
  {
   "cell_type": "markdown",
   "id": "9bdbc05c",
   "metadata": {},
   "source": [
    "## 変数選択"
   ]
  },
  {
   "cell_type": "markdown",
   "id": "46825e4d",
   "metadata": {},
   "source": [
    "回帰分析において、モデルに複数の説明変数を含めることは可能ですが、変数が多くなればなるほど必ずしも良いモデルが得られるわけではありません。過剰な変数の追加は、モデルが**過剰適合**（**overfitting**）する原因となることもあります。したがって、回帰分析を行う際には、複数の変数を様々な組み合わせでモデル化し、その中から最適なモデルを選択する作業が必要です。\n",
    "\n",
    "統計分野でモデルの良さを測る指標として一般的に使用されているのが**赤池情報量基準**（**Akaike's information criterion**; **AIC**）です。AIC は、モデルの適合性と複雑さ（変数の数）とのバランスを取るために使われます。AIC が小さいほど、より良いモデルとされます。\n",
    "\n",
    "クヌギのデータを利用して、どんぐりの高さのみを使って重さを説明するモデルを構築し、その AIC を計算します。"
   ]
  },
  {
   "cell_type": "code",
   "execution_count": null,
   "id": "63099249",
   "metadata": {},
   "outputs": [],
   "source": [
    "acorns_data = pd.read_csv('acorns.clean.csv')\n",
    "kunugi = acorns_data.loc[acorns_data['tree'] == 'kunugi', ]\n",
    "\n",
    "X = kunugi['height']\n",
    "y = kunugi['weight']\n",
    "\n",
    "m1 = sm.OLS(y, sm.add_constant(X))\n",
    "r1 = m1.fit()\n",
    "r1.aic"
   ]
  },
  {
   "cell_type": "markdown",
   "id": "ce4692bd",
   "metadata": {},
   "source": [
    "次に、重さを直径で説明するモデル、そして重さを高さと直径の両方を使って説明するモデルの AIC も計算します。"
   ]
  },
  {
   "cell_type": "code",
   "execution_count": null,
   "id": "3ea734fd",
   "metadata": {},
   "outputs": [],
   "source": [
    "X = kunugi['diameter']\n",
    "y = kunugi['weight']\n",
    "\n",
    "m2 = sm.OLS(y, sm.add_constant(X))\n",
    "r2 = m2.fit()\n",
    "r2.aic"
   ]
  },
  {
   "cell_type": "code",
   "execution_count": null,
   "id": "03fc1b50",
   "metadata": {},
   "outputs": [],
   "source": [
    "X = kunugi[['height', 'diameter']]\n",
    "X = (X - X.mean()) / X.std()\n",
    "y = kunugi['weight']\n",
    "\n",
    "m3 = sm.OLS(y, sm.add_constant(X))\n",
    "r3 = m3.fit()\n",
    "r3.aic"
   ]
  },
  {
   "cell_type": "markdown",
   "id": "fdb8e5c4",
   "metadata": {},
   "source": [
    "これらの結果を比較すると、最も AIC が低いのは、高さと直径の両方を説明変数としたモデルであることがわかります。つまり、このデータセットにおいては、どんぐりの重さを説明するためには、高さと直径の両方を含めたモデルが最適であると言えます。実際、どんぐりは一般に大きくなるほど重くなると推察され、高さおよび直径が大きさを反映しているとすれば、この結果は統計的にも直感的にも妥当と言えるでしょう。\n",
    "\n",
    "もっとも、今回の分析に使ったデータは、筆者が虫喰いどんぐりを丁寧に取り除き、さらに「外れ値」という名の不都合な真実もそっと隠し持ちつつ測定しています。教材だからできる特権ですが、現実のどんぐりはそう簡単に協力してくれません。現実のどんぐりたちは、もっと複雑なドラマを繰り広げているに違いありません。\n",
    "\n",
    "\n",
    "```{index} も-モデル選択\n",
    ":name: モデル選択\n",
    "```\n",
    "\n",
    "```{index} へ-変数選択\n",
    ":name: 変数選択\n",
    "```\n",
    "\n",
    "このように最適なモデルを選ぶ過程は、**モデル選択**（**model selection**）または**変数選択**（**variable selection**）と呼ばれ、回帰分析において重要なステップです。上記の例では、考えられる説明変数の組み合わせすべてで回帰モデルを作成し、最適なモデルを選びました。この方法は総当たり法などとも呼ばれています。\n",
    "\n",
    "説明変数が 2 つの場合は、組み合わせは 3 通り（height、diameter、height + diameter）だけ試せばよいですが、説明変数が増えると組み合わせ数は急激に増加します。そのため、このような場合には変数増加法や変数減少法、スパース回帰などの手法を使うことが一般的です。また、ランダムフォレストなどの機械学習アルゴリズムも変数選択に役立つ方法です。"
   ]
  },
  {
   "cell_type": "code",
   "execution_count": null,
   "id": "e5985f4f",
   "metadata": {
    "tags": [
     "remove-cell"
    ]
   },
   "outputs": [],
   "source": [
    "!rm acorns.clean.csv"
   ]
  }
 ],
 "metadata": {
  "kernelspec": {
   "display_name": "ebook",
   "language": "python",
   "name": "python3"
  },
  "language_info": {
   "codemirror_mode": {
    "name": "ipython",
    "version": 3
   },
   "file_extension": ".py",
   "mimetype": "text/x-python",
   "name": "python",
   "nbconvert_exporter": "python",
   "pygments_lexer": "ipython3",
   "version": "3.11.4"
  }
 },
 "nbformat": 4,
 "nbformat_minor": 5
}
