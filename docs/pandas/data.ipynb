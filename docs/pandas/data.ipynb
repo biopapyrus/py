{
 "cells": [
  {
   "cell_type": "code",
   "execution_count": null,
   "id": "43906def",
   "metadata": {
    "tags": [
     "remove-cell"
    ]
   },
   "outputs": [],
   "source": [
    "import os\n",
    "import sys\n",
    "sys.path.append(os.path.abspath('..'))\n",
    "from config import *\n",
    "\n",
    "!cp ../data/acorns.clean.csv .\n",
    "!cp ../data/acorns.clean.nh.csv .\n",
    "!cp ../data/acorns.clean.meta.csv .\n",
    "!cp ../data/acorns.clean.tsv .\n",
    "!cp ../data/acorns.csv ."
   ]
  },
  {
   "cell_type": "markdown",
   "id": "c017d252-afef-402a-ae74-74ff40839870",
   "metadata": {},
   "source": [
    "# ファイル処理"
   ]
  },
  {
   "cell_type": "markdown",
   "id": "eee78cf1",
   "metadata": {},
   "source": [
    "## データの読み込み"
   ]
  },
  {
   "cell_type": "markdown",
   "id": "c2ab6ed5-a19a-4b9b-a228-e8c9b6ecc747",
   "metadata": {},
   "source": [
    "```{index} DataFrame\n",
    ":name: DataFrame\n",
    "```\n",
    "\n",
    "```{index} CSV\n",
    ":name: CSV\n",
    "```\n",
    "\n",
    "```{index} TSV\n",
    ":name: TSV\n",
    "```\n",
    "\n",
    "データを属性ごとにカンマで区切って整形した形式を **CSV**（**comma-separated values**）フォーマットと呼びます。また、カンマの代わりにタブ文字で区切った形式は **TSV**（**tab-separated values**）フォーマットと呼ばれます。こうした整形済みのファイルを読み込む際には、Pandas モジュールの機能を利用すると便利です。たとえば、CSV ファイルを読み込むには、`pd.read_csv` 関数にファイルのパスを指定して実行するだけです。\n",
    "\n",
    "(pd-dataframe)=\n",
    "`pd.read_csv` 関数を使って読み込まれたデータは、**データフレーム**（**DataFrame**）と呼ばれる Pandas 独自のデータ型で保存されます。データフレームでは、行と列が明確に区別されており、それぞれが CSV ファイルの行と列に対応しています。データフレーム型に対しては、特定の列や行の抽出、条件に一致する行の抽出、統計量の計算など、さまざまな操作を簡単に行うことができます。\n",
    "\n",
    "では実際に、どんぐりの重さを記録したデータを読み込んでみましょう。このデータは `acorns.clean.csv` という名前で保存されており、CSV フォーマットになっています。"
   ]
  },
  {
   "cell_type": "code",
   "execution_count": null,
   "id": "f6c7f0c2-02cc-4078-8818-97aacaaed821",
   "metadata": {
    "tags": [
     "scroll-output"
    ]
   },
   "outputs": [],
   "source": [
    "# !wget https://py.biopapyrus.jp/data/acorns.clean.csv\n",
    "x = pd.read_csv('acorns.clean.csv')"
   ]
  },
  {
   "cell_type": "markdown",
   "id": "e693ebee-d0ec-45f4-8c27-4f2b8e660fca",
   "metadata": {},
   "source": [
    "何も表示されない場合は、データが正しく読み込まれ、変数 `x` に代入されたことを意味します。ただし、もし次のようなエラーが表示された場合には、それぞれに応じた対処が必要です。\n",
    "\n",
    "- `NameError: name 'pd' is not defined`<br>このエラーは、Pandas モジュールが正しくインポートされていないことが原因です。Pandas をインポートしてから、再度ファイルの読み込みを実行してください。\n",
    "- `FileNotFoundError: [Errno 2] No such file or directory: 'acorns.csv'`<br>このエラーは、指定されたファイルが見つからないことを意味します。ファイル名やパスが間違っている可能性があります。使用している OS やファイルを保存した場所によっては、コード例にあるような単純なファイル名では読み込めない場合があります。ファイルが存在する正確なパスを確認し、それを指定してください。\n",
    "\n",
    "\n",
    "なお、オプションを指定せずに読み込むと、ファイルの最初の行はヘッダー行として認識され、その値がデータフレームの列名として自動的に設定されます。もしファイルにヘッダー行が含まれていない場合は、次のように `header=None` を指定して読み込む必要があります。"
   ]
  },
  {
   "cell_type": "code",
   "execution_count": null,
   "id": "327ed09a",
   "metadata": {},
   "outputs": [],
   "source": [
    "# !wget https://py.biopapyrus.jp/data/acorns.clean.nh.csv\n",
    "x = pd.read_csv('acorns.clean.nh.csv', header=None)"
   ]
  },
  {
   "cell_type": "markdown",
   "id": "ed54003c",
   "metadata": {},
   "source": [
    "また、ファイル内にデータとは無関係なメタデータやコメント行が含まれている場合は、`comment` オプションを使って無視することができます。たとえば、`#` で始まる行をコメントとして無視するには、次のようにします。\n"
   ]
  },
  {
   "cell_type": "code",
   "execution_count": null,
   "id": "517390ed",
   "metadata": {},
   "outputs": [],
   "source": [
    "# !wget https://py.biopapyrus.jp/data/acorns.clean.meta.csv\n",
    "x = pd.read_csv('acorns.clean.meta.csv', comment='#')"
   ]
  },
  {
   "cell_type": "markdown",
   "id": "a49b913c",
   "metadata": {},
   "source": [
    "CSV フォーマットではなく、タブ区切りの TSV フォーマットの場合は `sep` オプションで区切り文字をタブ（`\\t`）に指定します。"
   ]
  },
  {
   "cell_type": "code",
   "execution_count": null,
   "id": "cb8aee87",
   "metadata": {},
   "outputs": [],
   "source": [
    "# !wget https://py.biopapyrus.jp/data/acorns.clean.tsv\n",
    "x = pd.read_csv('acorns.clean.tsv', sep='\\t')"
   ]
  },
  {
   "cell_type": "markdown",
   "id": "83539555",
   "metadata": {},
   "source": [
    "このように、`pd.read_csv` 関数は柔軟なオプションを備えており、さまざまな形式の CSV ファイルを簡単に読み込むことができます。"
   ]
  },
  {
   "cell_type": "markdown",
   "id": "ceeb21e0",
   "metadata": {},
   "source": [
    "## データの確認"
   ]
  },
  {
   "cell_type": "markdown",
   "id": "5173c7c5",
   "metadata": {},
   "source": [
    "Pandas で読み込まれたデータを `print` 関数で出力させると、次のように表示されます。"
   ]
  },
  {
   "cell_type": "code",
   "execution_count": null,
   "id": "22edc8f8",
   "metadata": {
    "tags": [
     "scroll-output"
    ]
   },
   "outputs": [],
   "source": [
    "x = pd.read_csv('acorns.clean.csv')\n",
    "print(x)"
   ]
  },
  {
   "cell_type": "markdown",
   "id": "e8b4b144",
   "metadata": {},
   "source": [
    "Jupyter Notebook を使用している場合、変数名を実行するだけで、その変数の中身が表示されます。この場合、Jupyter Notebook 独自の機能により、出力が見やすく整形されます。ただし、通常の Python 実行環境（たとえばターミナルや他のエディタ）では、同じような出力は得られません。"
   ]
  },
  {
   "cell_type": "code",
   "execution_count": null,
   "id": "a4be1b15",
   "metadata": {
    "tags": [
     "scroll-output"
    ]
   },
   "outputs": [],
   "source": [
    "x"
   ]
  },
  {
   "cell_type": "markdown",
   "id": "6ed8a00a",
   "metadata": {},
   "source": [
    "また、Jupyter Notebook 上では、たとえば次のように `.style` [メソッド](section-method)などをデータに適用することで、数値データをわかりやすく可視化することができます。"
   ]
  },
  {
   "cell_type": "code",
   "execution_count": null,
   "id": "6b8f7c6c",
   "metadata": {
    "tags": [
     "scroll-output"
    ]
   },
   "outputs": [],
   "source": [
    "x.style.background_gradient()"
   ]
  },
  {
   "cell_type": "code",
   "execution_count": null,
   "id": "09f4b467",
   "metadata": {
    "tags": [
     "scroll-output"
    ]
   },
   "outputs": [],
   "source": [
    "x.style.bar()"
   ]
  },
  {
   "cell_type": "markdown",
   "id": "40fa5c7d",
   "metadata": {},
   "source": [
    "読み込んだデータ全体ではなく、たとえば最初の数行や最後の数行だけを表示したい場合には、`head` および `tail `メソッドを使用します。これらのメソッドは、標準では先頭または末尾の 5 行を表示しますが、引数 `n` を指定することで表示する行数を変更できます。また、`head` や `tail` の結果に対して、続けて `style` メソッドを適用することも可能です。"
   ]
  },
  {
   "cell_type": "code",
   "execution_count": null,
   "id": "f19d10ee",
   "metadata": {},
   "outputs": [],
   "source": [
    "x.head()"
   ]
  },
  {
   "cell_type": "code",
   "execution_count": null,
   "id": "e026c40a",
   "metadata": {},
   "outputs": [],
   "source": [
    "x.tail(n=8).style.bar()"
   ]
  },
  {
   "cell_type": "markdown",
   "id": "15d0a4fb",
   "metadata": {},
   "source": [
    "## データの行と列"
   ]
  },
  {
   "cell_type": "markdown",
   "id": "abeb4a00",
   "metadata": {},
   "source": [
    "データフレームから特定の位置にある値を取り出すには、`iloc` または `loc` を使います。`iloc` は、行番号と列番号で指定するときに使用します。`loc` は、行名（インデックス）と列名で指定するときに使用します。\n",
    "\n",
    "たとえば、データフレーム `x` の 1 行 3 列目のデータを取り出すには、`iloc[0, 2]` のように指定します。"
   ]
  },
  {
   "cell_type": "code",
   "execution_count": null,
   "id": "ecc701ed-0966-490e-84bd-972c02e7958f",
   "metadata": {},
   "outputs": [],
   "source": [
    "x.iloc[0, 2]"
   ]
  },
  {
   "cell_type": "markdown",
   "id": "c15890f0",
   "metadata": {},
   "source": [
    "なお、`iloc` および `loc` は、オブジェクトの**インデクサー**（**indexer**）と呼ばれ、添え字を使ってデータの位置やラベルを指定するための抽象的な操作手段です。インデクサーは、関数やメソッドとは異なるため、 `()` を使わずに `[]` を使って添え字を指定します。たとえば、`iloc[0, 2]` のように書くのが正しく、`iloc(0, 2)` のように書くとエラーになります。\n"
   ]
  },
  {
   "cell_type": "markdown",
   "id": "7feea18a",
   "metadata": {},
   "source": [
    "### 列の抽出"
   ]
  },
  {
   "cell_type": "markdown",
   "id": "ea3da65c-1e2d-4094-a374-d0b5b9ded0dd",
   "metadata": {},
   "source": [
    "特定の列だけを取り出す操作は、「ある列のすべての行を取り出す」ことと同じです。 たとえば、2 列目のデータをすべて取得したい場合は、`iloc[:, 1]` のように指定します。このとき、`:` は「すべての行」を意味し、`1` は 2 番目の列を取り出すという指定になります。"
   ]
  },
  {
   "cell_type": "code",
   "execution_count": null,
   "id": "de081a94-e7fa-48c4-9440-4dd16873e2fd",
   "metadata": {
    "tags": [
     "scroll-output"
    ]
   },
   "outputs": [],
   "source": [
    "x.iloc[:, 1]"
   ]
  },
  {
   "cell_type": "markdown",
   "id": "0528df28",
   "metadata": {},
   "source": [
    "```{index} Series\n",
    ":name: Series\n",
    "```\n",
    "\n",
    "(pd-series)=\n",
    "このように取り出した結果は、**シリーズ**（**Series**）というデータ型になります。シリーズは 1 列のデータを表しており、数学でいう列ベクトルのようなイメージです。基本的な扱い方はリストに似ていて、インデックスを指定して特定の位置の値を取得できます。さらに、シリーズの各要素には名前を付けることができ、名前が付いたシリーズでは、インデックスの番号だけでなく名前を使って値を取得することも可能です。"
   ]
  },
  {
   "cell_type": "markdown",
   "id": "f02d5606-31ae-4b15-adc1-1c9024a3651c",
   "metadata": {},
   "source": [
    "データフレームから複数の列を取り出す場合は、列番号をリストで指定します。"
   ]
  },
  {
   "cell_type": "code",
   "execution_count": null,
   "id": "1c335d84-41b7-4696-a82d-8f9df731d909",
   "metadata": {
    "tags": [
     "scroll-output"
    ]
   },
   "outputs": [],
   "source": [
    "x.iloc[:, [1, 2, 3]]"
   ]
  },
  {
   "cell_type": "markdown",
   "id": "a5441f3d-40ac-4585-b539-7e9ad3e7285f",
   "metadata": {},
   "source": [
    "次に、`loc` を使って行や列を抽出する方法を見ていきます。`loc` は、行名や列名を指定してデータを取り出すときに使用します。\n",
    "\n",
    "たとえば、データフレーム `x` から weight 列を取り出したい場合は、次のように実行します。"
   ]
  },
  {
   "cell_type": "code",
   "execution_count": null,
   "id": "d8cd4255-6282-4478-adbc-a5dde83af8f9",
   "metadata": {
    "tags": [
     "scroll-output"
    ]
   },
   "outputs": [],
   "source": [
    "x.loc[:, 'weight']"
   ]
  },
  {
   "cell_type": "markdown",
   "id": "be43a0bf",
   "metadata": {},
   "source": [
    "複数の列を取り出す場合は、対象となる列名をリストとして与えます。"
   ]
  },
  {
   "cell_type": "code",
   "execution_count": null,
   "id": "98b63271-a4cf-4f06-99a4-f26e38475b5c",
   "metadata": {
    "tags": [
     "scroll-output"
    ]
   },
   "outputs": [],
   "source": [
    "x.loc[:, ['height', 'diameter']]"
   ]
  },
  {
   "cell_type": "markdown",
   "id": "0d5c00da",
   "metadata": {},
   "source": [
    "なお、列の抽出するときに、`loc` や `iloc` を使わなくても、列名を使って辞書のような記法でも取り出すことができます。たとえば、`x['tree']` とするだけで、データフレーム `x` から tree 列を取り出すことができます。統計解析などでは列単位での処理が多く、このような簡潔な記法を使うことで、コードがより読みやすく、効率的になります。\n"
   ]
  },
  {
   "cell_type": "code",
   "execution_count": null,
   "id": "a576e9cb",
   "metadata": {
    "tags": [
     "scroll-output"
    ]
   },
   "outputs": [],
   "source": [
    "x['tree']"
   ]
  },
  {
   "cell_type": "markdown",
   "id": "d6d09ad2",
   "metadata": {},
   "source": [
    "### 行の抽出"
   ]
  },
  {
   "cell_type": "markdown",
   "id": "44cd0f6c-2fdd-48e1-8acf-ee7a0493512c",
   "metadata": {},
   "source": [
    "データフレームから特定の行を取り出す場合も、基本的には `iloc` または `loc` を使います。列を取り出すときと同様に、行番号や行名を指定して抽出します。"
   ]
  },
  {
   "cell_type": "code",
   "execution_count": null,
   "id": "e56ff5ca-63ee-433d-920f-4bf732227af9",
   "metadata": {},
   "outputs": [],
   "source": [
    "x.iloc[0, :]"
   ]
  },
  {
   "cell_type": "code",
   "execution_count": null,
   "id": "aba7b08a-d30c-4865-9ea6-366faec16b42",
   "metadata": {},
   "outputs": [],
   "source": [
    "x.loc[0:4, :]"
   ]
  },
  {
   "cell_type": "markdown",
   "id": "567283ea",
   "metadata": {},
   "source": [
    "条件を指定して特定の行を抽出することもできます。たとえば、「重さ（weight）」が 4.0g 以上のデータだけを取り出したい場合、まず条件に合致するかどうかを示す論理インデックスを作成し、それを使ってフィルタリングします。論理インデックスとは、各値が `True` または `False` となっているリストや、それと同等のシリーズや配列[^fn_nparray]のことを指します。\n",
    "\n",
    "[^fn_nparray]: 配列は、数値計算のために開発されたライブラリ NumPy で使われるデータ構造です。配列は、多次元のデータを効率的に扱うことができ、リストよりも高速演算が可能などの特徴があります。"
   ]
  },
  {
   "cell_type": "code",
   "execution_count": null,
   "id": "bca59556",
   "metadata": {
    "tags": [
     "scroll-output"
    ]
   },
   "outputs": [],
   "source": [
    "is_ge_4 = (x.loc[:, 'weight'] >= 4.0)\n",
    "is_ge_4"
   ]
  },
  {
   "cell_type": "code",
   "execution_count": null,
   "id": "bf913aea",
   "metadata": {
    "tags": [
     "scroll-output"
    ]
   },
   "outputs": [],
   "source": [
    "heavy_acorns = x.loc[is_ge_4, :]\n",
    "heavy_acorns"
   ]
  },
  {
   "cell_type": "markdown",
   "id": "47ec971b",
   "metadata": {},
   "source": [
    "論理インデックスは、数値の比較だけでなく、文字列の比較でも作成できます。例えば、アラカシ（arakashi）のデータだけを抽出したい場合は次のように実行します。"
   ]
  },
  {
   "cell_type": "code",
   "execution_count": null,
   "id": "d9632dfb",
   "metadata": {
    "tags": [
     "scroll-output"
    ]
   },
   "outputs": [],
   "source": [
    "arakashi = x.loc[x.loc[:, 'tree'] == 'arakashi', :]\n",
    "arakashi"
   ]
  },
  {
   "cell_type": "markdown",
   "id": "8f18e735",
   "metadata": {},
   "source": [
    "次のように簡潔に記述することもできます。"
   ]
  },
  {
   "cell_type": "code",
   "execution_count": null,
   "id": "bb040f40",
   "metadata": {
    "tags": [
     "scroll-output"
    ]
   },
   "outputs": [],
   "source": [
    "arakashi = x.loc[x['tree'] == 'arakashi', :]\n",
    "arakashi"
   ]
  },
  {
   "cell_type": "markdown",
   "id": "96ebbadb",
   "metadata": {},
   "source": [
    "## データの集計"
   ]
  },
  {
   "cell_type": "markdown",
   "id": "4280cec4",
   "metadata": {},
   "source": [
    "データフレームの各列について、欠損値を除いた後の平均値、分散、サンプル数（件数）などの概要統計量を確認するには、`describe` メソッドを利用します。このメソッドを使用すると、数値型の列すべてに対して、基本的な統計情報が自動的に計算されます。"
   ]
  },
  {
   "cell_type": "code",
   "execution_count": null,
   "id": "e5d13788",
   "metadata": {},
   "outputs": [],
   "source": [
    "x.describe()"
   ]
  },
  {
   "cell_type": "markdown",
   "id": "403567a1",
   "metadata": {},
   "source": [
    "また、特定の列だけに対して概要統計量を計算したい場合は、まずその列を取り出し、その後で `describe` メソッドを適用します。"
   ]
  },
  {
   "cell_type": "code",
   "execution_count": null,
   "id": "f5151f5e",
   "metadata": {
    "tags": [
     "scroll-output"
    ]
   },
   "outputs": [],
   "source": [
    "x.loc[:, 'weight'].describe()\n"
   ]
  },
  {
   "cell_type": "markdown",
   "id": "17820758",
   "metadata": {},
   "source": [
    "概要統計量だけでなく、基本的な統計量を個別に計算することもできます。例えば、平均や分散は次のように計算できます。いくつかの例を次に示します。"
   ]
  },
  {
   "cell_type": "code",
   "execution_count": null,
   "id": "426387f6",
   "metadata": {},
   "outputs": [],
   "source": [
    "x.loc[:, 'weight'].mean()"
   ]
  },
  {
   "cell_type": "code",
   "execution_count": null,
   "id": "a7a3794d",
   "metadata": {},
   "outputs": [],
   "source": [
    "x.loc[x['tree'] == 'kunugi', 'weight'].mean()"
   ]
  },
  {
   "cell_type": "code",
   "execution_count": null,
   "id": "ae68d955",
   "metadata": {},
   "outputs": [],
   "source": [
    "x.loc[x['tree'] == 'kunugi', ['weight', 'height']].var()"
   ]
  },
  {
   "cell_type": "markdown",
   "id": "c27b3744",
   "metadata": {},
   "source": [
    "このように、データフレームやシリーズの後ろに関数名を付けて実行すると、それぞれの列や要素に対してその関数が適用されます。ここで使われている `mean` や `var` は、データフレームやシリーズ専用に定義された関数で、これを[メソッド](section-method)と呼びます。メソッドは、特定のデータ型に対してのみ使える関数であり、他の型には使えません。たとえば、リストに対して `mean` を実行しようとすると、次のようなエラーが表示されます。"
   ]
  },
  {
   "cell_type": "code",
   "execution_count": null,
   "id": "b3578812",
   "metadata": {},
   "outputs": [],
   "source": [
    "y = [1, 2, 3]\n",
    "y.mean()"
   ]
  },
  {
   "cell_type": "markdown",
   "id": "c55d919a",
   "metadata": {},
   "source": [
    "`AttributeError` が表示された場合は、そのメソッドが使えるデータ型になっているかどうかを確認してみてください。データフレームのつもりで使っていたのに、実はリストだったという思い込みが原因なことがよくあります。Python は察してくれません。ないものはないと言います。しかも、けっこう冷たく。"
   ]
  },
  {
   "cell_type": "markdown",
   "id": "1836449a",
   "metadata": {},
   "source": [
    "次に、データに含まれる木の種類の数を調べてみましょう。データフレーム `x` の `tree` 列には、どんぐりを採取した木の種類が記録されています。このデータに何種類の木が含まれているのかを調べるには、`unique` メソッドを使います。"
   ]
  },
  {
   "cell_type": "code",
   "execution_count": null,
   "id": "ffc92239",
   "metadata": {},
   "outputs": [],
   "source": [
    "x['tree'].unique()"
   ]
  },
  {
   "cell_type": "markdown",
   "id": "69ad670c",
   "metadata": {},
   "source": [
    "このメソッドを使うと、`tree` 列に登場するユニークな値（重複のない値）が配列として表示されます。また、`unique` の代わりに `value_counts` メソッドを使うと、ユニークな値とその出現頻度を簡単に確認できます。結果はシリーズ型で返され、木の種類ごとのデータ数がわかります。"
   ]
  },
  {
   "cell_type": "code",
   "execution_count": null,
   "id": "a1645b71",
   "metadata": {},
   "outputs": [],
   "source": [
    "x['tree'].value_counts()"
   ]
  },
  {
   "cell_type": "markdown",
   "id": "6d2f0d39",
   "metadata": {},
   "source": [
    "Pandas には、簡単なグラフを描くためのメソッドも用意されています。たとえば、データフレームに対して `hist` メソッドを使うと、すべての列に対してヒストグラムが一度に描かれます。データがどのような分布になっているかを手軽に確認できます。なお、`hist` メソッドは内部で Matplotlib ライブラリを使っています。そのため、事前に Matplotlib をインポートしておく必要があります。"
   ]
  },
  {
   "cell_type": "code",
   "execution_count": null,
   "id": "9e95d54c",
   "metadata": {},
   "outputs": [],
   "source": [
    "import matplotlib\n",
    "x.hist()"
   ]
  },
  {
   "cell_type": "markdown",
   "id": "a294f42e",
   "metadata": {},
   "source": [
    "Pandas の可視化機能は、データの大まかな傾向や分布を素早く把握するのに便利です。しかし、細かい調整にはあまり向いていません。より柔軟で美しいグラフを作成したい場合は、[Matplotlib](section-matplotlib) や [Seaborn](section-seaborn) といった[外部ライブラリ](section-library)を利用するのがおすすめです。"
   ]
  },
  {
   "cell_type": "markdown",
   "id": "02efe4bb",
   "metadata": {},
   "source": [
    "```{admonition} 練習問題 PD-1\n",
    "acorns.csv データを読み込み、クヌギ（kunugi）のどんぐりについて、重さ（weight）、高さ（height）、直径（diameter）の平均値をそれぞれ求めなさい。\n",
    "```\n",
    "\n",
    "```{admonition} 練習問題 PD-2\n",
    "acorns.csv データを読み込み、平均重量が最も重いどんぐりの種類を調べなさい。\n",
    "```\n",
    "\n",
    "```{admonition} 練習問題 PD-3\n",
    "acorns.csv データを読み込み、アラカシ（arakashi）の採種地点（location）を調べ、それぞれの地点ごとに平均重量を求めなさい。\n",
    "```\n",
    "\n",
    "```{admonition} 練習問題 PD-4\n",
    "acorns.csv データを読み込み、クヌギ（kunugi）のどんぐりの重さ（weight）が 4.0g 以上のデータだけを抽出し、その件数を求めなさい。\n",
    "```"
   ]
  },
  {
   "cell_type": "markdown",
   "id": "4798181d",
   "metadata": {},
   "source": [
    "合ってそうに見える出力がいちばん怖い。特に締切前は。"
   ]
  },
  {
   "cell_type": "code",
   "execution_count": null,
   "id": "429981b2",
   "metadata": {
    "tags": [
     "remove-cell"
    ]
   },
   "outputs": [],
   "source": [
    "!rm acorns.clean.csv\n",
    "!rm acorns.clean.nh.csv\n",
    "!rm acorns.clean.meta.csv\n",
    "!rm acorns.clean.tsv\n",
    "!rm acorns.csv"
   ]
  }
 ],
 "metadata": {
  "kernelspec": {
   "display_name": "ebook",
   "language": "python",
   "name": "python3"
  },
  "language_info": {
   "codemirror_mode": {
    "name": "ipython",
    "version": 3
   },
   "file_extension": ".py",
   "mimetype": "text/x-python",
   "name": "python",
   "nbconvert_exporter": "python",
   "pygments_lexer": "ipython3",
   "version": "3.11.4"
  }
 },
 "nbformat": 4,
 "nbformat_minor": 5
}
