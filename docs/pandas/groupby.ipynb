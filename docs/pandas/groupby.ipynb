{
 "cells": [
  {
   "cell_type": "code",
   "execution_count": null,
   "id": "43906def",
   "metadata": {
    "tags": [
     "remove-cell"
    ]
   },
   "outputs": [],
   "source": [
    "import os\n",
    "import sys\n",
    "sys.path.append(os.path.abspath('..'))\n",
    "from config import *\n",
    "\n",
    "!cp ../data/acorns.clean.csv .\n",
    "!cp ../data/acorns.csv ."
   ]
  },
  {
   "cell_type": "markdown",
   "id": "1c494c8b-c908-41fe-a701-17038c3be453",
   "metadata": {},
   "source": [
    "# グループ化処理"
   ]
  },
  {
   "cell_type": "markdown",
   "id": "dbc16dcd",
   "metadata": {},
   "source": [
    "データに複数のグループが含まれており、それぞれのグループに対して同じような処理を行いたい場合は、Pandas の `groupby` メソッドを利用すると効率的です。本節では、どんぐりのデータセット（acorns.csv）を使って、グループ化処理の基本的な使い方を紹介していきます。"
   ]
  },
  {
   "cell_type": "code",
   "execution_count": null,
   "id": "0ed21283",
   "metadata": {
    "tags": [
     "scroll-output"
    ]
   },
   "outputs": [],
   "source": [
    "x = pd.read_csv('acorns.clean.csv')\n",
    "x"
   ]
  },
  {
   "cell_type": "markdown",
   "id": "a9208e24",
   "metadata": {},
   "source": [
    "## groupby"
   ]
  },
  {
   "cell_type": "markdown",
   "id": "ddb4847c-3c29-415e-8bb9-77ecd0336e70",
   "metadata": {},
   "source": [
    "データフレームのある列の値に基づいて、データを一時的に複数のグループ（サブセット）に分けて処理を行うとき、`groupby` メソッドを使用します。`groupby` メソッドを利用するとき、グループ化の基準となる列名を指定します。たとえば、どんぐりのデータセットにおいて、樹種（tree 列の値）ごとにデータをグループ化したい場合、次のように記述します。"
   ]
  },
  {
   "cell_type": "code",
   "execution_count": null,
   "id": "ff97d689",
   "metadata": {},
   "outputs": [],
   "source": [
    "x_subsets = x.groupby('tree')"
   ]
  },
  {
   "cell_type": "markdown",
   "id": "321c1c87",
   "metadata": {},
   "source": [
    "`groupby` メソッドを使うと、指定した列の値に基づいてデータをいくつかのグループに分けることができます。`groupby` が返すオブジェクトは、グループ化されたサブセットの集まりで、リストのように扱うことが可能です。このオブジェクトを `for` 文で繰り返し処理することで、各グループに対して同じ処理を適用することができます。ここで注意すべきなのは、`groupby` オブジェクトは各グループを「グループ名」と「そのグループのサブセット（データフレーム）」のペアで保持しているという点です。そのため、`for` 文では 2 つの変数を用意して、それぞれを受け取る必要があります。\n",
    "\n",
    "次は、各樹種のどんぐりについて、重さ（weight）の平均値を計算する例です。`groupby` の結果に対して `for` 文で繰り返し処理を行います。各繰り返しでは、グループ名（`tree`）とそのグループに対応するデータ（`x_subset`）が得られるため、それを使って平均値を計算しています。"
   ]
  },
  {
   "cell_type": "code",
   "execution_count": null,
   "id": "d087f6da-eb59-445e-b464-5833b06f9d40",
   "metadata": {},
   "outputs": [],
   "source": [
    "for tree, x_subset in x_subsets:\n",
    "    print(tree)\n",
    "    print(x_subset['weight'].mean())"
   ]
  },
  {
   "cell_type": "markdown",
   "id": "ad54de0b",
   "metadata": {},
   "source": [
    "また、次のように `for` 文の中で `groupby` を直接利用することもできます。"
   ]
  },
  {
   "cell_type": "code",
   "execution_count": null,
   "id": "edfa0be3",
   "metadata": {},
   "outputs": [],
   "source": [
    "for tree, x_sub in x.groupby('tree'):\n",
    "    print(tree)\n",
    "    print(x_sub['weight'].mean())"
   ]
  },
  {
   "cell_type": "markdown",
   "id": "6f4d0c58-b917-4f3e-941a-1a61c24b7bfc",
   "metadata": {},
   "source": [
    "次に、重さ（weight）だけでなく、高さ（height）、直径（diameter）の 3 つの項目すべてに対して、樹種ごとの平均値を計算する例を示します。"
   ]
  },
  {
   "cell_type": "code",
   "execution_count": null,
   "id": "630d69be-71bf-4593-aacd-2b339d2524ec",
   "metadata": {},
   "outputs": [],
   "source": [
    "for tree, x_sub in x.groupby('tree'):\n",
    "    print(tree)\n",
    "    print(x_sub[['weight', 'height', 'diameter']].mean())"
   ]
  },
  {
   "cell_type": "markdown",
   "id": "2eaa7400-08cd-422c-8dff-567664a7b52c",
   "metadata": {},
   "source": [
    "`groupby` の結果を `for` 構文で処理すると、各グループごとの結果はシリーズ型で出力され、一覧性に欠けて見づらくなります。そこで、集計結果を見やすくするために、各グループに対する計算結果を一時的にリスト `outputs` に追加し、最後にそれをデータフレームに変換します。"
   ]
  },
  {
   "cell_type": "code",
   "execution_count": null,
   "id": "8d64e6b5-9e56-48a3-a38b-fd738203b777",
   "metadata": {},
   "outputs": [],
   "source": [
    "outputs = []\n",
    "\n",
    "for tree, x_sub in x.groupby('tree'):\n",
    "    x_table = x_sub[['weight', 'height', 'diameter']].mean()\n",
    "    x_table['tree'] = tree\n",
    "    outputs.append(x_table)\n",
    "\n",
    "outputs = pd.DataFrame(outputs)\n",
    "outputs"
   ]
  },
  {
   "cell_type": "markdown",
   "id": "8f067e50-fc3b-4d4c-ae42-fc0c3e805d5c",
   "metadata": {},
   "source": [
    "次に、もう少し複雑な処理の例を見てみましょう。樹種ごとに、どんぐりの重さの最大値・最小値、さらにその差（範囲）を計算します。各グループの計算結果は、後でデータフレームに変換しやすいように、辞書形式で保存し、それをリスト `outputs` に追加していきます。"
   ]
  },
  {
   "cell_type": "code",
   "execution_count": null,
   "id": "22b9cb3e-22a7-4c7d-9d48-b157219b4622",
   "metadata": {},
   "outputs": [],
   "source": [
    "outputs = []\n",
    "\n",
    "for tree, x_sub in x.groupby('tree'):\n",
    "    x_sub_max = x_sub['weight'].max()\n",
    "    x_sub_min = x_sub['weight'].min()\n",
    "    outputs.append({\n",
    "        'tree': tree,\n",
    "        'weight_max': x_sub_max,\n",
    "        'weight_min': x_sub_min,\n",
    "        'weight_range': x_sub_max - x_sub_min\n",
    "    })\n",
    "\n",
    "outputs = pd.DataFrame(outputs)\n",
    "outputs"
   ]
  },
  {
   "cell_type": "markdown",
   "id": "f1eaec0b",
   "metadata": {},
   "source": [
    "このように、`groupby` を使えば、グループ単位で柔軟な集計処理を行うことができます。必要に応じて、集計関数を自作したり、複数の列や複雑な計算を加えることも可能です。"
   ]
  },
  {
   "cell_type": "markdown",
   "id": "03e9df4b",
   "metadata": {},
   "source": [
    "## agg"
   ]
  },
  {
   "cell_type": "markdown",
   "id": "a601e0ec",
   "metadata": {},
   "source": [
    "基本的な集計処理では、`groupby` と `agg` メソッドを組み合わせて使うことで、簡潔に記述できます。たとえば、各樹種（tree）ごとにどんぐりの各特徴量の最大値と最小値を集計するには、次のように `agg` メソッドに集計関数をリスト形式で渡します。なお、最大値や最小値を計算する関数は自作してもかまいませんが、ここでは NumPy の `np.max` と `np.min` を利用しています。"
   ]
  },
  {
   "cell_type": "code",
   "execution_count": null,
   "id": "2a434dfa",
   "metadata": {},
   "outputs": [],
   "source": [
    "import numpy as np\n",
    "\n",
    "x.groupby('tree').agg([np.max, np.min])"
   ]
  },
  {
   "cell_type": "markdown",
   "id": "d41ac4b4",
   "metadata": {},
   "source": [
    "標準で用意されていない集計処理を行いたい場合は、ユーザー独自の関数を定義し、それを `agg` メソッドに渡すことができます。例えば、「最大値と最小値の差（範囲）」を計算する場合は、次のようにします。"
   ]
  },
  {
   "cell_type": "code",
   "execution_count": null,
   "id": "fecd0b1f",
   "metadata": {},
   "outputs": [],
   "source": [
    "def calc_range(x):\n",
    "    return x.max() - x.min()\n",
    "\n",
    "x.groupby('tree').agg([np.max, np.min, calc_range])"
   ]
  },
  {
   "cell_type": "markdown",
   "id": "63870361",
   "metadata": {},
   "source": [
    "特定の列だけを対象に集計したい場合は、`groupby` のあとで該当する列を選択してから `agg` メソッドを適用します。例えば、どんぐりの重さ（weight）と高さ（height）のみに対して、それぞれ平均（`np.mean`）と分散（`np.var`）を計算するには、次のように書きます。"
   ]
  },
  {
   "cell_type": "code",
   "execution_count": null,
   "id": "5821563b",
   "metadata": {},
   "outputs": [],
   "source": [
    "x.groupby('tree')[['weight', 'height']].agg(['mean', 'var'])"
   ]
  },
  {
   "cell_type": "markdown",
   "id": "628fe807",
   "metadata": {},
   "source": [
    "以上のように、`agg` メソッドを使うことで、コードを簡潔に記述できるだけでなく、グループごとの統計量を効率的にまとめて計算できるようになります。\n",
    "\n",
    "これなら、冬眠前のどんぐり棚卸しも一瞬で終わりますね。"
   ]
  },
  {
   "cell_type": "markdown",
   "id": "f48818b9",
   "metadata": {},
   "source": [
    "## apply"
   ]
  },
  {
   "cell_type": "markdown",
   "id": "71339a68",
   "metadata": {},
   "source": [
    "`groupby` の後には、`apply` メソッドを使ってグループごとの処理を行うこともできます。`agg` メソッドは、各グループに対して平均、合計、最大値、最小値といった定型的な集計処理を簡潔に記述でき、高速に動作するのが特徴です。一方で、`apply` メソッドはより柔軟で強力な処理が可能です。グループごとのサブセットに対して、欠損値の補完、並べ替え、フィルタリング、標準化など、自由な処理を適用することができます。基本的には、`for` 文を使ってグループごとに処理を書くのと同じことを、簡潔に効率よく実行できます。\n",
    "\n",
    "なお、`apply` で実現できる処理は多くの場合 `for` 文でも代替可能です。そのため、ここではいくつかの使用例を示し、深入りしません。"
   ]
  },
  {
   "cell_type": "code",
   "execution_count": null,
   "id": "ecdf57ca",
   "metadata": {},
   "outputs": [],
   "source": [
    "x.groupby('tree').apply(np.mean)"
   ]
  },
  {
   "cell_type": "code",
   "execution_count": null,
   "id": "a7a311c3",
   "metadata": {},
   "outputs": [],
   "source": [
    "x.groupby('tree')['weight'].apply(np.max)"
   ]
  },
  {
   "cell_type": "code",
   "execution_count": null,
   "id": "0c4ae16e",
   "metadata": {},
   "outputs": [],
   "source": [
    "def calc_range(x):\n",
    "    return x.max() - x.min()\n",
    "\n",
    "x.groupby('tree')['weight'].apply(calc_range)"
   ]
  },
  {
   "cell_type": "markdown",
   "id": "9266c276",
   "metadata": {},
   "source": [
    "\n",
    "```{admonition} 練習問題 PG-1\n",
    "acorns.csv データを読み込み、どんぐり各種の重さ（weight）の平均と分散を求めなさい。\n",
    "```\n",
    "\n",
    "```{admonition} 練習問題 PG-2\n",
    "acorns.csv データを読み込み、どんぐり各種の重さ（weight）、高さ（height）、直径（diameter）の平均値と分散をそれぞれ求めなさい。\n",
    "```\n",
    "\n",
    "```{admonition} 練習問題 PG-3\n",
    "データ全体から計算した平均と標準偏差の「平均 ± 2 × 標準偏差」の範囲に含まれないデータを外れ値と定義します。acorns.csv データを読み込み、どんぐり各種に対して、重さ（weight）が外れ値にあたるどんぐりの個数を求めよ。\n",
    "```"
   ]
  },
  {
   "cell_type": "code",
   "execution_count": null,
   "id": "08dcfef5",
   "metadata": {
    "tags": [
     "remove-cell"
    ]
   },
   "outputs": [],
   "source": [
    "!rm acorns.clean.csv\n",
    "!rm acorns.csv"
   ]
  }
 ],
 "metadata": {
  "kernelspec": {
   "display_name": "ebook",
   "language": "python",
   "name": "python3"
  },
  "language_info": {
   "codemirror_mode": {
    "name": "ipython",
    "version": 3
   },
   "file_extension": ".py",
   "mimetype": "text/x-python",
   "name": "python",
   "nbconvert_exporter": "python",
   "pygments_lexer": "ipython3",
   "version": "3.11.4"
  }
 },
 "nbformat": 4,
 "nbformat_minor": 5
}
