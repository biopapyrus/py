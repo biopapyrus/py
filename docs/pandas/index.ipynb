{
 "cells": [
  {
   "cell_type": "markdown",
   "id": "928926e5-c72a-4c8a-8c3d-70e80be392de",
   "metadata": {},
   "source": [
    "# データ分析（Pandas）"
   ]
  },
  {
   "cell_type": "markdown",
   "id": "b5ce1248-7b6d-40d8-9c82-9e8cc7f8b43a",
   "metadata": {},
   "source": [
    "データ分析の基本的な流れは、まずファイルからデータを読み込み、外れ値や異常値を取り除いて扱いやすい形に整えるデータクレンジングから始まります。次に、データを可視化して傾向を確認し、どのモデルやアルゴリズムを使うかを検討しつつ、本格的な解析に進んでいきます。しかし、一度の解析で理想的な結果が得られるのは、教科書にあるような整ったデータに限られます。特に、生物実験などで収集された実データの場合、一度で納得のいく結果が出ることは稀で、閾値を調整しながらクレンジングを繰り返したり、使用するアルゴリズムを見直したりしながら再解析を行う必要があります。もはや「解析」というよりも「探検」に近い作業です。\n",
    "\n",
    "こうした試行錯誤を重ねながら進めるプロセスは、**探索的データ解析**（**exploratory data analysis**; **EDA**）と呼ばれます。本来であれば、こうした作業も繰り返し構文で自動化できれば理想的です。しかし、現実は「この辺の値を消してみるか」、「あれ、平均変わった？」と勘でいじる日々。ハイテクな環境で最新の[ライブラリ](section-library)を使いながら、やってることは勘と経験。それでも進められるのは、Pandas のおかげです。\n",
    "\n",
    "Pandas は、ファイルの読み書き、データ整形やデータクレンジング、さらには簡単な集計なども行えるライブラリです。本章ではこれら Pandas の基本的な機能を紹介していきます。\n",
    "\n",
    "なお、Pandas を使用するにはインポートが必要です。一般的には以下のように記述します。"
   ]
  },
  {
   "cell_type": "code",
   "execution_count": null,
   "id": "cd0c01be",
   "metadata": {},
   "outputs": [],
   "source": [
    "import pandas as pd"
   ]
  },
  {
   "cell_type": "markdown",
   "id": "e149d3d2",
   "metadata": {},
   "source": [
    "このように `as pd` を指定することで、以後は `pandas` の代わりに `pd` という短縮名で使用することができます。たとえば、`pd.read_csv` で CSV ファイルを読み込んだり、`pd.mean` を使って平均値を求めたりすることができます。\n",
    "\n",
    "「なぜ `pd` なのか？」ーー聞くな。空気を読め。\n",
    "\n",
    "もし Pandas をインポートしようとした際に `ModuleNotFoundError: No module named 'pandas'` といったエラーが表示された場合は、Pandas がまだインストールされていないことを意味します。その場合は、以下のコマンドをターミナルで実行してインストールしてください。\n",
    "\n",
    "\n",
    "```bash\n",
    "pip install pandas\n",
    "```\n",
    "\n",
    "Jupyter Notebook を使っている場合は、コマンドの先頭に `!` をつけて実行します。\n",
    "\n",
    "```bash\n",
    "!pip install pandas\n",
    "```\n",
    "\n",
    "インストールが完了したら、再度 `import pandas as pd` を実行して準備完了です。"
   ]
  }
 ],
 "metadata": {
  "kernelspec": {
   "display_name": "ebook",
   "language": "python",
   "name": "python3"
  },
  "language_info": {
   "codemirror_mode": {
    "name": "ipython",
    "version": 3
   },
   "file_extension": ".py",
   "mimetype": "text/x-python",
   "name": "python",
   "nbconvert_exporter": "python",
   "pygments_lexer": "ipython3",
   "version": "3.11.4"
  }
 },
 "nbformat": 4,
 "nbformat_minor": 5
}
