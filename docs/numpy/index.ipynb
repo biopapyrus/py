{
 "cells": [
  {
   "cell_type": "markdown",
   "id": "928926e5-c72a-4c8a-8c3d-70e80be392de",
   "metadata": {},
   "source": [
    "# 数値計算（NumPy）"
   ]
  },
  {
   "cell_type": "markdown",
   "id": "b5ce1248-7b6d-40d8-9c82-9e8cc7f8b43a",
   "metadata": {},
   "source": [
    "NumPy は数値計算向けに作られた[ライブラリー](section-library)で、線形代数などのさまざまな演算を効率よくサポートしています。自分でアルゴリズムを開発して実装する際には、NumPy を活用することで計算速度が速く、計算精度も高く保てます。しかし、生物学や農学の分野では、一部の開発者を除いては、Pandas や scikit-learn といったライブラリーを介して、既存の統計や機械学習のアルゴリズムを使ってデータ解析を行うケースがほとんどです。そのため、NumPy を直接利用する場面は比較的少ないと言えます。\n",
    "\n",
    "それでも、本章ではその NumPy の基本的な使い方を中心に紹介していきます。おそらくデータ解析が目的であればほとんど利用しないであろうの機能も例示していきます。勉強しても、使わない。知ってる。資料を作っているこっちが一番わかってる。でも、これって、プログラミングの授業に限った話じゃないでしょ。\n",
    "\n",
    "\n",
    "NumPy を使用するにはインポートが必要です。一般的には以下のように記述します。"
   ]
  },
  {
   "cell_type": "code",
   "execution_count": null,
   "id": "5af24dc8",
   "metadata": {
    "vscode": {
     "languageId": "plaintext"
    }
   },
   "outputs": [],
   "source": [
    "import numpy as np"
   ]
  },
  {
   "cell_type": "markdown",
   "id": "333ea6be",
   "metadata": {},
   "source": [
    "これで NumPy のすべての機能を `np` という名前で利用できるようになります。例えば、`np.array` を使ってリストを NumPy 配列に変換したり、`np.mean` を使って平均値を計算したりすることができます。\n",
    "\n",
    "なお、NumPy を使用しようとしたときに、`ModuleNotFoundError: No module named 'numpy'` のようなエラーが表示される場合があります。このエラーは、NumPy ライブラリがインストールされていないことを示しています。その場合は、次のコマンドで NumPy をインストールしてください。\n",
    "\n",
    "```bash\n",
    "pip install numpy\n",
    "```\n",
    "\n",
    "Jupyter Notebook を使っている場合は、コマンドの先頭に `!` をつけて実行します。\n",
    "\n",
    "```bash\n",
    "!pip install numpy\n",
    "```\n",
    "\n",
    "インストールが完了したら、再度 `import numpy as np` を実行して準備完了です。"
   ]
  }
 ],
 "metadata": {
  "kernelspec": {
   "display_name": "ebook",
   "language": "python",
   "name": "python3"
  },
  "language_info": {
   "codemirror_mode": {
    "name": "ipython",
    "version": 3
   },
   "file_extension": ".py",
   "mimetype": "text/x-python",
   "name": "python",
   "nbconvert_exporter": "python",
   "pygments_lexer": "ipython3",
   "version": "3.11.4"
  }
 },
 "nbformat": 4,
 "nbformat_minor": 5
}
