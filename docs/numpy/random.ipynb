{
 "cells": [
  {
   "cell_type": "code",
   "execution_count": null,
   "id": "43906def",
   "metadata": {
    "tags": [
     "remove-cell"
    ]
   },
   "outputs": [],
   "source": [
    "import os\n",
    "import sys\n",
    "sys.path.append(os.path.abspath('..'))\n",
    "from config import *"
   ]
  },
  {
   "cell_type": "markdown",
   "id": "6077d024-1b0d-4484-82d5-8aa475456bcf",
   "metadata": {},
   "source": [
    "# 乱数"
   ]
  },
  {
   "cell_type": "markdown",
   "id": "1415c456",
   "metadata": {},
   "source": [
    "乱数は、データ分析、機械学習、シミュレーション、統計解析など、さまざまな分野で重要な役割を果たします。NumPy の random モジュールには、さまざまな確率分布に基づいて乱数を生成する機能が用意されています。以下では、基本的な乱数の生成方法をいくつか紹介します。\n",
    "\n",
    "平均 0、標準偏差 1 の標準正規分布に従う乱数を 10 個生成するには、次のようにします。"
   ]
  },
  {
   "cell_type": "code",
   "execution_count": null,
   "id": "fb6a04fb",
   "metadata": {},
   "outputs": [],
   "source": [
    "np.random.normal(0, 1, 10)"
   ]
  },
  {
   "cell_type": "markdown",
   "id": "554cf858",
   "metadata": {},
   "source": [
    "0 以上 1 未満の一様分布に従う乱数を 10 個生成するには、次のようにします。"
   ]
  },
  {
   "cell_type": "code",
   "execution_count": null,
   "id": "8d85c257",
   "metadata": {},
   "outputs": [],
   "source": [
    "np.random.rand(10)"
   ]
  },
  {
   "cell_type": "markdown",
   "id": "def4b687",
   "metadata": {},
   "source": [
    "NumPy の random モジュールは、基本的には乱数を生成するための機能を提供していますが、それをうまく活用することで、シミュレーションや統計解析など、さまざまなデータ解析に応用することができます。ここではその応用例として、モンテカルロ法による円周率の推定を紹介します。\n",
    "\n",
    "円周率 $\\pi$ は円の直径に対する円周の長さの比率と定義されています。この定義に基けば、半径 $r$ の円の面積は $r \\times ( \\pi r) = \\pi r^{2}$ となります。ここで、半径の 1 の円が XY 平面上に置かれ、円の中心が XY 平面の原点にあるとき、第一象限（$x > 0$ かつ $y>0$）を占め円の面積は $\\frac{\\pi}{4}$ と計算されます。また、この円を外接する正方形が第一象限を占める面積は 1 となります。両者の面積比が $\\frac{\\pi}{4} : 1$ となることがわかります。そこで、もしこの正方形の中にランダムに点を打ったとき、そのうち円の中に入る点の割合は、およそ $\\frac{\\pi}{4}$ % となるはずです。点の数 $n$ が十分に多ければ、円の中に入る点の数は $n\\frac{\\pi}{4}$ 個となるはずです。このことを利用して円周率を推定します。"
   ]
  },
  {
   "cell_type": "code",
   "execution_count": null,
   "id": "961ccbc1",
   "metadata": {
    "tags": [
     "hide-input"
    ]
   },
   "outputs": [],
   "source": [
    "n = 1000\n",
    "x = np.random.rand(n)\n",
    "y = np.random.rand(n)\n",
    "is_inside = (x ** 2 + y ** 2 < 1)\n",
    "\n",
    "fig = plt.figure()\n",
    "ax = fig.add_subplot()\n",
    "ax.scatter(x[~is_inside], y[~is_inside], c='#f39200')\n",
    "ax.scatter(x[is_inside], y[is_inside], c='#31b7bc')\n",
    "ax.set_aspect('equal')"
   ]
  },
  {
   "cell_type": "markdown",
   "id": "00351c76",
   "metadata": {},
   "source": [
    "まず、$0 \\le x \\le 1$ および $0 \\le y \\le 1$ の範囲で点を 1 万個を打ちます。その座標を生成します。"
   ]
  },
  {
   "cell_type": "code",
   "execution_count": null,
   "id": "027939f6",
   "metadata": {},
   "outputs": [],
   "source": [
    "n = 10_000\n",
    "x = np.random.rand(n)\n",
    "y = np.random.rand(n)"
   ]
  },
  {
   "cell_type": "markdown",
   "id": "c66a6a66",
   "metadata": {},
   "source": [
    "次に、円に含まれる点の数を計算します。"
   ]
  },
  {
   "cell_type": "code",
   "execution_count": null,
   "id": "94ae3103",
   "metadata": {},
   "outputs": [],
   "source": [
    "n_inside = np.sum(x**2 + y**2 < 1)"
   ]
  },
  {
   "cell_type": "markdown",
   "id": "cb43419f",
   "metadata": {},
   "source": [
    "これをもって円周率を計算してみます。"
   ]
  },
  {
   "cell_type": "code",
   "execution_count": null,
   "id": "303e85cb",
   "metadata": {},
   "outputs": [],
   "source": [
    "pi = 4 * n_inside / n\n",
    "pi"
   ]
  },
  {
   "cell_type": "markdown",
   "id": "03e45de9",
   "metadata": {},
   "source": [
    "次に点の数を増やしていきましょう。推定される円周率が少しだけ正確になるのを確認できます。"
   ]
  },
  {
   "cell_type": "code",
   "execution_count": null,
   "id": "81bc5069",
   "metadata": {},
   "outputs": [],
   "source": [
    "n = 100_000_000\n",
    "x = np.random.rand(n)\n",
    "y = np.random.rand(n)\n",
    "n_inside = np.sum(x**2 + y**2 < 1)\n",
    "pi = 4 * n_inside / n\n",
    "pi"
   ]
  },
  {
   "cell_type": "markdown",
   "id": "0fbb848c",
   "metadata": {},
   "source": [
    "```{admonition} 練習問題 NR-1\n",
    "「XY 平面の $0 \\le x \\le 1$ および $0 \\le y \\le 1$ の範囲に 1 万個の点を打ち、円周率を計算する」操作を 1000 回繰り返し、1000 回の操作で得られた 1000 個の円周率の推定値の平均を計算するプログラムを作成してください。\n",
    "```\n",
    "\n",
    "```{admonition} 練習問題 NR-2\n",
    "$r$ を正の実数とします。XYZ 空間において、\n",
    "\n",
    "$$\n",
    "\\begin{cases}\n",
    "    x^{2} + y^{2} & \\le & 1 \\\\\n",
    "    y^{2} + z^{2} & \\le & 1 \\\\\n",
    "    z^{2} + x^{2} & \\le & 1\n",
    "\\end{cases}\n",
    "$$\n",
    "\n",
    "を満たす点全体の立体の体積を計算するプログラムを作成してください。なお、体積計算を行う際に利用する乱数の個数を $n$ とします。\n",
    "```"
   ]
  }
 ],
 "metadata": {
  "kernelspec": {
   "display_name": "ebook",
   "language": "python",
   "name": "python3"
  },
  "language_info": {
   "codemirror_mode": {
    "name": "ipython",
    "version": 3
   },
   "file_extension": ".py",
   "mimetype": "text/x-python",
   "name": "python",
   "nbconvert_exporter": "python",
   "pygments_lexer": "ipython3",
   "version": "3.11.4"
  }
 },
 "nbformat": 4,
 "nbformat_minor": 5
}
