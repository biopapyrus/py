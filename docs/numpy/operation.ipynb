{
 "cells": [
  {
   "cell_type": "code",
   "execution_count": null,
   "id": "43906def",
   "metadata": {
    "tags": [
     "remove-cell"
    ]
   },
   "outputs": [],
   "source": [
    "import os\n",
    "import sys\n",
    "sys.path.append(os.path.abspath('..'))\n",
    "from config import *"
   ]
  },
  {
   "cell_type": "markdown",
   "id": "01e5d398",
   "metadata": {},
   "source": [
    "# 配列操作"
   ]
  },
  {
   "cell_type": "markdown",
   "id": "d72d6c05",
   "metadata": {},
   "source": [
    "本節では、複数の[配列](np-array)を連結したり、既存の配列の次元数や形状を変更したりする方法について説明します。なお、これらの操作によって生成される配列は、[ビュー](np_view_and_copy)として生成されます。ビューは元の配列と[メモリー](メモリー)を共有しているため、生成元または生成後のいずれかの配列の値を変更すると、もう一方の配列の値も連動して変化します。予期せぬデータの変更を避けるためにも、取り扱いには十分に注意してください。"
   ]
  },
  {
   "cell_type": "markdown",
   "id": "15fe8724",
   "metadata": {},
   "source": [
    "## 連結"
   ]
  },
  {
   "cell_type": "markdown",
   "id": "43b20f17",
   "metadata": {},
   "source": [
    "複数の配列を連結するには、`np.concatenate` や `np.stack` 関数を使用します。これらの関数は似ていますが、動作に明確な違いがあります。`np.concatenate` は、既存の次元に沿って配列を結合します。一方、`np.stack` は新しい次元（軸）を追加して連結を行います。そのため、連結後の配列は元の配列より次元が 1 つ増えます。\n",
    "\n",
    "では、それぞれの使い方を具体的に見ていきましょう。\n",
    "\n",
    "2 行 4 列の行列　`a` および `b` を用意し、両者を `np.concatenate` 関数で連結します。`axis` オプションを指定しない場合は、`axis=0` として、行方向に連結が行われます。つまり、行数が増える形になります。"
   ]
  },
  {
   "cell_type": "code",
   "execution_count": null,
   "id": "4e83bca5",
   "metadata": {},
   "outputs": [],
   "source": [
    "a = np.array([[1, 2, 3, 4],\n",
    "              [5, 6, 7, 8]])\n",
    "b = np.array([[0, 0, 1, 1],\n",
    "              [1, 1, 0, 0]])\n",
    "x = np.concatenate([a, b])\n",
    "x"
   ]
  },
  {
   "cell_type": "markdown",
   "id": "bfdc45cd",
   "metadata": {},
   "source": [
    "`np.concatenate` に `axis=1` を指定すると、第二次元方向に向かって連結されます。つまり、列数が増える方向で連結が行われます。"
   ]
  },
  {
   "cell_type": "code",
   "execution_count": null,
   "id": "631c1f8b",
   "metadata": {},
   "outputs": [],
   "source": [
    "x = np.concatenate([a, b], axis=1)\n",
    "x"
   ]
  },
  {
   "cell_type": "markdown",
   "id": "5850c576",
   "metadata": {},
   "source": [
    "```{tip}\n",
    "連結を行う関数に `np.vstack` と `np.hstack` もあります。`np.vstack([a, b])` は `np.concatenate([a, b], axis=0)`、`np.hstack([a, b])` は `np.concatenate([a, b], axis=1)` と同じ動作をします。これらは `np.concatenate` よりも簡潔に記述できるため、よく使われます。\n",
    "```"
   ]
  },
  {
   "cell_type": "markdown",
   "id": "9e4fe4ad",
   "metadata": {},
   "source": [
    "`np.stack` を使うと、新しい次元（軸）が追加されて連結されます。この関数にも `axis` オプションが用意されています。オプションを指定しない場合、`axis=0` として扱われ、配列が縦方向に積み重ねられた形になり、2 行 4 列の行列になります。"
   ]
  },
  {
   "cell_type": "code",
   "execution_count": null,
   "id": "3112d1d0",
   "metadata": {},
   "outputs": [],
   "source": [
    "a = np.array([1, 2, 3, 4])\n",
    "b = np.array([5, 6, 7, 8])\n",
    "x = np.stack([a, b])\n",
    "x"
   ]
  },
  {
   "cell_type": "markdown",
   "id": "2692f8ba",
   "metadata": {},
   "source": [
    "`axis=1` を指定すると、配列は横方向に積み重ねられ、4 行 2 列の行列になります。\n"
   ]
  },
  {
   "cell_type": "code",
   "execution_count": null,
   "id": "9afcca94",
   "metadata": {},
   "outputs": [],
   "source": [
    "x = np.stack([a, b], axis=1)\n",
    "x"
   ]
  },
  {
   "cell_type": "markdown",
   "id": "7ada1b9b",
   "metadata": {},
   "source": [
    "## 形状変更"
   ]
  },
  {
   "cell_type": "markdown",
   "id": "753dedd5",
   "metadata": {},
   "source": [
    "一度に作成した配列は、必要に応じてその形を変更することができます。二次元配列（行列）の行と列を入れ替える転置はもちろんのこと、二次元配列を一次元配列に変換したり、一次元配列を三次元配列に変換したりすることも可能です。\n",
    "\n",
    "多次元配列を一次元配列に変換するには、`np.ravel` 関数を利用すると便利です。例えば、次のように二次元配列を一次元配列に変換できますが、多次元配列でも同様の変換が可能です。"
   ]
  },
  {
   "cell_type": "code",
   "execution_count": null,
   "id": "37592234",
   "metadata": {},
   "outputs": [],
   "source": [
    "x = np.array([[1, 2, 3, 4],\n",
    "              [5, 6, 7, 8]])\n",
    "a = np.ravel(x)\n",
    "a"
   ]
  },
  {
   "cell_type": "markdown",
   "id": "8026cd97",
   "metadata": {},
   "source": [
    "配列を一次元に展開する際には、`order` オプションでその順序を指定できます。何も指定しなければ、デフォルトで `order='C'` が適用され、行方向を優先して展開されます。一方で、`order='F'` を指定すると、列方向を優先して展開されます。配列の次元数が高くなると、展開順序が直感的に理解しにくくなることもあるため、常に `print` 関数などで展開後の内容を確認しながら処理を進めると安心です。また、`order` には `'A'` や `'K'` も指定できますが、実際にはデフォルトのままで使うことがほとんどです。"
   ]
  },
  {
   "cell_type": "code",
   "execution_count": null,
   "id": "9301a31f",
   "metadata": {},
   "outputs": [],
   "source": [
    "b = np.ravel(x, order='F')\n",
    "b"
   ]
  },
  {
   "cell_type": "markdown",
   "id": "b3a32e2c",
   "metadata": {},
   "source": [
    "配列の形を任意に変換したいときには、`np.reshape` 関数を利用すると便利です。この関数では、対象となる配列とともに新しい各次元の要素数を指定することで、柔軟に形状の変換を行うことができます。`np.reshape` は、内部的にはまず配列を一次元に変換してから、指定された形に再構築するような動作をしており、その順序を制御するための `order` オプションも用意されています。\n",
    "\n",
    "まず、一次元配列を二次元配列に変換する例を見てみましょう。たとえば、要素が 8 個ある一次元配列を 2 行 4 列の二次元配列に変換するには、次のようにします。"
   ]
  },
  {
   "cell_type": "code",
   "execution_count": null,
   "id": "8e137e5f",
   "metadata": {},
   "outputs": [],
   "source": [
    "x = np.array([1, 2, 3, 4, 5, 6, 7, 8])\n",
    "a = np.reshape(x, [2, 4])\n",
    "a"
   ]
  },
  {
   "cell_type": "markdown",
   "id": "1e4862e0",
   "metadata": {},
   "source": [
    "もう一つ例を挙げてみます。24 個の要素を持つ一次元配列を三次元配列に変換してみましょう。ここでは、一次元目に 4 個、二次元目に 2 個、三次元目に 3 個の要素数を持たせるように指定します。"
   ]
  },
  {
   "cell_type": "code",
   "execution_count": null,
   "id": "692d5963",
   "metadata": {},
   "outputs": [],
   "source": [
    "x = np.array([1, 2, 3, 4, 5, 6, 7, 8, 9, 10,\n",
    "              11, 12, 13, 14, 15, 16, 17, 18, 19, 20,\n",
    "              21, 22, 23, 24])\n",
    "a = np.reshape(x, [4, 2, 3])\n",
    "a"
   ]
  },
  {
   "cell_type": "markdown",
   "id": "4a0553b6",
   "metadata": {},
   "source": [
    "np.reshape 関数には、変換元と変換先の配列の次元数に制限がありません。そのため、たとえば三次元配列を二次元配列に変換するといった操作も問題なく行うことができます。"
   ]
  },
  {
   "cell_type": "code",
   "execution_count": null,
   "id": "d1ec4d1c",
   "metadata": {},
   "outputs": [],
   "source": [
    "b = np.reshape(a, [3, 8])\n",
    "b"
   ]
  },
  {
   "cell_type": "markdown",
   "id": "f26cd34c",
   "metadata": {},
   "source": [
    "## 次元転置"
   ]
  },
  {
   "cell_type": "markdown",
   "id": "65e7f27c",
   "metadata": {},
   "source": [
    "配列の次元数を変えずに、各次元の順序だけを入れ替えたい場合には、`np.transpose` 関数を使うと便利です。これは、行列における行と列の入れ替え、つまり転置に相当する操作です。\n",
    "\n",
    "具体例を見てみましょう。まず、2 行 4 列の行列を作成します。"
   ]
  },
  {
   "cell_type": "code",
   "execution_count": null,
   "id": "a6390ef5",
   "metadata": {},
   "outputs": [],
   "source": [
    "x = np.array([[1, 2, 3, 4],\n",
    "              [5, 6, 7, 8]])\n",
    "x"
   ]
  },
  {
   "cell_type": "markdown",
   "id": "fadd7899",
   "metadata": {},
   "source": [
    "次に、`np.transpose` に対象の配列 `x` と、変更後の次元の並び `[1, 0]` を指定します。ここで `[1, 0]` は、元の配列の二次元目（列）を新しい配列の一次元目に、一次元目（行）を新しい配列の二次元目に移動させることを意味します。"
   ]
  },
  {
   "cell_type": "code",
   "execution_count": null,
   "id": "5ffa8ddc",
   "metadata": {},
   "outputs": [],
   "source": [
    "a = np.transpose(x, [1, 0])\n",
    "a"
   ]
  },
  {
   "cell_type": "markdown",
   "id": "0ffe9cac",
   "metadata": {},
   "source": [
    "この関数は次元数が増えた場合でも同様に使えます。たとえば、三次元配列において、立体的な座標軸（X, Y, Z）を Y-Z-X の順に入れ替えるような操作も可能です。"
   ]
  },
  {
   "cell_type": "code",
   "execution_count": null,
   "id": "7946c1af",
   "metadata": {},
   "outputs": [],
   "source": [
    "x = np.reshape([1, 2, 3, 4, 5, 6, 7, 8, 9, 10,\n",
    "                11, 12, 13, 14, 15, 16, 17, 18, 19, 20,\n",
    "                21, 22, 23, 24],\n",
    "                [3, 2, 4])\n",
    "x.shape"
   ]
  },
  {
   "cell_type": "code",
   "execution_count": null,
   "id": "d3f62aa9",
   "metadata": {},
   "outputs": [],
   "source": [
    "y = np.transpose(x, [1, 2, 0])\n",
    "y.shape"
   ]
  },
  {
   "cell_type": "markdown",
   "id": "219027ac",
   "metadata": {},
   "source": [
    "このように、`np.transpose` を使えば、配列の形状そのものは変えずに、軸の順序だけを柔軟に入れ替えることができます。多次元配列を扱う際には非常に有用な機能です。"
   ]
  }
 ],
 "metadata": {
  "kernelspec": {
   "display_name": "ebook",
   "language": "python",
   "name": "python3"
  },
  "language_info": {
   "codemirror_mode": {
    "name": "ipython",
    "version": 3
   },
   "file_extension": ".py",
   "mimetype": "text/x-python",
   "name": "python",
   "nbconvert_exporter": "python",
   "pygments_lexer": "ipython3",
   "version": "3.11.4"
  }
 },
 "nbformat": 4,
 "nbformat_minor": 5
}
