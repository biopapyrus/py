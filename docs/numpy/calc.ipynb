{
 "cells": [
  {
   "cell_type": "code",
   "execution_count": null,
   "id": "43906def",
   "metadata": {
    "tags": [
     "remove-cell"
    ]
   },
   "outputs": [],
   "source": [
    "import os\n",
    "import sys\n",
    "sys.path.append(os.path.abspath('..'))\n",
    "from config import *"
   ]
  },
  {
   "cell_type": "markdown",
   "id": "4879770b",
   "metadata": {},
   "source": [
    "# 数値計算"
   ]
  },
  {
   "cell_type": "markdown",
   "id": "e84b0d60",
   "metadata": {},
   "source": [
    "NumPy には、基本的な算術演算に加えて、統計量の計算や固有値分解などの行列演算といった、数値解析に必要なさまざまな機能が用意されています。本節では、NumPy を使った代表的な数値計算の具体例を紹介していきます。"
   ]
  },
  {
   "cell_type": "markdown",
   "id": "629b7cad",
   "metadata": {},
   "source": [
    "## 算術計算"
   ]
  },
  {
   "cell_type": "markdown",
   "id": "7a8d1abb-5295-40da-be36-20737e7d93c8",
   "metadata": {},
   "source": [
    "配列同士の計算を行うときは、計算対象となる配列の形が同じである必要があります。形が異なる配列同士で計算をすると、ValueError が発生します。"
   ]
  },
  {
   "cell_type": "code",
   "execution_count": null,
   "id": "1e34aefe",
   "metadata": {},
   "outputs": [],
   "source": [
    "x = np.array([1, 2, 3, 4])\n",
    "y = np.array([1, 0, 1, 0])\n",
    "\n",
    "x + y"
   ]
  },
  {
   "cell_type": "code",
   "execution_count": null,
   "id": "6ee2fe6d",
   "metadata": {
    "tags": [
     "raises-exception"
    ]
   },
   "outputs": [],
   "source": [
    "x = np.array([1, 2, 3, 4])\n",
    "y = np.array([1, 0])\n",
    "\n",
    "x + y"
   ]
  },
  {
   "cell_type": "markdown",
   "id": "b148bbd6",
   "metadata": {},
   "source": [
    "配列の計算対象が 1 つの値の場合、**ブロードキャスト**（**broadcasting**）の枠組みにより計算ができるようになります。"
   ]
  },
  {
   "cell_type": "code",
   "execution_count": null,
   "id": "b9982bc3",
   "metadata": {},
   "outputs": [],
   "source": [
    "x = np.array([1, 2, 3, 4])\n",
    "y = 1\n",
    "\n",
    "x + y"
   ]
  },
  {
   "cell_type": "markdown",
   "id": "6d5772a2",
   "metadata": {},
   "source": [
    "二次元配列の場合も、基本的には 計算対象となる配列の形が同じ でなければなりません。形が一致していれば、各要素ごとの計算が行われます。"
   ]
  },
  {
   "cell_type": "code",
   "execution_count": null,
   "id": "307530ac",
   "metadata": {},
   "outputs": [],
   "source": [
    "x = np.array([[1, 2, 3],\n",
    "              [4, 5, 6],\n",
    "              [7, 8, 9]])\n",
    "y = np.array([[1, 1, 1],\n",
    "              [0, 1, 1],\n",
    "              [0, 0, 1]])\n",
    "\n",
    "x + y"
   ]
  },
  {
   "cell_type": "markdown",
   "id": "cc4ae87e",
   "metadata": {},
   "source": [
    "一方で、形が異なる配列同士では、ブロードキャストにより、自動的に形をそろえて計算ができる場合があります。例えば、次のように 行数が一致している場合には、列方向に値が繰り返されて計算されます。"
   ]
  },
  {
   "cell_type": "code",
   "execution_count": null,
   "id": "59c5c995",
   "metadata": {},
   "outputs": [],
   "source": [
    "x = np.array([[2, 4, 6, 8],\n",
    "              [1, 3, 4, 5]])\n",
    "y = np.array([[1],\n",
    "              [0]])\n",
    "\n",
    "x + y"
   ]
  },
  {
   "cell_type": "markdown",
   "id": "092e29f1",
   "metadata": {},
   "source": [
    "同様に、列数が一致している場合は、行方向に値が繰り返されて計算できます。"
   ]
  },
  {
   "cell_type": "code",
   "execution_count": null,
   "id": "acfaf374",
   "metadata": {},
   "outputs": [],
   "source": [
    "x = np.array([[2, 4, 6, 8],\n",
    "              [1, 3, 4, 5]])\n",
    "y = np.array([1, 0, 1, 0])\n",
    "\n",
    "x - y"
   ]
  },
  {
   "cell_type": "markdown",
   "id": "e6ed31e4",
   "metadata": {},
   "source": [
    "ブロードキャストは一定のルールに従って動作しますが、その仕組みはやや複雑で、最初は理解しづらいかもしれません。「最初は」というか、今の筆者は、理解しようとすることさえすでに諦めています。なので、実務では簡単な配列で試し計算しながら進めるのが確実です。"
   ]
  },
  {
   "cell_type": "markdown",
   "id": "240aef2a",
   "metadata": {},
   "source": [
    "## 要約統計量"
   ]
  },
  {
   "cell_type": "markdown",
   "id": "6532b0df",
   "metadata": {},
   "source": [
    "NumPy には、データの特徴を把握するためによく使われる要約統計量を計算する関数が用意されています。以下にいくつかの例を示します。なお、これらの機能は NumPy だけでなく、Python の標準ライブラリに含まれる statistics モジュールや、データ分析に特化した Pandas でも利用できます。同じ処理を複数の方法で書くとコードが読みづらくなるため、プログラム全体ではどれか一つのパッケージに統一して使うのが望ましいです。"
   ]
  },
  {
   "cell_type": "code",
   "execution_count": null,
   "id": "d6e2fd26",
   "metadata": {},
   "outputs": [],
   "source": [
    "x = np.array([1.49, 1.54, 1.53, 1.29, 1.40])\n",
    "np.mean(x)"
   ]
  },
  {
   "cell_type": "code",
   "execution_count": null,
   "id": "814c2873",
   "metadata": {},
   "outputs": [],
   "source": [
    "np.var((x))"
   ]
  },
  {
   "cell_type": "code",
   "execution_count": null,
   "id": "cb2b7e8d",
   "metadata": {},
   "outputs": [],
   "source": [
    "np.std(x)"
   ]
  },
  {
   "cell_type": "code",
   "execution_count": null,
   "id": "597761a8",
   "metadata": {},
   "outputs": [],
   "source": [
    "np.median(x)"
   ]
  },
  {
   "cell_type": "markdown",
   "id": "14a50288",
   "metadata": {},
   "source": [
    "配列内の最大値や最小値を調べることもでき、さらに、それらの値が配列のどの位置（インデックス）にあるかを知ることも可能です。"
   ]
  },
  {
   "cell_type": "code",
   "execution_count": null,
   "id": "c26d85d6",
   "metadata": {},
   "outputs": [],
   "source": [
    "np.min(x)"
   ]
  },
  {
   "cell_type": "code",
   "execution_count": null,
   "id": "1993255a",
   "metadata": {},
   "outputs": [],
   "source": [
    "np.max(x)"
   ]
  },
  {
   "cell_type": "code",
   "execution_count": null,
   "id": "851ffa0c",
   "metadata": {},
   "outputs": [],
   "source": [
    "np.argmin(x)"
   ]
  },
  {
   "cell_type": "code",
   "execution_count": null,
   "id": "fbb923d1",
   "metadata": {},
   "outputs": [],
   "source": [
    "np.argmax(x)"
   ]
  },
  {
   "cell_type": "markdown",
   "id": "a47efd8a",
   "metadata": {},
   "source": [
    "これらの関数は、デフォルトでは配列全体を対象にして集計を行います。そのため、多次元配列に対して最大値や最小値などを計算すると、出力は 1 つの値のみになります。"
   ]
  },
  {
   "cell_type": "code",
   "execution_count": null,
   "id": "68f8bf71-b26b-46c3-ac0d-16c992227e81",
   "metadata": {},
   "outputs": [],
   "source": [
    "x = np.array([[4.83, 2.80, 1.56, 0.83],\n",
    "              [5.44, 2.54, 1.88, 0.97],\n",
    "              [5.42, 2.33, 1.76, 0.74]])\n",
    "x.shape"
   ]
  },
  {
   "cell_type": "code",
   "execution_count": null,
   "id": "ddd1e95f",
   "metadata": {},
   "outputs": [],
   "source": [
    "np.max(x)"
   ]
  },
  {
   "cell_type": "markdown",
   "id": "0aa4b029",
   "metadata": {},
   "source": [
    "配列全体ではなく、特定の次元（軸）ごとに集計したい場合は、`axis` オプションを指定します。たとえば、二次元配列に対して `axis=0` を指定すると、1 次元方向（行をまたぐ方向）に向かって集計が行われ、列ごとの集計結果が得られます。"
   ]
  },
  {
   "cell_type": "code",
   "execution_count": null,
   "id": "1841d97e",
   "metadata": {},
   "outputs": [],
   "source": [
    "np.mean(x, axis=0)"
   ]
  },
  {
   "cell_type": "markdown",
   "id": "a474b1a0",
   "metadata": {},
   "source": [
    "`axis=1` を指定すると、2 次元方向（列をまたぐ方向）に向かって集計が行われ、行ごとの集計結果が得られます。"
   ]
  },
  {
   "cell_type": "code",
   "execution_count": null,
   "id": "d665437b-f7c6-4f9e-b0e5-8b20bf7a4c39",
   "metadata": {},
   "outputs": [],
   "source": [
    "np.mean(x, axis=1)"
   ]
  },
  {
   "cell_type": "markdown",
   "id": "056e56ec",
   "metadata": {},
   "source": [
    "## 行列計算"
   ]
  },
  {
   "cell_type": "markdown",
   "id": "7910b19d",
   "metadata": {},
   "source": [
    "### 基本計算"
   ]
  },
  {
   "cell_type": "markdown",
   "id": "0a03133c",
   "metadata": {},
   "source": [
    "NumPy では、二次元配列を数学の行列として扱うことができ、行列計算のためのさまざまな関数が用意されています。行列の形が同じであれば、加減乗除などの四則演算は、同じ位置にある要素同士で自動的に行われます。"
   ]
  },
  {
   "cell_type": "code",
   "execution_count": null,
   "id": "8f275b25",
   "metadata": {},
   "outputs": [],
   "source": [
    "x = np.array([[0, 1],\n",
    "              [1, 1]])\n",
    "y = np.array([[1, 2],\n",
    "              [3, 4]])\n",
    "\n",
    "x + y"
   ]
  },
  {
   "cell_type": "code",
   "execution_count": null,
   "id": "13d00ef5",
   "metadata": {},
   "outputs": [],
   "source": [
    "x - y"
   ]
  },
  {
   "cell_type": "markdown",
   "id": "4bcb78f4",
   "metadata": {},
   "source": [
    "二つの行列を `*` 演算子で掛け算すると、対応する位置の要素同士が掛け合わされます。この積のことを**アダマール積**（**Hadamard product**）と呼びます。計算結果は行列であり、入力行列と同じ形になります。"
   ]
  },
  {
   "cell_type": "code",
   "execution_count": null,
   "id": "b4aeb17b",
   "metadata": {},
   "outputs": [],
   "source": [
    "x * y"
   ]
  },
  {
   "cell_type": "code",
   "execution_count": null,
   "id": "c4390ab8",
   "metadata": {},
   "outputs": [],
   "source": [
    "x / y"
   ]
  },
  {
   "cell_type": "markdown",
   "id": "264be286",
   "metadata": {},
   "source": [
    "### 行列の積"
   ]
  },
  {
   "cell_type": "markdown",
   "id": "5ef22415",
   "metadata": {},
   "source": [
    "行列同士の積には複数の種類があり、それぞれ意味と計算方法が異なります。`*` 演算子で計算するアダマール積のほかに、**内積**（**inner product**）やクロス積、テンソル積などがあります。内積は、`np.matmul` で計算できます[^np_inner_product]。\n",
    "\n",
    "[^np_inner_product]: `np.matmul` のほかに、`np.dot` や `np.tensordot` を利用しても行列（二次元配列）の内積を計算できます。ただし、3 次元以上の配列に対して適用した場合、それぞれの関数は異なるルールで積を計算するため、注意が必要です。"
   ]
  },
  {
   "cell_type": "code",
   "execution_count": null,
   "id": "59cdbbd8",
   "metadata": {},
   "outputs": [],
   "source": [
    "x = np.array([[ 2, 3],\n",
    "              [ 1, 2]])\n",
    "y = np.array([[ 2, -3],\n",
    "              [-1,  2]])\n",
    "np.matmul(x, y)"
   ]
  },
  {
   "cell_type": "markdown",
   "id": "b33b86f2",
   "metadata": {},
   "source": [
    "一方、**クロス積**（**cross product**）は、物理学などで回転や力の方向を求める際に使われる演算です。クロス積は**ベクトル積**（**vector produc**t）とも呼ばれます。また、**テンソル積**（**tensor product**）は線形代数で扱われる数学的な概念です。日本語ではこれらの演算をまとめて外積と呼ぶこともありますが、意味や用途は異なります。Python では、クロス積は `np.cross`、テンソル積は `np.outer` を使って計算できます。"
   ]
  },
  {
   "cell_type": "code",
   "execution_count": null,
   "id": "3cca186d",
   "metadata": {},
   "outputs": [],
   "source": [
    "np.cross(x, y)"
   ]
  },
  {
   "cell_type": "code",
   "execution_count": null,
   "id": "20349985",
   "metadata": {},
   "outputs": [],
   "source": [
    "np.outer(x, y)"
   ]
  },
  {
   "cell_type": "markdown",
   "id": "bd5d2fd7",
   "metadata": {},
   "source": [
    "```{admonition} 問題 NC-1\n",
    "平面直行座標系 XY 上の点 $P(3, 4)$ を、原点を中心に反時計回りに $\\frac{\\pi}{2}$ だけ回転させたとき得られる点を　$P'$ とします。点 $P'$ の座標を計算してください。なお、点 $(x, y)$ を原点を中心に反時計回りに $\\theta$ だけ回転させた時に得られる新しい座標は次のように計算できます。\n",
    "\n",
    "$$\n",
    "\\begin{pmatrix} x' \\\\ y' \\end{pmatrix} = \\begin{pmatrix}\n",
    "  \\cos \\theta & sin \\theta \\\\\n",
    "  - \\sin \\theta & cos \\theta\n",
    "\\end{pmatrix} \\begin{pmatrix} x \\\\ y \\end{pmatrix} \n",
    "$$\n",
    "\n",
    "```"
   ]
  },
  {
   "cell_type": "markdown",
   "id": "01934d5c",
   "metadata": {},
   "source": [
    "### 逆行列"
   ]
  },
  {
   "cell_type": "markdown",
   "id": "64159087",
   "metadata": {},
   "source": [
    "ある行列 $\\mathbf{A}$ に対して、$\\mathbf{A}\\mathbf{A}^{-1} = \\mathbf{A}^{-1}\\mathbf{A} = \\mathbf{I}$ となるような行列 $\\mathbf{A}^{-1}$ が存在する時、$\\mathbf{A}^{-1}$ を $\\mathbf{A}$ の**逆行列**といいます。NumPy では `np.linalg.inv` 関数を利用して逆行列を計算できます。"
   ]
  },
  {
   "cell_type": "code",
   "execution_count": null,
   "id": "f5c6c1c0",
   "metadata": {},
   "outputs": [],
   "source": [
    "x = np.array([[2, 3],\n",
    "              [1, 2]])\n",
    "np.linalg.inv(x)"
   ]
  },
  {
   "cell_type": "markdown",
   "id": "1f6f4e28",
   "metadata": {},
   "source": [
    "なお、逆行列はすべての行列に存在するわけではなく、たとえば次のような正則でない行列では逆行列が存在しません。正則でない行列に対して `np.linalg.inv` を使うと、LinAlgError が発生します。"
   ]
  },
  {
   "cell_type": "code",
   "execution_count": null,
   "id": "78f986ec",
   "metadata": {
    "tags": [
     "raises-exception"
    ]
   },
   "outputs": [],
   "source": [
    "x = np.array([[1, 2],\n",
    "              [2, 4]])\n",
    "np.linalg.inv(x)"
   ]
  },
  {
   "cell_type": "markdown",
   "id": "dc91b5a4",
   "metadata": {},
   "source": [
    "逆行列が存在しない場合でも、その代わりに用いられるのが**ムーア・ペンローズ逆行列**（**Moore–Penrose inverse**）です。NumPy では、`np.linalg.pinv` を使ってムーア・ペンローズ逆行列を計算することができます。\n",
    "\n"
   ]
  },
  {
   "cell_type": "code",
   "execution_count": null,
   "id": "8f60c135",
   "metadata": {},
   "outputs": [],
   "source": [
    "np.linalg.pinv(x)"
   ]
  },
  {
   "cell_type": "markdown",
   "id": "273b70dd",
   "metadata": {},
   "source": [
    "逆行列は、**行列式**（**determinant**）が 0 でないときに存在します。逆に、行列式が 0 のときには逆行列は存在しません。この行列式は `np.linalg.det` 関数で計算できます。"
   ]
  },
  {
   "cell_type": "code",
   "execution_count": null,
   "id": "96ba3858",
   "metadata": {},
   "outputs": [],
   "source": [
    "np.linalg.det(x)"
   ]
  },
  {
   "cell_type": "markdown",
   "id": "bae671ba",
   "metadata": {},
   "source": [
    "````{admonition} 問題 NC-2\n",
    "入力された 2 行 2 列の行列（二次元配列）に対して、行列式が 0 のときにムーア・ペンローズ逆行列を計算し、そうでなければ逆行列を計算するようなプログラムを作成してください。\n",
    "\n",
    "```python\n",
    "x = np.array([[ 2, 3],\n",
    "              [ 1, 2]])\n",
    "\n",
    "```\n",
    "````\n"
   ]
  },
  {
   "cell_type": "markdown",
   "id": "6858c4b0",
   "metadata": {},
   "source": [
    "行列を扱う上で、固有値と固有ベクトルの存在も重要です。固有値と固有ベクトルを計算するには `np.linalg.eig` 関数を利用します。"
   ]
  },
  {
   "cell_type": "code",
   "execution_count": null,
   "id": "dce842ca",
   "metadata": {},
   "outputs": [],
   "source": [
    "x = np.array([[5, 4],\n",
    "              [2, 1]])\n",
    "eigen_values, eigen_vectors = np.linalg.eig(x)\n",
    "eigen_values"
   ]
  },
  {
   "cell_type": "code",
   "execution_count": null,
   "id": "2a6b3cf6",
   "metadata": {},
   "outputs": [],
   "source": [
    "eigen_vectors"
   ]
  },
  {
   "cell_type": "markdown",
   "id": "00312187",
   "metadata": {},
   "source": [
    "試しに、ここで計算した固有値および固有ベクトルが、$A \\boldsymbol{x} = \\lambda \\boldsymbol{x}$ という関係（固有方程式）を満たしているかどうか、実際に計算して確認してみましょう。\n"
   ]
  },
  {
   "cell_type": "code",
   "execution_count": null,
   "id": "ee656765",
   "metadata": {},
   "outputs": [],
   "source": [
    "eigen_values * eigen_vectors"
   ]
  },
  {
   "cell_type": "code",
   "execution_count": null,
   "id": "45266b80",
   "metadata": {},
   "outputs": [],
   "source": [
    "np.matmul(x, eigen_vectors)"
   ]
  }
 ],
 "metadata": {
  "kernelspec": {
   "display_name": "ebook",
   "language": "python",
   "name": "python3"
  },
  "language_info": {
   "codemirror_mode": {
    "name": "ipython",
    "version": 3
   },
   "file_extension": ".py",
   "mimetype": "text/x-python",
   "name": "python",
   "nbconvert_exporter": "python",
   "pygments_lexer": "ipython3",
   "version": "3.11.4"
  }
 },
 "nbformat": 4,
 "nbformat_minor": 5
}
