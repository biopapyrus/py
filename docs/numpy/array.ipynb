{
 "cells": [
  {
   "cell_type": "code",
   "execution_count": null,
   "id": "43906def",
   "metadata": {
    "tags": [
     "remove-cell"
    ]
   },
   "outputs": [],
   "source": [
    "import os\n",
    "import sys\n",
    "sys.path.append(os.path.abspath('..'))\n",
    "from config import *\n",
    "\n",
    "!cp ../data/acorns.clean.csv ."
   ]
  },
  {
   "cell_type": "markdown",
   "id": "6f5f72d2",
   "metadata": {},
   "source": [
    "(numpy_array)=\n",
    "# 配列"
   ]
  },
  {
   "cell_type": "markdown",
   "id": "122024f0",
   "metadata": {},
   "source": [
    "NumPy では、すべてのデータを**配列**（**array**）という構造で扱います。リストや数学のベクトルのような一次元のデータは一次元配列として、表形式のデータや行列のような二次元のデータは二次元配列として表現されます。配列は、必要に応じて次元を増減させることができ、柔軟に形を変えることが可能です。また、NumPy に用意されている多くの関数は、この配列を操作対象としています。本節では、NumPy を使う上で基本となる配列について解説していきます。"
   ]
  },
  {
   "cell_type": "markdown",
   "id": "909dc57e",
   "metadata": {},
   "source": [
    "## 配列の作成"
   ]
  },
  {
   "cell_type": "markdown",
   "id": "84b7c0a7",
   "metadata": {},
   "source": [
    "### 一次元配列"
   ]
  },
  {
   "cell_type": "markdown",
   "id": "11848fac",
   "metadata": {},
   "source": [
    "NumPy の配列は、Python のリストを `np.array` 関数に渡すことで作成できます。特に、データが少ない場合や、プログラム内で一時的に配列を使いたい場合に便利です。次は、リストを NumPy 配列に変換する基本的な例です。"
   ]
  },
  {
   "cell_type": "code",
   "execution_count": null,
   "id": "bdcb748c",
   "metadata": {},
   "outputs": [],
   "source": [
    "x = [1, 2, 3, 4, 5]\n",
    "a = np.array(x)\n"
   ]
  },
  {
   "cell_type": "markdown",
   "id": "f3015116",
   "metadata": {},
   "source": [
    "`NameError: name 'np' is not defined`？察して。NumPy は、自分からは出てきません。\n",
    "\n",
    "配列が保存されている変数をそのまま実行すると、`array([...])` の形式で表示されます。なお、この方法は Jupyter Notebook 特有のものであり、他の環境では何も表示されないため注意が必要です。"
   ]
  },
  {
   "cell_type": "code",
   "execution_count": null,
   "id": "e451a7d1",
   "metadata": {},
   "outputs": [],
   "source": [
    "a"
   ]
  },
  {
   "cell_type": "markdown",
   "id": "65f963db",
   "metadata": {},
   "source": [
    "一方、`print` 関数を使って配列を表示すると、Python のリストのような見た目で表示されます。"
   ]
  },
  {
   "cell_type": "code",
   "execution_count": null,
   "id": "88c3de64",
   "metadata": {},
   "outputs": [],
   "source": [
    "print(a)"
   ]
  },
  {
   "cell_type": "markdown",
   "id": "343b905b",
   "metadata": {},
   "source": [
    "`print` 関数を使った場合、見た目はリストと NumPy 配列で同じだが、実際にはまったく異なるデータ構造です。NumPy の配列は、単なる値の集まりではなく、要素の数、形状、データ型などの情報（属性）を持った[オブジェクト](content-object)です。たとえば、配列の全要素数を知りたい場合は、次のように `.size` 属性を使います。"
   ]
  },
  {
   "cell_type": "code",
   "execution_count": null,
   "id": "43217657",
   "metadata": {},
   "outputs": [],
   "source": [
    "a.size"
   ]
  },
  {
   "cell_type": "markdown",
   "id": "b71a95b6",
   "metadata": {},
   "source": [
    "一方で、リストには `.size` のような属性は存在しないため、次のように書くとエラーになります。"
   ]
  },
  {
   "cell_type": "code",
   "execution_count": null,
   "id": "72abdb87",
   "metadata": {
    "tags": [
     "raises-exception"
    ]
   },
   "outputs": [],
   "source": [
    "x.size"
   ]
  },
  {
   "cell_type": "markdown",
   "id": "32579831",
   "metadata": {},
   "source": [
    "配列を作成する際に、以下のようにリストを直接 `np.array` 関数に渡して、1 行で配列を作成することもできます。"
   ]
  },
  {
   "cell_type": "code",
   "execution_count": null,
   "id": "48fabc96",
   "metadata": {},
   "outputs": [],
   "source": [
    "a = np.array([1, 2, 3, 4, 5])\n",
    "a"
   ]
  },
  {
   "cell_type": "markdown",
   "id": "9ce3a4c6",
   "metadata": {},
   "source": [
    "NumPy の配列では、すべての要素が同じデータ型である必要があります。つまり、配列内には すべて整数、またはすべて小数（浮動小数点数）といったように、統一された型のデータだけが含まれます。たとえば、以下のように整数と小数が混在するリストを `np.array` に渡すと、この関数はすべての要素を自動的に 64 ビット浮動小数点数型（float64 型）に変換して配列を作成します。"
   ]
  },
  {
   "cell_type": "code",
   "execution_count": null,
   "id": "d7df3d54",
   "metadata": {},
   "outputs": [],
   "source": [
    "a = np.array([1, 2, 3, 3.14])\n",
    "a"
   ]
  },
  {
   "cell_type": "code",
   "execution_count": null,
   "id": "0244c6a3",
   "metadata": {},
   "outputs": [],
   "source": [
    "a.dtype"
   ]
  },
  {
   "cell_type": "markdown",
   "id": "26997d46",
   "metadata": {},
   "source": [
    "### 二次元配列"
   ]
  },
  {
   "cell_type": "markdown",
   "id": "91a145cd",
   "metadata": {},
   "source": [
    "行列のような二次元配列を作成するには、二重リスト（リストのリスト）を `np.array` 関数に渡します。たとえば、次のコードは、以下のような 3 行 3 列の行列を作成します。\n",
    "\n",
    "$$\n",
    "\\begin{pmatrix}\n",
    "    1 & 2 & 3 \\\\\n",
    "    4 & 5 & 6 \\\\\n",
    "    7 & 8 & 9\n",
    "\\end{pmatrix}\n",
    "$$"
   ]
  },
  {
   "cell_type": "code",
   "execution_count": null,
   "id": "e35e09c9",
   "metadata": {},
   "outputs": [],
   "source": [
    "x = [[1, 2, 3],\n",
    "     [4, 5, 6],\n",
    "     [7, 8, 9]]\n",
    "a = np.array(x)\n",
    "a"
   ]
  },
  {
   "cell_type": "code",
   "execution_count": null,
   "id": "6a56a19e",
   "metadata": {},
   "outputs": [],
   "source": [
    "a = np.array([[1, 2, 3],\n",
    "              [4, 5, 6],\n",
    "              [7, 8, 9]])\n",
    "a"
   ]
  },
  {
   "cell_type": "markdown",
   "id": "6f765b48",
   "metadata": {},
   "source": [
    "三次元以上の配列も、同じ方法で作ります。つまり、多重リストを `np.array` 関数に渡すこと多次元配列に変換できます。"
   ]
  },
  {
   "cell_type": "markdown",
   "id": "c072df76",
   "metadata": {},
   "source": [
    "### データフレームによる変換"
   ]
  },
  {
   "cell_type": "markdown",
   "id": "0c78d42f",
   "metadata": {},
   "source": [
    "CSV ファイルなどに保存されたデータを配列として読み込むには、NumPy の `np.loadtxt` 関数を使う方法があります。ただし、NumPy は数値計算向けに設計されているため、文字データや欠損値を含む CSV ファイルでは予期せぬ動作をすることがあります。そのため、実務では Pandas を使ってファイルからデータを読み込んでから、前処理をした後に、配列に変換する方法が一般的です。\n",
    "\n",
    "どんぐりのデータセットをデータフレームから配列に変換する一連の手順を以下に示します。まず、`pd.read_csv` 関数を使って CSV ファイルを Pandas のデータフレームとして読み込み、そのデータフレームの末尾に `.values` を付けるだけで、配列を取得できます。"
   ]
  },
  {
   "cell_type": "code",
   "execution_count": null,
   "id": "804631d0",
   "metadata": {
    "tags": [
     "scroll-output"
    ]
   },
   "outputs": [],
   "source": [
    "x = pd.read_csv('acorns.clean.csv')\n",
    "a = x.values\n",
    "a"
   ]
  },
  {
   "cell_type": "markdown",
   "id": "b404e5f0",
   "metadata": {},
   "source": [
    "NumPy の配列では、すべての要素が同じデータ型である必要があります。この例では、データフレームには樹種を表す文字列データが含まれいます。そのため、データフレーム全体を配列に変換すると、変換後の配列の要素が object 型となります。object 型は数値ではありません。数値計算自体は可能だが、意図しない動作を引き起こす可能性があります。そのため、計算処理に使用する際には、object 型を含まないようにデータを整えておくことが重要です。"
   ]
  },
  {
   "cell_type": "code",
   "execution_count": null,
   "id": "6508a52b",
   "metadata": {},
   "outputs": [],
   "source": [
    "a.dtype"
   ]
  },
  {
   "cell_type": "code",
   "execution_count": null,
   "id": "92f4471e",
   "metadata": {
    "tags": [
     "scroll-output"
    ]
   },
   "outputs": [],
   "source": [
    "a[:, 1] * a[:, 2]"
   ]
  },
  {
   "cell_type": "markdown",
   "id": "a331a991",
   "metadata": {},
   "source": [
    "次の例では、樹種名などの文字列が含まれている最初の列を削除し、その後データフレームを配列に変換しています。これにより、数値のみを含む配列が得られ、数値計算などに利用しやすくなります。"
   ]
  },
  {
   "cell_type": "code",
   "execution_count": null,
   "id": "03c0b80c",
   "metadata": {
    "tags": [
     "scroll-output"
    ]
   },
   "outputs": [],
   "source": [
    "x = pd.read_csv('acorns.clean.csv')\n",
    "a = x.iloc[:, 1:].values\n",
    "a"
   ]
  },
  {
   "cell_type": "code",
   "execution_count": null,
   "id": "ede263bf",
   "metadata": {},
   "outputs": [],
   "source": [
    "a.dtype"
   ]
  },
  {
   "cell_type": "code",
   "execution_count": null,
   "id": "73c4a423",
   "metadata": {
    "tags": [
     "scroll-output"
    ]
   },
   "outputs": [],
   "source": [
    "a[:, 1] * a[:, 2]"
   ]
  },
  {
   "cell_type": "markdown",
   "id": "832bb0c2",
   "metadata": {},
   "source": [
    "## 配列の属性"
   ]
  },
  {
   "cell_type": "markdown",
   "id": "d7544841",
   "metadata": {},
   "source": [
    "NumPy の配列は、データそのものに加えて、配列の構造に関する属性も保持しています。たとえば、次のように `.ndim` を使えば、配列の次元数を取得できます。"
   ]
  },
  {
   "cell_type": "code",
   "execution_count": null,
   "id": "6ddaa39e-1128-46d1-9725-b759404bcdf0",
   "metadata": {},
   "outputs": [],
   "source": [
    "x = [[0, 1, 2, 3],\n",
    "     [4, 0, 5, 6],\n",
    "     [7, 8, 0, 9]]\n",
    "a = np.array(x)\n",
    "a.ndim"
   ]
  },
  {
   "cell_type": "markdown",
   "id": "912b1a42",
   "metadata": {},
   "source": [
    "各次元の要素数は `.shape` で取得できます。この例では 1 次元目の要素が 3 つであり、2 次元目の要素が 4 つです。そのため、`.shape` は次のように出力されます。"
   ]
  },
  {
   "cell_type": "code",
   "execution_count": null,
   "id": "2a858763",
   "metadata": {},
   "outputs": [],
   "source": [
    "a.shape"
   ]
  },
  {
   "cell_type": "markdown",
   "id": "fc17d1d1",
   "metadata": {},
   "source": [
    "配列の全要素数は `.size` で取得できます。この全要素数は、`.shape` の出力値の積に一致します。"
   ]
  },
  {
   "cell_type": "code",
   "execution_count": null,
   "id": "8ee10201-115d-44ba-815a-1596b5ae09b0",
   "metadata": {},
   "outputs": [],
   "source": [
    "a.size"
   ]
  },
  {
   "cell_type": "markdown",
   "id": "6757322c",
   "metadata": {},
   "source": [
    "## 配列の要素"
   ]
  },
  {
   "cell_type": "markdown",
   "id": "0f21575e",
   "metadata": {},
   "source": [
    "配列から個々の要素を取り出すには、Python のリストと同様に `[]` を使ってインデックスを指定します。一次元配列の場合、`[]` の中に 1 つのインデックスを指定することで、対応する要素を取得できます。"
   ]
  },
  {
   "cell_type": "code",
   "execution_count": null,
   "id": "e3bb5f69",
   "metadata": {},
   "outputs": [],
   "source": [
    "x = np.array([1, 2, 3, 4, 5, 6, 7, 8, 9])\n",
    "x[3]"
   ]
  },
  {
   "cell_type": "markdown",
   "id": "9802a07c",
   "metadata": {},
   "source": [
    "ここでは `np.int64(4)` と表示されますが、これは「4」という数値が NumPy の 64 ビット整数型（int64）であることを示しています。計算や処理には何の支障もなく、通常の整数と同様に扱うことができます。たとえば、次のように 1 を加えてみると、正しく 5 が得られます。"
   ]
  },
  {
   "cell_type": "code",
   "execution_count": null,
   "id": "203478a8",
   "metadata": {},
   "outputs": [],
   "source": [
    "x[3] + 1"
   ]
  },
  {
   "cell_type": "markdown",
   "id": "e7082a31",
   "metadata": {},
   "source": [
    "なお、どうしてもこの表記が気になる場合は、`print` 関数を使って出力すると、型情報はなく数値だけが表示されます。"
   ]
  },
  {
   "cell_type": "code",
   "execution_count": null,
   "id": "71fda03b",
   "metadata": {},
   "outputs": [],
   "source": [
    "print(x[3])"
   ]
  },
  {
   "cell_type": "markdown",
   "id": "66fda155",
   "metadata": {},
   "source": [
    "複数の要素を取り出すには、スライス機能（`:`）を使います。`:` の前に開始位置、後ろに終了位置を指定することで、その範囲の要素を取り出すことができます。ただし、終了位置に指定したインデックスの要素は取り出されません。理由？人間の都合です[^slice_end]。\n",
    "\n",
    "[^slice_end]: スライスで最後のインデックスが含まれない仕様は、扱いやすさにつながっています。例えば、`x[3:7]` とすると、取得される要素の数は 7 - 3 = 4 と簡単に計算できます。また、`x[0:3]` と `x[3:6]` を連結すると `x[0:6]` と同じ範囲になり、連続した部分を分割して扱うのに便利です。このような仕様は、多くのプログラミング言語でも採用されています。"
   ]
  },
  {
   "cell_type": "code",
   "execution_count": null,
   "id": "9e730b53",
   "metadata": {},
   "outputs": [],
   "source": [
    "x[1:4]"
   ]
  },
  {
   "cell_type": "markdown",
   "id": "d47605fb",
   "metadata": {},
   "source": [
    "スライスで開始位置を省略すると先頭から、終了位置を省略すると最後までの範囲を意味します。"
   ]
  },
  {
   "cell_type": "code",
   "execution_count": null,
   "id": "3ff7e59b",
   "metadata": {},
   "outputs": [],
   "source": [
    "x[:4]"
   ]
  },
  {
   "cell_type": "code",
   "execution_count": null,
   "id": "35aa80b1",
   "metadata": {},
   "outputs": [],
   "source": [
    "x[4:]"
   ]
  },
  {
   "cell_type": "markdown",
   "id": "bb07d73a",
   "metadata": {},
   "source": [
    "二次元配列でも同様に値を取得できますが、二つの次元それぞれに対してインデックスを指定する必要があります。各次元のインデックスはカンマ（`,`）で区切って指定します。\n",
    "\n",
    "例えば、配列 `x` の 1 行 2 列目の要素を取得する場合は、次のようにします。"
   ]
  },
  {
   "cell_type": "code",
   "execution_count": null,
   "id": "7bb4a400",
   "metadata": {},
   "outputs": [],
   "source": [
    "x = np.array([[ 0,  1,  2,  3,  4],\n",
    "              [ 5,  6,  7,  8,  9],\n",
    "              [10, 11, 12, 13, 14],\n",
    "              [15, 16, 17, 18, 19]])\n",
    "x[0, 1]"
   ]
  },
  {
   "cell_type": "markdown",
   "id": "b0ab174e",
   "metadata": {},
   "source": [
    "二次元配列でもスライスを使って、連続した範囲の部分配列を取り出すことができます。"
   ]
  },
  {
   "cell_type": "code",
   "execution_count": null,
   "id": "446d1f68",
   "metadata": {},
   "outputs": [],
   "source": [
    "x[2:4, 1:3]"
   ]
  },
  {
   "cell_type": "code",
   "execution_count": null,
   "id": "13063181",
   "metadata": {},
   "outputs": [],
   "source": [
    "x[:3, 2:]"
   ]
  },
  {
   "cell_type": "code",
   "execution_count": null,
   "id": "00f19efb",
   "metadata": {},
   "outputs": [],
   "source": [
    "x[:, 1:3]"
   ]
  },
  {
   "cell_type": "markdown",
   "id": "138e5a1e",
   "metadata": {},
   "source": [
    "```{index} ろ-論理インデックス\n",
    ":name: 論理インデックス\n",
    "```\n",
    "\n",
    "## 論理インデックス"
   ]
  },
  {
   "cell_type": "markdown",
   "id": "6bb3b91b",
   "metadata": {},
   "source": [
    "配列から値を取得する際には、単にインデックスを指定して特定の位置の値を取り出すだけでなく、特定の条件を満たす要素だけを抽出することも可能です。そのためには、まず配列全体に対して条件判定を行い、論理インデックスを作成します。そして、この論理インデックスを元の配列に適用することで、条件を満たす要素のみを抽出できます。\n",
    "\n",
    "次の例では、一次元配列 `x` に対して、論理配列 `f` を使って要素を選択しています。`f` の値が `True` となっている位置（インデックスが 1、3、5）に対応する要素だけが取り出されています。"
   ]
  },
  {
   "cell_type": "code",
   "execution_count": null,
   "id": "edb4a88c",
   "metadata": {},
   "outputs": [],
   "source": [
    "x = np.array([    0,    1,     2,    3,     4,    5])\n",
    "f = np.array([False, True, False, True, False, True])\n",
    "\n",
    "x[f]"
   ]
  },
  {
   "cell_type": "markdown",
   "id": "b93ec975",
   "metadata": {},
   "source": [
    "論理配列は、条件式を使用して簡単に生成できます。例えば、奇数のみを抽出する場合、次のように条件式 `(x % 2 == 1)` を用います。"
   ]
  },
  {
   "cell_type": "code",
   "execution_count": null,
   "id": "a1cf56ec",
   "metadata": {},
   "outputs": [],
   "source": [
    "x = np.array([1, 2, 3, 4, 5, 6, 7, 8, 9])\n",
    "f = (x % 2 == 1)\n",
    "\n",
    "x[f]"
   ]
  },
  {
   "cell_type": "markdown",
   "id": "08fd1b2e",
   "metadata": {},
   "source": [
    "複数の条件を組み合わせる場合は、論理積（`&`）や論理和（`|`）を使用します。例えば、「5 より大きい奇数」を取得するには、奇数を表す条件 `(x % 2 == 1)` と、5 より大きいことを表す条件 `(x > 5)` を `&` で組み合わせます。"
   ]
  },
  {
   "cell_type": "code",
   "execution_count": null,
   "id": "7fa249f8",
   "metadata": {},
   "outputs": [],
   "source": [
    "x = np.array([1, 2, 3, 4, 5, 6, 7, 8, 9])\n",
    "f1 = (x % 2 == 1)\n",
    "f2 = (x > 5)\n",
    "\n",
    "x[f1 & f2]"
   ]
  },
  {
   "cell_type": "markdown",
   "id": "7772cfaf",
   "metadata": {},
   "source": [
    "一方、「5 より大きいまたは奇数」の場合は、論理和（`|`）を使用します。"
   ]
  },
  {
   "cell_type": "code",
   "execution_count": null,
   "id": "c9e1ceff",
   "metadata": {},
   "outputs": [],
   "source": [
    "x = np.array([1, 2, 3, 4, 5, 6, 7, 8, 9])\n",
    "f1 = (x % 2 == 1)\n",
    "f2 = (x > 5)\n",
    "\n",
    "x[f1 | f2]"
   ]
  },
  {
   "cell_type": "markdown",
   "id": "b92f0f93",
   "metadata": {},
   "source": [
    "なお、論理配列を事前に作らなくても、条件式をそのまま配列に適用することで、同じように条件を満たす要素を抽出することができます。"
   ]
  },
  {
   "cell_type": "code",
   "execution_count": null,
   "id": "2712ec8e",
   "metadata": {},
   "outputs": [],
   "source": [
    "x = np.array([1, 2, 3, 4, 5, 6, 7, 8, 9])\n",
    "x[(x % 2 == 1)]"
   ]
  },
  {
   "cell_type": "markdown",
   "id": "d4592155",
   "metadata": {},
   "source": [
    "二次元配列の場合も同様に操作ができます。例えば、1 列目の要素が 0 である行をすべて取得する場合は次のようにします。"
   ]
  },
  {
   "cell_type": "code",
   "execution_count": null,
   "id": "e21ec2a6",
   "metadata": {},
   "outputs": [],
   "source": [
    "x = np.array([[0, 1, 2, 3],\n",
    "              [1, 4, 5, 6],\n",
    "              [1, 7, 8, 9],\n",
    "              [0, 10, 11, 12]])\n",
    "\n",
    "f = (x[:, 0] == 0)\n",
    "x[f, :]"
   ]
  },
  {
   "cell_type": "markdown",
   "id": "2d4891c8",
   "metadata": {},
   "source": [
    "1 行目の要素が奇数である列を取得するには次のようにします。"
   ]
  },
  {
   "cell_type": "code",
   "execution_count": null,
   "id": "276e9825",
   "metadata": {},
   "outputs": [],
   "source": [
    "f = (x[0, :] % 2 == 1)\n",
    "x[:, f]"
   ]
  },
  {
   "cell_type": "markdown",
   "id": "85db6198",
   "metadata": {},
   "source": [
    "本節で NumPy 配列の作り方や値の取り出し方について紹介しました。配列に慣れることで、データ処理は格段に効率よくなります。たぶん、使う機会はないけど。そして、そのうちさっぱり忘れてる。でも安心してください。筆者も毎年、授業前に自分の資料を見ながら「おっ、意外とわかりやすく書けてるじゃん」って思ってます。自分で。"
   ]
  },
  {
   "cell_type": "code",
   "execution_count": null,
   "id": "89f72799",
   "metadata": {
    "tags": [
     "remove-cell"
    ]
   },
   "outputs": [],
   "source": [
    "!rm acorns.clean.csv"
   ]
  }
 ],
 "metadata": {
  "kernelspec": {
   "display_name": "ebook",
   "language": "python",
   "name": "python3"
  },
  "language_info": {
   "codemirror_mode": {
    "name": "ipython",
    "version": 3
   },
   "file_extension": ".py",
   "mimetype": "text/x-python",
   "name": "python",
   "nbconvert_exporter": "python",
   "pygments_lexer": "ipython3",
   "version": "3.11.4"
  }
 },
 "nbformat": 4,
 "nbformat_minor": 5
}
