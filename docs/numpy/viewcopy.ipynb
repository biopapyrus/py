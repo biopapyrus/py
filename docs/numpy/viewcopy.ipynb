{
 "cells": [
  {
   "cell_type": "code",
   "execution_count": null,
   "id": "43906def",
   "metadata": {
    "tags": [
     "remove-cell"
    ]
   },
   "outputs": [],
   "source": [
    "import os\n",
    "import sys\n",
    "sys.path.append(os.path.abspath('..'))\n",
    "from config import *"
   ]
  },
  {
   "cell_type": "markdown",
   "id": "e5266c59",
   "metadata": {},
   "source": [
    "(np_view_and_copy)=\n",
    "# ビューとコピー"
   ]
  },
  {
   "cell_type": "markdown",
   "id": "acd41337",
   "metadata": {},
   "source": [
    "配列の実態には**ビュー**（**view**） と**コピー**（**copy**）の 2 種類があります。配列を生成したあと、その配列の一部を取り出した部分配列や、`np.ravel` などの関数で形状を変えた配列は、見かけ上形は異なりますが、データを格納しているメモリを共有しています。このような配列を元の配列のビューと呼びます。\n",
    "\n",
    "メモリを共有しているため、ビューの値を変更すると、元の配列の値も変更されます。"
   ]
  },
  {
   "cell_type": "code",
   "execution_count": null,
   "id": "28030723",
   "metadata": {},
   "outputs": [],
   "source": [
    "x = np.array([[1, 2, 3, 4],\n",
    "              [5, 6, 7, 8]])\n",
    "a = np.ravel(x)\n",
    "\n",
    "a[0:4] = 0\n",
    "x"
   ]
  },
  {
   "cell_type": "markdown",
   "id": "c39ebb8b",
   "metadata": {},
   "source": [
    "逆に、元の配列 `x` の要素を変更すると、その変更はビュー `a` にも反映されます。"
   ]
  },
  {
   "cell_type": "code",
   "execution_count": null,
   "id": "1f7273fa",
   "metadata": {},
   "outputs": [],
   "source": [
    "x[1, :] = -1\n",
    "a"
   ]
  },
  {
   "cell_type": "markdown",
   "id": "52164e33",
   "metadata": {},
   "source": [
    "このように、ビューは同じデータを共有しているため、片方を変更するともう片方にも影響が出ます。\n",
    "\n",
    "一方、コピーは元の配列とは独立した別の配列です。コピーを作成するには、配列の `copy` メソッドを使います。例えば、先ほどの `np.ravel` で作成したビューに対して` .copy()` を呼び出すと、コピーが作成されます。コピーに対して値を変更しても、元の配列のデータは変更されません。"
   ]
  },
  {
   "cell_type": "code",
   "execution_count": null,
   "id": "03c36945",
   "metadata": {},
   "outputs": [],
   "source": [
    "x = np.array([[1, 2, 3, 4],\n",
    "                [5, 6, 7, 8]])\n",
    "a = np.ravel(x)\n",
    "b = a.copy()\n",
    "b[0:4] = 0\n",
    "x"
   ]
  },
  {
   "cell_type": "code",
   "execution_count": null,
   "id": "e0428c3f",
   "metadata": {},
   "outputs": [],
   "source": [
    "x[1, :] = -1\n",
    "b"
   ]
  },
  {
   "cell_type": "markdown",
   "id": "66d29bd8",
   "metadata": {},
   "source": [
    "また、次のように、配列の構造を変換した直後に `copy` をつけて、1 行で済ますこともできます。"
   ]
  },
  {
   "cell_type": "code",
   "execution_count": null,
   "id": "d1ba6694",
   "metadata": {},
   "outputs": [],
   "source": [
    "x = np.array([[1, 2, 3, 4],\n",
    "              [5, 6, 7, 8]])\n",
    "a = np.ravel(x).copy()\n",
    "a"
   ]
  },
  {
   "cell_type": "markdown",
   "id": "fee0818f",
   "metadata": {},
   "source": [
    "コピーしたつもりがビューだった。気づかず喜んでたら、卒業要件ひとつ消えてた。ビューの取り扱い、人生より慎重に。"
   ]
  }
 ],
 "metadata": {
  "kernelspec": {
   "display_name": "ebook",
   "language": "python",
   "name": "python3"
  },
  "language_info": {
   "codemirror_mode": {
    "name": "ipython",
    "version": 3
   },
   "file_extension": ".py",
   "mimetype": "text/x-python",
   "name": "python",
   "nbconvert_exporter": "python",
   "pygments_lexer": "ipython3",
   "version": "3.11.4"
  }
 },
 "nbformat": 4,
 "nbformat_minor": 5
}
