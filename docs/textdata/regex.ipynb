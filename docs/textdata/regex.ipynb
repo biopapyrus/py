{
 "cells": [
  {
   "cell_type": "code",
   "execution_count": null,
   "id": "b4dc6ef4",
   "metadata": {
    "tags": [
     "remove-cell"
    ]
   },
   "outputs": [],
   "source": [
    "import os\n",
    "import sys\n",
    "sys.path.append(os.path.abspath('..'))\n",
    "from config import *"
   ]
  },
  {
   "cell_type": "markdown",
   "id": "bc64b655-7a70-47bd-b6e9-ab8b26514a24",
   "metadata": {
    "editable": true,
    "slideshow": {
     "slide_type": ""
    },
    "tags": []
   },
   "source": [
    "# 正規表現"
   ]
  },
  {
   "cell_type": "markdown",
   "id": "304c16ad-62d7-433f-90d6-c5563803140d",
   "metadata": {
    "editable": true,
    "slideshow": {
     "slide_type": ""
    },
    "tags": []
   },
   "source": [
    "**正規表現**（**regular expressions**）は、文字列データのさまざまなパターンを厳密に表現するためのルールであり、文字列の中から特定のパターンを検索したり、置き換えたりする際に使われます。正規表現を利用することで、精密かつ高速に処理を行うことができます。正規表現は強力な魔法。でも、初心者が軽い気持ちで手を出すと、悲劇と後悔が待っています。覚悟を持って。\n",
    "\n",
    "正規表現を利用するには、re モジュールをインポートします。"
   ]
  },
  {
   "cell_type": "code",
   "execution_count": null,
   "id": "7bb9acf8",
   "metadata": {},
   "outputs": [],
   "source": [
    "import re"
   ]
  },
  {
   "cell_type": "markdown",
   "id": "ab90055b-42bb-456b-a979-9c52bab184c0",
   "metadata": {},
   "source": [
    "## 検索\n",
    "\n",
    "正規表現を利用して検索を行う例を見ていきましょう。ある文字列が与えられたときに、その中に「at」が存在するかどうかを検索してみます。正規表現を利用して検索を行う場合、re モジュールの `re.search` 関数を使用します。この関数には、検索したいパターンの正規表現と検索対象の文字列を、順に与えます。通常の文字列を検索するのであれば、正規表現もその文字列と同じ内容になります。"
   ]
  },
  {
   "cell_type": "code",
   "execution_count": null,
   "id": "beb621df",
   "metadata": {},
   "outputs": [],
   "source": [
    "s = 'Everything goes wrong all at once.'\n",
    "\n",
    "m = re.search('at', s)"
   ]
  },
  {
   "cell_type": "markdown",
   "id": "3f8cc07d",
   "metadata": {},
   "source": [
    "検索結果は変数 `m` に保存されます。指定されたパターンが見つかると、`m.span()` で検索に一致した部分の開始位置と終了位置を取得できます。また、`m.group()` を使うと、実際に一致した文字列を取得できます。今回は通常の文字列をパターンとして指定しているため、検索にヒットした部分は検索パターンと同じになっています。"
   ]
  },
  {
   "cell_type": "code",
   "execution_count": null,
   "id": "2808a274",
   "metadata": {},
   "outputs": [],
   "source": [
    "m"
   ]
  },
  {
   "cell_type": "code",
   "execution_count": null,
   "id": "734d2cd0",
   "metadata": {},
   "outputs": [],
   "source": [
    "m.span()"
   ]
  },
  {
   "cell_type": "code",
   "execution_count": null,
   "id": "c965c06d",
   "metadata": {},
   "outputs": [],
   "source": [
    "m.group()"
   ]
  },
  {
   "cell_type": "markdown",
   "id": "353b47f3",
   "metadata": {},
   "source": [
    "なお、正規表現で検索パターンを指定する際には、**raw string** を使うことが推奨されています。これは、検索パターンの前に `r` を付けて書く方法で、バックスラッシュ（`\\`）などの特殊文字をそのままの意味で扱うことができます。理由？そんなものは知らなくていいし、理解しなくても動きます。そういう決まりです。黙って `r` をつけましょう。例えば、次のように。"
   ]
  },
  {
   "cell_type": "code",
   "execution_count": null,
   "id": "fd369429",
   "metadata": {},
   "outputs": [],
   "source": [
    "m = re.search(r'at', s)"
   ]
  },
  {
   "cell_type": "markdown",
   "id": "a1f06de4",
   "metadata": {},
   "source": [
    "なお、指定されたパターンが見つからない場合、変数 `m` は `None` になります。検索がヒットしたかどうかで処理を分岐したい場合は、if 文を使って `m` が `None` かどうかを判定すればよいでしょう。"
   ]
  },
  {
   "cell_type": "code",
   "execution_count": null,
   "id": "a6cbdfa7",
   "metadata": {},
   "outputs": [],
   "source": [
    "s = 'If everything seems to be going well, you have obviously overlooked something.'\n",
    "\n",
    "m = re.search(r'at', s)\n",
    "print(m)"
   ]
  },
  {
   "cell_type": "markdown",
   "id": "c34300e5",
   "metadata": {},
   "source": [
    "次に、少し複雑な検索パターンを見ていきましょう。たとえば、「to be から始まり、well で終わる」というパターンは、`'to be.*well'` と書きます。ここで、`.*` は特殊な意味を持つ[メタ文字](メタ文字)と呼ばれる記号です。`.` は任意の 1 文字を表し、`*` は直前の文字またはパターンが 0 回以上繰り返されることを意味します。これらを組み合わせることで、「to be と well の間に任意の文字が 0 個以上ある」というパターンを表現しています。"
   ]
  },
  {
   "cell_type": "code",
   "execution_count": null,
   "id": "623a5cdc",
   "metadata": {},
   "outputs": [],
   "source": [
    "s = 'If everything seems to be going well, you have obviously overlooked something.'\n",
    "\n",
    "m = re.search(r'to be.*well', s)"
   ]
  },
  {
   "cell_type": "code",
   "execution_count": null,
   "id": "1974ee71",
   "metadata": {},
   "outputs": [],
   "source": [
    "m.span()"
   ]
  },
  {
   "cell_type": "code",
   "execution_count": null,
   "id": "32dc9856",
   "metadata": {},
   "outputs": [],
   "source": [
    "m.group()"
   ]
  },
  {
   "cell_type": "markdown",
   "id": "b4c74055",
   "metadata": {},
   "source": [
    "また、検索パターンの一部を `()` で囲むことで、その部分をあとから取り出すことができます。たとえば、to be と well の間の文字を取り出したい場合は、`'to be(.*)well'` と記述します。"
   ]
  },
  {
   "cell_type": "code",
   "execution_count": null,
   "id": "61aaef3f",
   "metadata": {},
   "outputs": [],
   "source": [
    "s = 'If everything seems to be going well, you have obviously overlooked something.'\n",
    "\n",
    "m = re.search(r'to be(.*)well', s)"
   ]
  },
  {
   "cell_type": "code",
   "execution_count": null,
   "id": "0ec1b92c",
   "metadata": {},
   "outputs": [],
   "source": [
    "m.span()"
   ]
  },
  {
   "cell_type": "code",
   "execution_count": null,
   "id": "e9044e17",
   "metadata": {},
   "outputs": [],
   "source": [
    "m.group()"
   ]
  },
  {
   "cell_type": "markdown",
   "id": "bfa5092a",
   "metadata": {},
   "source": [
    "`group` メソッドに引数として `1` を指定すると、最初のカッコで囲まれた部分（キャプチャグループ）を取得できます。このとき、`(.*)` は be の直後から well の直前までの文字列を含むため、be の後と well の前にある空白も取得されます。なお、検索パターンに複数の `()` が含まれている場合は、1 から順に番号を指定することで、それぞれのマッチ部分を取得できます。"
   ]
  },
  {
   "cell_type": "code",
   "execution_count": null,
   "id": "12aaba3a",
   "metadata": {},
   "outputs": [],
   "source": [
    "m.group(1)"
   ]
  },
  {
   "cell_type": "markdown",
   "id": "2bd07c0f",
   "metadata": {},
   "source": [
    "正規表現で `?` を付けると、「できるだけ少ない文字」で一致する部分を検索します。違いを見てみましょう。"
   ]
  },
  {
   "cell_type": "code",
   "execution_count": null,
   "id": "2d6c51c0",
   "metadata": {},
   "outputs": [],
   "source": [
    "s = 'Anything that can go wrong will go wrong.'\n",
    "\n",
    "m1 = re.search(r'go(.*)wrong', s)\n",
    "m2 = re.search(r'go(.*?)wrong', s)\n",
    "\n",
    "m1.group(1)"
   ]
  },
  {
   "cell_type": "code",
   "execution_count": null,
   "id": "d1081341",
   "metadata": {},
   "outputs": [],
   "source": [
    "m2.group(1)"
   ]
  },
  {
   "cell_type": "markdown",
   "id": "cd29da79",
   "metadata": {},
   "source": [
    "`'go(.*?)wrong'` を指定すると、「できるだけ少ない文字」で検索されるので、最初の go と wrong の間にある空白が検索されていることが確認できます。"
   ]
  },
  {
   "cell_type": "markdown",
   "id": "59138444",
   "metadata": {},
   "source": [
    "`re.search` 関数は、最初に見つかった部分だけを返します。検索対象の文字列の中に検索パターンが複数含まれている場合、それらをすべて検索したいときは、`re.finditer` 関数を利用します。`re.finditer` はリストのようなオブジェクト（イテレーター）を返すため、for 文で順に取り出すことができます。\n",
    "\n",
    "次の例では、文字列データから `\"I'm fine\"` をすべて見つける例です。\n"
   ]
  },
  {
   "cell_type": "code",
   "execution_count": null,
   "id": "882c16a1",
   "metadata": {},
   "outputs": [],
   "source": [
    "s = '''\n",
    "She said, \"I'm fine,\" after I asked what was wrong.\n",
    "Then she smiled and added, \"It's nothing.\"\n",
    "But she didn’t text for three days.\n",
    "On the fourth day, she said again, \"I'm fine.\"\n",
    "And then, \"No problem.\" Classic.\n",
    "'''\n",
    "\n",
    "matches = re.finditer(r\"I'm fine\", s)\n",
    "\n",
    "for m in matches:\n",
    "    msg = m.group()\n",
    "    start, end = m.span()\n",
    "    print(f'\"{msg}\" at position {start}-{end}')"
   ]
  },
  {
   "cell_type": "markdown",
   "id": "b4cd8608",
   "metadata": {},
   "source": [
    "また、`\"I'm fine\"` のほかに `\"It's nothing\"` も合わせて検索したい場合は、検索したい二つのキーワードの間に `|` を入れます。`|` は正規表現で「または」を意味します。"
   ]
  },
  {
   "cell_type": "code",
   "execution_count": null,
   "id": "bb0820a2",
   "metadata": {},
   "outputs": [],
   "source": [
    "matches = re.finditer(r\"I'm fine|It's nothing\", s)\n",
    "\n",
    "for m in matches:\n",
    "    msg = m.group()\n",
    "    start, end = m.span()\n",
    "    print(f'\"{msg}\" at position {start}-{end}')"
   ]
  },
  {
   "cell_type": "markdown",
   "id": "b2bc65e2",
   "metadata": {},
   "source": [
    "さらに応用例を見ていきましょう。この文字列データでは、彼女が話したことがすべて `\"` で囲まれています。そこで、正規表現を利用して、彼女の話したことをすべて取得してみます。"
   ]
  },
  {
   "cell_type": "code",
   "execution_count": null,
   "id": "636bbd8e",
   "metadata": {},
   "outputs": [],
   "source": [
    "matches = re.finditer(r'\"([^\"]+)\"', s)\n",
    "\n",
    "for m in matches:\n",
    "    msg = m.group(1).rstrip('.,')\n",
    "    start, end = m.span()\n",
    "    print(f'\"{msg}\" at position {start}-{end}')"
   ]
  },
  {
   "cell_type": "markdown",
   "id": "b912fbed",
   "metadata": {},
   "source": [
    "「I'm fine」を正規表現で拾えたけど、感情分析は別途必要。文字通りに受け取ると、痛い目にあうからね。"
   ]
  },
  {
   "cell_type": "markdown",
   "id": "7f3c63b4",
   "metadata": {},
   "source": [
    "## 置換"
   ]
  },
  {
   "cell_type": "markdown",
   "id": "fcf4a326",
   "metadata": {},
   "source": [
    "文字列の中にある特定のパターンを検索し、それを他の文字列に置換するには、`re.sub` 関数を利用します。`re.sub` 関数の使い方は、検索するパターン、置換後の文字列、置換対象の文字列の順に引数を与えます。"
   ]
  },
  {
   "cell_type": "code",
   "execution_count": null,
   "id": "f1d8858b",
   "metadata": {},
   "outputs": [],
   "source": [
    "s = 'Anything that can go wrong will go wrong.'\n",
    "t = re.sub(r'wrong', r'WRONG', s)\n",
    "t"
   ]
  },
  {
   "cell_type": "markdown",
   "id": "68cc86b0",
   "metadata": {},
   "source": [
    "`re.sub` 関数では、4 番目の引数に置換の回数を指定することができます。"
   ]
  },
  {
   "cell_type": "code",
   "execution_count": null,
   "id": "b854d08a",
   "metadata": {},
   "outputs": [],
   "source": [
    "s = 'Anything that can go wrong will go wrong.'\n",
    "t = re.sub(r'wrong', r'WRONG', s, 1)\n",
    "t"
   ]
  },
  {
   "cell_type": "markdown",
   "id": "eb9d4571",
   "metadata": {},
   "source": [
    "なお、検索パターンに `()` を用いて一部をグループ化した場合、`re.sub` 関数の置換文字列の中で `\\1` のように参照して利用することができます。カッコが複数ある場合は、`\\1`、`\\2` のように番号で順に呼び出すことができます。\n",
    "\n",
    "たとえば、日付フォーマットを「DD/MM/YYYY」から「YYYY-MM-DD」に変換する例では、まず検索パターンで DD、MM、YYYY のそれぞれを `()` で囲み、置換文字列の中で `\\3-\\1-\\2` と指定することで、マッチした値を順番に並び替えています。"
   ]
  },
  {
   "cell_type": "code",
   "execution_count": null,
   "id": "ae92d1dd",
   "metadata": {},
   "outputs": [],
   "source": [
    "s = 'I started my fitness journey on 01/01/2024. It ended on 01/03/2024.'\n",
    "t = re.sub(r'(\\d{2})/(\\d{2})/(\\d{4})', r'\\3-\\1-\\2', s)\n",
    "t"
   ]
  },
  {
   "cell_type": "markdown",
   "id": "83e370a6",
   "metadata": {},
   "source": [
    "正規表現で日付は整えられても、人生の不確かさまでは置換できません。"
   ]
  },
  {
   "cell_type": "markdown",
   "id": "013acc57",
   "metadata": {},
   "source": [
    "## 分割"
   ]
  },
  {
   "cell_type": "markdown",
   "id": "d26c3df9",
   "metadata": {},
   "source": [
    "通常の文字列分割であれば、文字列オブジェクトの `split` メソッドでも十分ですが、より柔軟かつ厳密に文字列を分割したい場合は、re モジュールの `split` 関数を利用します。たとえば、次のように一つの文字列をカンマ（,）またはカンマと空白（, ）で分割する例です。"
   ]
  },
  {
   "cell_type": "code",
   "execution_count": null,
   "id": "3aed5004",
   "metadata": {},
   "outputs": [],
   "source": [
    "s = '21, 31,41, 51,   61'\n",
    "d = re.split(r', *', s)\n",
    "d"
   ]
  },
  {
   "cell_type": "markdown",
   "id": "75365141",
   "metadata": {},
   "source": [
    "このように、`re.split` を使うと、カンマの後に空白があっても、正規表現を正しく指定すればうまく分割できます。"
   ]
  },
  {
   "cell_type": "markdown",
   "id": "c55e40bf",
   "metadata": {},
   "source": [
    "(メタ文字)=\n",
    "## メタ文字"
   ]
  },
  {
   "cell_type": "markdown",
   "id": "933cfca1",
   "metadata": {},
   "source": [
    "\n",
    "正規表現で使用する特殊な機能を持つ文字のことをメタ文字と呼びます。たとえば、上の例で見たように、`.` は任意の 1 文字を表し、`*` は直前の文字またはパターンの 0 回以上の繰り返しを意味します。これら以外にも、多くのメタ文字が {numref}`table-python-regex-metachars` のように定義されています。\n",
    "\n",
    "\n",
    "```{table} 正規表現で使用するメタ文字の一覧\n",
    ":name: table-python-regex-metachars\n",
    "\n",
    "| メタ文字 | 内容 |\n",
    "|-----|---------|\n",
    "| `.` | 改行以外の任意の 1 文字（DOTALL フラグで改行も含む） |\n",
    "| `^` | 文字列の先頭（MULTILINE フラグで各行の先頭にもマッチ） |\n",
    "| `$` | 文字列の末尾（MULTILINE フラグで各行の末尾にもマッチ） |\n",
    "| `*` | 直前のパターンを 0 回以上繰り返し |\n",
    "| `+` | 直前のパターンを 1 回以上繰り返し |\n",
    "| `?` | 直前のパターンを 0 回または1回繰り返し |\n",
    "| `{m}` | 直前のパターンを m 回繰り返し |\n",
    "| `{m, n}` | 直前のパターンを m 〜 n 回繰り返し |\n",
    "| `[]` | 文字の集合 - `[]` 内のいずれか 1 文字にマッチ |\n",
    "| `|` | OR（または） - `A|B` で A か B いずれかのパターンにマッチ |\n",
    "```\n",
    "\n",
    "`?` を見て、混乱してきましたか。大丈夫、筆者も最初は `?` に疑問しか感じませんでした。正規表現の世界では、同じ記号が文脈で意味を変えるなんて、日常茶飯事。そういう世界です、受け入れてください。\n",
    "\n"
   ]
  },
  {
   "cell_type": "markdown",
   "id": "ae84f242",
   "metadata": {},
   "source": [
    "## 特殊シーケンス"
   ]
  },
  {
   "cell_type": "markdown",
   "id": "982a4c4a",
   "metadata": {},
   "source": [
    "正規表現でよく使われるパターンの組み合わせは、特殊シーケンスとして定義されています。たとえば、0 から 9 までのいずれかの数字 1 つを正規表現で表すと、`[0123456789]` または `[0-9]` と書きます。これに対して、特殊シーケンスを使うと `\\d` と書くだけで数字 1 つを表現できます。よく使われる特殊シーケンスは {numref}`table-python-regex-escseq` の通りです。\n",
    "\n",
    "\n",
    "```{table} 正特殊シーケンス\n",
    ":name: table-python-regex-escseq\n",
    "\n",
    "| メタ文字 | 内容 |\n",
    "|-----|---------|\n",
    "| `\\n` | 改行コード |\n",
    "| `\\r` | 改行コード |\n",
    "| `\\t` | タブ |\n",
    "| `\\d` | 数字 `[0-9]` |\n",
    "| `\\d` | 数字 `[0-9]` |\n",
    "| `\\D` | 数字以外 `[^0-9]` |\n",
    "| `\\w` | 英数字およびアンダースコア `[a-zA-Z0-9_]` |\n",
    "| `\\W` | 英数字およびアンダースコア以外 `[^a-zA-Z0-9_]` |\n",
    "| `\\s` | 空白文字 `[\\t\\n\\r\\f]` |\n",
    "| `\\S` | 空白文字意外 `[^\\t\\n\\r\\f]` |\n",
    "```"
   ]
  },
  {
   "cell_type": "markdown",
   "id": "742463aa",
   "metadata": {},
   "source": [
    "## コンパイル"
   ]
  },
  {
   "cell_type": "markdown",
   "id": "9bc1473d",
   "metadata": {},
   "source": [
    "re モジュールの使い方として、これまでに説明したように、関数に検索パターンと検索対象を順に渡して検索や置換を行う方法のほかに、正規表現をあらかじめコンパイルして利用する方法があります。正規表現をコンパイルすると、処理のたびにコンパイルを行う必要がなくなり、より効率的に処理が実行できます。ただし、生物学で扱うデータの場合、多くはコンパイルしても処理効率が劇的に変わるわけではないため、必ずしもコンパイルして使う必要はありません。\n",
    "\n",
    "正規表現をコンパイルせずに検索する場合、次のように書きます。"
   ]
  },
  {
   "cell_type": "code",
   "execution_count": null,
   "id": "fee385fd",
   "metadata": {},
   "outputs": [],
   "source": [
    "s = 'Everything goes wrong all at once.'\n",
    "\n",
    "m = re.search(r'at', s)"
   ]
  },
  {
   "cell_type": "markdown",
   "id": "c3ee1014",
   "metadata": {},
   "source": [
    "一方、正規表現をコンパイルしてから利用する場合は、まず `re.compile` 関数で検索パターンをコンパイルし、その結果得られるオブジェクトのメソッドを使って検索を行います。このコンパイル済みオブジェクトには検索パターンの情報が含まれているため、検索メソッドを呼び出す際に再度検索パターンを指定する必要はありません。"
   ]
  },
  {
   "cell_type": "code",
   "execution_count": null,
   "id": "08a00cbf",
   "metadata": {},
   "outputs": [],
   "source": [
    "ptn = re.compile(r'at')\n",
    "m = ptn.search(s)"
   ]
  },
  {
   "cell_type": "markdown",
   "id": "e42e7910",
   "metadata": {},
   "source": []
  }
 ],
 "metadata": {
  "kernelspec": {
   "display_name": "ebook",
   "language": "python",
   "name": "python3"
  },
  "language_info": {
   "codemirror_mode": {
    "name": "ipython",
    "version": 3
   },
   "file_extension": ".py",
   "mimetype": "text/x-python",
   "name": "python",
   "nbconvert_exporter": "python",
   "pygments_lexer": "ipython3",
   "version": "3.11.4"
  }
 },
 "nbformat": 4,
 "nbformat_minor": 5
}
