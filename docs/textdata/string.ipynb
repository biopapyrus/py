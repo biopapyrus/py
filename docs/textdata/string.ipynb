{
 "cells": [
  {
   "cell_type": "code",
   "execution_count": null,
   "id": "b4dc6ef4",
   "metadata": {
    "tags": [
     "remove-cell"
    ]
   },
   "outputs": [],
   "source": [
    "import os\n",
    "import sys\n",
    "sys.path.append(os.path.abspath('..'))\n",
    "from config import *"
   ]
  },
  {
   "cell_type": "markdown",
   "id": "b93e586f-d797-4678-8a9e-2a4202fe7bed",
   "metadata": {},
   "source": [
    "# 文字データ"
   ]
  },
  {
   "cell_type": "markdown",
   "id": "40ad9312",
   "metadata": {},
   "source": [
    "データ解析では数値だけでなく、文字データも重要な対象となります。特にバイオインフォマティクスの分野では、DNA や RNA の配列といった生物学的情報が A、C、G、T などの文字列として表現されるため、これらを正しく扱うスキルが不可欠です。本節では、こうした文字データの基本的な取り扱い方について解説します。"
   ]
  },
  {
   "cell_type": "markdown",
   "id": "7aa67588",
   "metadata": {},
   "source": [
    "## 文字データ"
   ]
  },
  {
   "attachments": {},
   "cell_type": "markdown",
   "id": "fb96d1d9-1519-461f-9ce0-bdc0ba36d50c",
   "metadata": {
    "editable": true,
    "slideshow": {
     "slide_type": ""
    },
    "tags": []
   },
   "source": [
    "文字データは、そのままでは変数名と区別がつかないため、クオーテーションマーク（`'`）やダブルクオーテーションマーク（`\"`）で囲んで扱います。例えば、変数 `str_data` に文字の A を代入する場合は、次のように書きます。"
   ]
  },
  {
   "cell_type": "code",
   "execution_count": null,
   "id": "cfb8b141-ee4f-4150-8f3f-d2f408436bd4",
   "metadata": {
    "editable": true,
    "slideshow": {
     "slide_type": ""
    },
    "tags": []
   },
   "outputs": [],
   "source": [
    "str_data = 'A'"
   ]
  },
  {
   "cell_type": "markdown",
   "id": "e9e44480",
   "metadata": {},
   "source": [
    "この変数の中身を `print` 関数で出力すると、次のように表示されます。"
   ]
  },
  {
   "cell_type": "code",
   "execution_count": null,
   "id": "6e83c8fd-51cc-4f51-8ee8-e2a047212f49",
   "metadata": {},
   "outputs": [],
   "source": [
    "print(str_data)"
   ]
  },
  {
   "cell_type": "markdown",
   "id": "f6108542",
   "metadata": {},
   "source": [
    "Jupyter Notebook では、次のように変数名を実行しても、その中身を確認することができます。"
   ]
  },
  {
   "cell_type": "code",
   "execution_count": null,
   "id": "cd15cff6",
   "metadata": {},
   "outputs": [],
   "source": [
    "str_data"
   ]
  },
  {
   "cell_type": "markdown",
   "id": "0c3ca807-9652-4c4b-a242-d2dec527a6d8",
   "metadata": {
    "editable": true,
    "slideshow": {
     "slide_type": ""
    },
    "tags": []
   },
   "source": [
    "また、複数の文字からなるデータも同様に変数に代入できます。このような複数の文字で構成されるデータは、一般的に文字列データと呼ばれます。"
   ]
  },
  {
   "cell_type": "code",
   "execution_count": null,
   "id": "901707c3-2752-4716-abb5-dcc632d44e01",
   "metadata": {
    "editable": true,
    "slideshow": {
     "slide_type": ""
    }
   },
   "outputs": [],
   "source": [
    "str_data = 'hello, world'\n",
    "str_data"
   ]
  },
  {
   "cell_type": "markdown",
   "id": "c83c1378-3388-46fc-8309-4fe4f226bfdc",
   "metadata": {
    "editable": true,
    "slideshow": {
     "slide_type": ""
    },
    "tags": []
   },
   "source": [
    "文字列を変数に代入すると、その変数は複数の文字を持つデータとして扱われます。文字列は、リストのように各文字が順番に並んでおり、それぞれの文字にインデックス（番号）が割り振られています。このため、インデックスを使って特定の位置の文字を取り出したり、スライス機能を使って文字列の一部分を切り出したりすることができます。インデックスはリストと同様に 0 から始まるため、最初の文字を取得したい場合は `[0]` のように指定します。"
   ]
  },
  {
   "cell_type": "code",
   "execution_count": null,
   "id": "d8044975",
   "metadata": {},
   "outputs": [],
   "source": [
    "str_data = 'Smile. Tomorrow will be worse.'\n",
    "str_data[0]"
   ]
  },
  {
   "cell_type": "code",
   "execution_count": null,
   "id": "b5c1d2aa",
   "metadata": {},
   "outputs": [],
   "source": [
    "str_data[7:15]"
   ]
  },
  {
   "cell_type": "code",
   "execution_count": null,
   "id": "f2ef0300",
   "metadata": {},
   "outputs": [],
   "source": [
    "str_data[21:-1]"
   ]
  },
  {
   "cell_type": "markdown",
   "id": "da39f361",
   "metadata": {},
   "source": [
    "また、リストのように for 文で一文字ずつ取り出すことも可能です。"
   ]
  },
  {
   "cell_type": "code",
   "execution_count": null,
   "id": "a1715746-111a-42ea-8ad4-15852c8ddb57",
   "metadata": {
    "editable": true,
    "slideshow": {
     "slide_type": ""
    },
    "tags": []
   },
   "outputs": [],
   "source": [
    "str_data = 'hello, world'\n",
    "\n",
    "for x in str_data:\n",
    "    print(x)"
   ]
  },
  {
   "cell_type": "markdown",
   "id": "87ab21d0",
   "metadata": {},
   "source": [
    "ここで、if 文と for 文を組み合わせて、与えられた塩基配列の中に文字「A」が何回出現するかを数える例を示します。文字列は for 文で一文字ずつ取り出せるため、取り出した文字が「A」かどうかを if 文で順に判定してカウントします。"
   ]
  },
  {
   "cell_type": "code",
   "execution_count": null,
   "id": "cc2fc4b4",
   "metadata": {},
   "outputs": [],
   "source": [
    "dna = 'ACTTAACAGT'\n",
    "nA = 0\n",
    "\n",
    "for s in dna:\n",
    "    if s == 'A':\n",
    "        nA = nA + 1\n",
    "\n",
    "\n",
    "nA"
   ]
  },
  {
   "cell_type": "markdown",
   "id": "191a3b69",
   "metadata": {},
   "source": [
    "````{admonition} 練習問題 TS-1\n",
    "与えられた塩基配列中の A、C、G、T の出現回数をそれぞれ求めるプログラムを作成せよ。\n",
    "\n",
    "```python\n",
    "s = 'CAGTCATGCGATGTATTATGCATCAC'\n",
    "\n",
    "```\n",
    "````\n",
    "\n",
    "\n",
    "文字列の中に特定の文字列が含まれているかどうかを検索する例を見てみましょう。例えば、与えられた塩基配列の中から「ATG」を検索し、もし見つかればその位置を、見つからなければ -1 を出力するプログラムを考えます。\n",
    "\n",
    "文字列検索を行う際は、まず最初の文字、つまりインデックスが 0 のところから始めます。「ATG」を検索するために、連続する 3 文字を順に取り出して判定します。このとき、スライス機能を利用します。例えば、`[0:3]`、`[1:4]` のように指定します。"
   ]
  },
  {
   "cell_type": "code",
   "execution_count": null,
   "id": "cf8eefb8",
   "metadata": {},
   "outputs": [],
   "source": [
    "p = -1\n",
    "s = 'CAGTCATGCGATGTATTATGCATCAC'\n",
    "\n",
    "for i in range(len(s)):\n",
    "    x = s[i:(i+3)]\n",
    "    if x == 'ATG':\n",
    "        p = i\n",
    "\n",
    "p"
   ]
  },
  {
   "cell_type": "markdown",
   "id": "9cbdac06",
   "metadata": {},
   "source": [
    "このように文字列検索を簡単に実装することができました。しかし、詳しく見ると、このプログラムでは、入力された塩基配列に複数の「ATG」が含まれる場合、一番最後に見つかった位置だけを出力する仕様になっています。正しく動作させるには、もう一工夫が必要です。\n",
    "\n",
    "\n",
    "````{admonition} 練習問題 TS-2\n",
    "与えられた塩基配列の中に「ATG」が含まれているかどうかを調べ、複数個ある場合はすべての位置をリストとして出力するプログラムを作成しなさい。\n",
    "\n",
    "```python\n",
    "s = 'CAGTCATGCGATGTATTATGCATCAC'\n",
    "\n",
    "```\n",
    "````\n",
    "\n",
    "\n",
    "````{admonition} 練習問題 TS-3\n",
    "与えられた塩基配列に対して、逆相補鎖を求めるプログラムを作成しなさい。なお、逆相補鎖とは、まず配列中の各塩基を相補的な塩基に置き換えたうえで、文字列全体を逆順にしたものを指します。具体的には、A は T に、T は A に、C は G に、G は C に置換します。たとえば、「AACGT」という配列が与えられた場合、まず「TTGCA」に置き換え、さらにこれを逆順にして「ACGTT」とすることで、逆相補鎖を得ることができます。\n",
    "\n",
    "```python\n",
    "s = 'CAGTCATGCGATGTATTATGCATCAC'\n",
    "\n",
    "```\n",
    "````\n"
   ]
  },
  {
   "cell_type": "markdown",
   "id": "8047437d",
   "metadata": {},
   "source": [
    "複数行に渡るような長めの文字列データの場合は、三つのシングルクォートまたはダブルクォート（`'''` または `\"\"\"`）で囲むことで見やすくなります。このとき、`'''` で囲まれた内側の文字列は、改行も含めて一つの文字列データとみなされ、変数に代入されます。"
   ]
  },
  {
   "cell_type": "code",
   "execution_count": null,
   "id": "1cd55c78",
   "metadata": {},
   "outputs": [],
   "source": [
    "s = '''Smile.\n",
    "Tomorrow will be worse.'''"
   ]
  },
  {
   "cell_type": "markdown",
   "id": "5f5426cc",
   "metadata": {},
   "source": [
    "Jupyter Notebook で変数 `s` をそのまま実行すると、次のように文字列の中に含まれる改行は `\\n` という記号で表示されます。"
   ]
  },
  {
   "cell_type": "code",
   "execution_count": null,
   "id": "59d33464",
   "metadata": {},
   "outputs": [],
   "source": [
    "s"
   ]
  },
  {
   "cell_type": "markdown",
   "id": "c16e12d9",
   "metadata": {},
   "source": [
    "これは、Python が改行を `\\n` という 1 文字の特殊な記号（エスケープシーケンス）として扱っているためです。\n",
    "\n",
    "ええ、わかっています。誰がどう見ても `\\n` は 2 文字です。でも、コンピューターの世界では、これが 1 文字。`\\` は文字ではなく、呪文であり、後ろの文字に呪いをかけて意味を変えてしまいます。世界がちょっとだけ歪む瞬間です。「なぜそうなるのか？」と気になったあなた、その探究心は素晴らしいですが、精神的な安定のためには深入りしないことをおすすめします。調べ始めたその瞬間から、あなたは人生そのものを疑い始めてしまいます。\n",
    "\n",
    "一方で、`print` 関数やファイル出力時に使用する `write` 関数などでこの文字列を出力すると、`\\n` は実際の改行として適切に処理され、画面上では改行された形で表示されます。"
   ]
  },
  {
   "cell_type": "code",
   "execution_count": null,
   "id": "c793789e",
   "metadata": {},
   "outputs": [],
   "source": [
    "print(s)"
   ]
  },
  {
   "cell_type": "markdown",
   "id": "6c4aba1c",
   "metadata": {},
   "source": [
    "## 文字列処理"
   ]
  },
  {
   "cell_type": "markdown",
   "id": "33d5d182-2cf8-4524-bb57-4a37465d4987",
   "metadata": {
    "editable": true,
    "slideshow": {
     "slide_type": ""
    },
    "tags": []
   },
   "source": [
    "二つの文字列を連結するには、`+` 演算子を利用します。いくつかの例を見てみましょう。"
   ]
  },
  {
   "cell_type": "code",
   "execution_count": null,
   "id": "8fca4136-37a0-4d6c-876e-8ec93b2c0d12",
   "metadata": {
    "editable": true,
    "slideshow": {
     "slide_type": ""
    },
    "tags": []
   },
   "outputs": [],
   "source": [
    "s1 = 'Smile.'\n",
    "s2 = 'Tomorrow will be worse.'\n",
    "s3 = ' '\n",
    "\n",
    "s = s1 + s2\n",
    "s"
   ]
  },
  {
   "cell_type": "code",
   "execution_count": null,
   "id": "689b2829",
   "metadata": {},
   "outputs": [],
   "source": [
    "s = s1 + s3 + s2\n",
    "s"
   ]
  },
  {
   "cell_type": "code",
   "execution_count": null,
   "id": "cd3460ee",
   "metadata": {},
   "outputs": [],
   "source": [
    "s = s1 + ' ' + s2\n",
    "s\n"
   ]
  },
  {
   "cell_type": "markdown",
   "id": "358c8f3a",
   "metadata": {},
   "source": [
    "文字列の分割には、`split` メソッドを利用します。分割した結果はリストになります。次は、カンマで文字列を分割する例です。"
   ]
  },
  {
   "cell_type": "code",
   "execution_count": null,
   "id": "7bcd05bb",
   "metadata": {},
   "outputs": [],
   "source": [
    "s = '21,31,41,51,61'\n",
    "x = s.split(',')\n",
    "x"
   ]
  },
  {
   "cell_type": "code",
   "execution_count": null,
   "id": "3733b6ab",
   "metadata": {},
   "outputs": [],
   "source": [
    "x[0]"
   ]
  },
  {
   "cell_type": "markdown",
   "id": "c44bc3a8",
   "metadata": {},
   "source": [
    "なお、分割された各要素も文字列のままです。そのため、これらを `+` で結合すると数値の足し算ではなく、単に文字列が連結されるだけになります。"
   ]
  },
  {
   "cell_type": "code",
   "execution_count": null,
   "id": "678352b8",
   "metadata": {},
   "outputs": [],
   "source": [
    "x[0] + x[1]"
   ]
  },
  {
   "cell_type": "markdown",
   "id": "f8c867b4",
   "metadata": {},
   "source": [
    "ある文字列の中に、特定の部分文字列が含まれているかどうかを検索するには、`find` メソッドを利用します。"
   ]
  },
  {
   "cell_type": "code",
   "execution_count": null,
   "id": "85eaa940",
   "metadata": {},
   "outputs": [],
   "source": [
    "s = 'hello, world'\n",
    "p1 = s.find('o')\n",
    "p1"
   ]
  },
  {
   "cell_type": "markdown",
   "id": "4b38ced7",
   "metadata": {},
   "source": [
    "`find` メソッドは、文字列の先頭から検索を行い、最初に見つかった位置を返します。2 回目以降の出現を調べるには、検索開始位置を指定して、改めて検索を行う必要があります。"
   ]
  },
  {
   "cell_type": "code",
   "execution_count": null,
   "id": "0b8993e8",
   "metadata": {},
   "outputs": [],
   "source": [
    "p2 = s.find('o', p1 + 1)\n",
    "p2"
   ]
  },
  {
   "cell_type": "markdown",
   "id": "5fa9cb0a",
   "metadata": {},
   "source": [
    "なお、文字列検索にはここで紹介した `find` メソッドよりも、正規表現を用いる方法が一般的に広く使われます。正規表現を利用すると、曖昧な検索、特定文字列の繰り返し回数の指定、文字数や数値の桁数の制約を加えた検索など、さまざまなパターンを厳密に指定して検索することが可能になります。そのため、簡単な検索であれば `find` メソッドでも十分ですが、本格的な文字列データの解析を行う場合は、正規表現の使用をお勧めします。\n",
    "\n",
    "続いて、文字列の置換を行うメソッドを紹介します。これは、文字列の中に含まれる特定の文字列を、別の文字列に置き換える方法です。ここでは `replace` メソッドを使用します。以下の例では、文字列中の `, ` を `;` に置換しています。"
   ]
  },
  {
   "cell_type": "code",
   "execution_count": null,
   "id": "47cf2f70",
   "metadata": {},
   "outputs": [],
   "source": [
    "s = '21, 31, 41,51,61'\n",
    "x = s.replace(', ', ';')\n",
    "x"
   ]
  },
  {
   "cell_type": "markdown",
   "id": "dfabee80-2e91-4399-aa3d-cb1879f1220f",
   "metadata": {
    "editable": true,
    "slideshow": {
     "slide_type": ""
    },
    "tags": []
   },
   "source": [
    "このように、`replace` メソッドでは、指定したパターンと完全に一致する部分だけが置換の対象になります。たとえば、上の例では `, ` は置換されますが、`,` のように空白のない部分は置換されません。より柔軟かつ高度な置換を行いたい場合には、正規表現の利用が便利です。正規表現を使えば、たとえば「カンマに続いて空白が 0 個以上ある箇所」といった曖昧なパターンにもマッチさせて置換を行うことができます。\n",
    "\n",
    "最後に、文字列の両端から特定の文字を取り除く方法を紹介します。文字列の両端から特定の文字を除去するには `strip` メソッドを使用します。また、左端のみを除去したい場合は `lstrip`、右端のみは `rstrip` を使用します。除去する文字を指定しない場合、空白文字（スペース、タブ、改行など）が対象となります。これは、たとえばファイルの各行の末尾にある改行文字などを除去する際に便利です。\n",
    "\n",
    "次の例では、文字列の両端から空白文字を取り除いています。空白文字が複数連続していても、すべて除去されます。"
   ]
  },
  {
   "cell_type": "code",
   "execution_count": null,
   "id": "6bb2a227-1dcd-4ac9-b896-909093b0ab11",
   "metadata": {
    "editable": true,
    "slideshow": {
     "slide_type": ""
    },
    "tags": []
   },
   "outputs": [],
   "source": [
    "s = ' hello, world \\n'\n",
    "x = s.strip()\n",
    "x"
   ]
  },
  {
   "cell_type": "markdown",
   "id": "90fff1b3",
   "metadata": {},
   "source": [
    "また、メソッドに除去したい特定の文字を指定することもできます。"
   ]
  },
  {
   "cell_type": "code",
   "execution_count": null,
   "id": "40aa6685",
   "metadata": {},
   "outputs": [],
   "source": [
    "s = 'hello, world'\n",
    "x = s.strip('d')\n",
    "x"
   ]
  },
  {
   "cell_type": "markdown",
   "id": "31629ac5",
   "metadata": {},
   "source": [
    "複数の文字を指定した場合、それぞれの文字がいずれかに一致すれば除去対象となり、両端から順に削除されます。"
   ]
  },
  {
   "cell_type": "code",
   "execution_count": null,
   "id": "fc40057e",
   "metadata": {},
   "outputs": [],
   "source": [
    "s = 'hello, world'\n",
    "x = s.strip('hd')\n",
    "x"
   ]
  },
  {
   "cell_type": "markdown",
   "id": "72984ef6-97a7-4b33-a836-ba10835024eb",
   "metadata": {
    "editable": true,
    "slideshow": {
     "slide_type": ""
    },
    "tags": []
   },
   "source": [
    "## 文字と数値の交互変換"
   ]
  },
  {
   "cell_type": "markdown",
   "id": "aab33049-f273-4d26-b37f-133f8b188627",
   "metadata": {
    "editable": true,
    "slideshow": {
     "slide_type": ""
    },
    "tags": []
   },
   "source": [
    "Python の世界では、文字列と数値は異なる型として扱われ、それぞれに応じた動作が定義されています。文字列同士を `+` で足し算すると、それらは連結されます。一方、数値同士であれば、数学的な和が計算されます。しかし、文字列と数値を直接 `+` で足すことはできません。この場合、型が異なるためエラーが発生します。"
   ]
  },
  {
   "cell_type": "code",
   "execution_count": null,
   "id": "9585ad20-c196-4815-ae11-31762bc73c6b",
   "metadata": {
    "editable": true,
    "slideshow": {
     "slide_type": ""
    },
    "tags": []
   },
   "outputs": [],
   "source": [
    "a = '12'\n",
    "b = 21\n",
    "\n",
    "a + b"
   ]
  },
  {
   "cell_type": "code",
   "execution_count": null,
   "id": "edfebeac",
   "metadata": {},
   "outputs": [],
   "source": [
    "b + a"
   ]
  },
  {
   "cell_type": "markdown",
   "id": "6ba2ece2-b0be-4522-afcb-e8bc9f0a421f",
   "metadata": {
    "editable": true,
    "slideshow": {
     "slide_type": ""
    },
    "tags": []
   },
   "source": [
    "文字列を 整数や小数に変換することができます。整数への変換には `int` 関数を、小数への変換には `float` 関数を使用します。ただし、すべての文字列が数値に変換できるわけではありません。文字列の内容が数値として解釈できない場合、これらの関数を使うとエラーが発生します。"
   ]
  },
  {
   "cell_type": "code",
   "execution_count": null,
   "id": "06930dde-bd7a-42ff-b4ed-9b5d97885a13",
   "metadata": {
    "editable": true,
    "slideshow": {
     "slide_type": ""
    },
    "tags": []
   },
   "outputs": [],
   "source": [
    "a1 = '12'\n",
    "a2 = '12.345'\n",
    "a3 = '1.23e6'\n",
    "\n",
    "int(a1)"
   ]
  },
  {
   "cell_type": "code",
   "execution_count": null,
   "id": "59eb5a6e",
   "metadata": {},
   "outputs": [],
   "source": [
    "int(a2)"
   ]
  },
  {
   "cell_type": "code",
   "execution_count": null,
   "id": "e497a4ba",
   "metadata": {},
   "outputs": [],
   "source": [
    "float(a1)"
   ]
  },
  {
   "cell_type": "code",
   "execution_count": null,
   "id": "658a2b41",
   "metadata": {},
   "outputs": [],
   "source": [
    "float(a2)"
   ]
  },
  {
   "cell_type": "code",
   "execution_count": null,
   "id": "83544d03",
   "metadata": {},
   "outputs": [],
   "source": [
    "float(a3)"
   ]
  },
  {
   "cell_type": "markdown",
   "id": "202e0725-5eae-44df-b1ba-0c228d4cdca9",
   "metadata": {
    "editable": true,
    "slideshow": {
     "slide_type": ""
    },
    "tags": []
   },
   "source": [
    "数値を文字列に変換するには、`str` 関数を使用します。基本的に、すべての数値は文字列に変換することが可能です。ただし、桁数の多い小数を文字列に変換する場合、桁数が自動的に丸められたり、省略されたりする**桁落ち**（**loss of significance**）が発生することがあります。"
   ]
  },
  {
   "cell_type": "code",
   "execution_count": null,
   "id": "57cf9dba-8a7e-4662-90f7-84756950f961",
   "metadata": {
    "editable": true,
    "slideshow": {
     "slide_type": ""
    },
    "tags": []
   },
   "outputs": [],
   "source": [
    "b1 = 12\n",
    "b2 = 12.345\n",
    "b3 = 12.3456789012345678901\n",
    "b4 = 1.23e6\n",
    "\n",
    "str(b1)"
   ]
  },
  {
   "cell_type": "code",
   "execution_count": null,
   "id": "d64a5acd",
   "metadata": {},
   "outputs": [],
   "source": [
    "str(b2)"
   ]
  },
  {
   "cell_type": "code",
   "execution_count": null,
   "id": "eff3f79a",
   "metadata": {},
   "outputs": [],
   "source": [
    "str(b3)"
   ]
  },
  {
   "cell_type": "code",
   "execution_count": null,
   "id": "f8c06a21",
   "metadata": {},
   "outputs": [],
   "source": [
    "str(b4)"
   ]
  },
  {
   "cell_type": "markdown",
   "id": "449d21af-e7ae-4d2e-b5b6-f191c8661c54",
   "metadata": {
    "editable": true,
    "slideshow": {
     "slide_type": ""
    },
    "tags": []
   },
   "source": [
    "## f-strings"
   ]
  },
  {
   "cell_type": "markdown",
   "id": "89a61415-d096-44a3-bf27-a5f11f91c2c3",
   "metadata": {
    "editable": true,
    "slideshow": {
     "slide_type": ""
    },
    "tags": []
   },
   "source": [
    "Python の f-strings は、文字列の中に変数や計算結果を簡単に埋め込むための方法です。たとえば、計算結果を含むメッセージを作成する際に非常に便利で、コードをシンプルで読みやすく保つことができます。\n",
    "\n",
    "f-strings を使うには、文字列の前に `f` を付けて、文字列内の `{}` の中に変数や式を記述するだけです。プログラムを実行すると、その部分に変数の値や式の結果が展開され、文字列に埋め込まれます。ここでは、f-strings を使った場合と使わなかった場合の違いを見てみましょう。"
   ]
  },
  {
   "cell_type": "code",
   "execution_count": null,
   "id": "ca499920-3d94-4a8d-8fed-fdf01c34ffbb",
   "metadata": {
    "editable": true,
    "slideshow": {
     "slide_type": ""
    },
    "tags": []
   },
   "outputs": [],
   "source": [
    "tree = 'kunugi'\n",
    "hight = 5.42\n",
    "weight = 2.08\n",
    "\n",
    "x1 = f'DATA: {tree} {hight}cm {weight}g'\n",
    "x1"
   ]
  },
  {
   "cell_type": "code",
   "execution_count": null,
   "id": "894889a4",
   "metadata": {},
   "outputs": [],
   "source": [
    "x2 = 'DATA: {tree} {hight}cm {weight}g'\n",
    "x2"
   ]
  },
  {
   "cell_type": "markdown",
   "id": "4b7f8222-9954-4bc3-8f5a-3c2fd5dd64d2",
   "metadata": {
    "editable": true,
    "slideshow": {
     "slide_type": ""
    },
    "tags": []
   },
   "source": [
    "画面への出力だけが目的であれば、変数に保存せずに、`print` 関数で直接出力するとコードが簡潔です。"
   ]
  },
  {
   "cell_type": "code",
   "execution_count": null,
   "id": "722d40bf-02ad-469a-995a-96c8dcaa5da7",
   "metadata": {
    "editable": true,
    "slideshow": {
     "slide_type": ""
    },
    "tags": []
   },
   "outputs": [],
   "source": [
    "print(f'DATA: {tree} {hight}cm {weight}g')"
   ]
  },
  {
   "cell_type": "markdown",
   "id": "3098d273-4603-443b-ab33-fb162af7ab84",
   "metadata": {
    "editable": true,
    "slideshow": {
     "slide_type": ""
    },
    "tags": []
   },
   "source": [
    "f-strings の `{}` の中には変数名だけでなく、Python の式も書くことができます。たとえば、計算式を直接 `{}` の中に書くと、その計算結果が自動的に文字列内に埋め込まれます。次のような例が挙げられます。"
   ]
  },
  {
   "cell_type": "code",
   "execution_count": null,
   "id": "f0c865cf-c5c1-4f43-8004-6be48a89c9a1",
   "metadata": {
    "editable": true,
    "slideshow": {
     "slide_type": ""
    },
    "tags": []
   },
   "outputs": [],
   "source": [
    "a = 1\n",
    "b = 2\n",
    "\n",
    "print(f'a + b = {a + b}')"
   ]
  },
  {
   "cell_type": "code",
   "execution_count": null,
   "id": "4713c7bd-80d5-483c-8690-3220d68059db",
   "metadata": {
    "editable": true,
    "slideshow": {
     "slide_type": ""
    },
    "tags": []
   },
   "outputs": [],
   "source": [
    "print(f'{a} + {b} = {a + b}')"
   ]
  },
  {
   "cell_type": "markdown",
   "id": "d7f19af0-3e9e-4195-bd7d-8ea87cc48c08",
   "metadata": {
    "editable": true,
    "slideshow": {
     "slide_type": ""
    },
    "tags": []
   },
   "source": [
    "f-strings の `{}` の中で、変数名の後に `=` を書くと、変数名とその値をセットで文字列に出力できます。この機能は、プログラムの動作確認やデバッグ時に、変数名と中身を同時に確認したい場合にとても便利です。"
   ]
  },
  {
   "cell_type": "code",
   "execution_count": null,
   "id": "f0aa35a4-74ff-4ad9-a210-f6c66e73ec67",
   "metadata": {
    "editable": true,
    "slideshow": {
     "slide_type": ""
    },
    "tags": []
   },
   "outputs": [],
   "source": [
    "a = 1\n",
    "b = 2\n",
    "print(f'{a=}, {b=}, {a+b=}')"
   ]
  },
  {
   "cell_type": "markdown",
   "id": "41fbfe4d-5193-4110-a04a-02178f525dfa",
   "metadata": {
    "editable": true,
    "slideshow": {
     "slide_type": ""
    },
    "tags": []
   },
   "source": [
    "また、`{}` の中に コロン（`:`）を使うことで、整形オプションを指定することができます。例えば、数値の先頭を 0 で埋めて、全体を 10 桁に整える場合は、次のようにします。"
   ]
  },
  {
   "cell_type": "code",
   "execution_count": null,
   "id": "086673ad-9c8f-4a88-862d-ee08298c9be5",
   "metadata": {
    "editable": true,
    "slideshow": {
     "slide_type": ""
    },
    "tags": []
   },
   "outputs": [],
   "source": [
    "x = 10\n",
    "print(f'{x:010}')"
   ]
  },
  {
   "cell_type": "markdown",
   "id": "0740743e-a448-46c1-9c2f-86e52d95a283",
   "metadata": {
    "editable": true,
    "slideshow": {
     "slide_type": ""
    },
    "tags": []
   },
   "source": [
    "桁の大きな数値を見やすくするために、カンマ区切りで整形するには `:,` を指定します。"
   ]
  },
  {
   "cell_type": "code",
   "execution_count": null,
   "id": "aa5ae227-beb4-4ccc-8e90-c72745c7cc2a",
   "metadata": {
    "editable": true,
    "slideshow": {
     "slide_type": ""
    },
    "tags": []
   },
   "outputs": [],
   "source": [
    "x = 1234567890.123\n",
    "print(f'{x:,}')"
   ]
  },
  {
   "cell_type": "markdown",
   "id": "e3bac2b8-5a0f-406c-91f4-50c306a0633c",
   "metadata": {
    "editable": true,
    "slideshow": {
     "slide_type": ""
    },
    "tags": []
   },
   "source": [
    "また、小数点以下の桁数を固定したい場合は `f` を利用します。次は、小数点以下を 3 桁に固定して文字列に埋め込む例です。"
   ]
  },
  {
   "cell_type": "code",
   "execution_count": null,
   "id": "51e184f5-86b1-4567-9003-bffc73a3373e",
   "metadata": {
    "editable": true,
    "slideshow": {
     "slide_type": ""
    },
    "tags": []
   },
   "outputs": [],
   "source": [
    "x = 12.3456\n",
    "print(f'{x:.3f}')"
   ]
  },
  {
   "cell_type": "markdown",
   "id": "7b91ee7c-e0f8-48e5-a401-8302f191409b",
   "metadata": {
    "editable": true,
    "slideshow": {
     "slide_type": ""
    },
    "tags": []
   },
   "source": [
    "有効数字の桁数を指定する場合は `g` を利用します。例えば、有効数字を 3 桁にしたい場合は次のようにします。"
   ]
  },
  {
   "cell_type": "code",
   "execution_count": null,
   "id": "52d86dd0-10c3-4a4e-884e-beed4fe9f9ea",
   "metadata": {
    "editable": true,
    "slideshow": {
     "slide_type": ""
    },
    "tags": []
   },
   "outputs": [],
   "source": [
    "x = 12345.3456\n",
    "print(f'{x:.3g}')"
   ]
  },
  {
   "cell_type": "code",
   "execution_count": null,
   "id": "1c4903db-7876-4a3a-936d-b1c92e2d4214",
   "metadata": {
    "editable": true,
    "slideshow": {
     "slide_type": ""
    },
    "tags": []
   },
   "outputs": [],
   "source": [
    "x = 12.3456\n",
    "print(f'{x:.3g}')"
   ]
  },
  {
   "cell_type": "markdown",
   "id": "6ccd136d-5619-4435-88aa-1f29cfc38fa1",
   "metadata": {
    "editable": true,
    "slideshow": {
     "slide_type": ""
    },
    "tags": []
   },
   "source": [
    "数値を指数表記で表示するには、`e` を使います。例えば、小数点以下 3 桁まで表示する場合は次のように書きます。"
   ]
  },
  {
   "cell_type": "code",
   "execution_count": null,
   "id": "a24d7810-36f3-452f-97c8-d041caea7a23",
   "metadata": {
    "editable": true,
    "slideshow": {
     "slide_type": ""
    },
    "tags": []
   },
   "outputs": [],
   "source": [
    "x = 12.3456\n",
    "print(f'{x:.3e}')"
   ]
  },
  {
   "cell_type": "code",
   "execution_count": null,
   "id": "edcab03c-f113-43dc-b923-d30405fc4e3c",
   "metadata": {
    "editable": true,
    "slideshow": {
     "slide_type": ""
    },
    "tags": []
   },
   "outputs": [],
   "source": [
    "print(f'{x:.3E}')"
   ]
  },
  {
   "cell_type": "markdown",
   "id": "4a307fa5-cec9-4fc6-9a4b-e96753f4eb10",
   "metadata": {
    "editable": true,
    "slideshow": {
     "slide_type": ""
    },
    "tags": []
   },
   "source": [
    "パーセント表示をする場合、数値をあらかじめ 100 倍する必要はありません。フォーマット指定に `%` を使うと、自動で 100 倍されてパーセント記号が付加されます。"
   ]
  },
  {
   "cell_type": "code",
   "execution_count": null,
   "id": "78e6740e-13e6-4a6b-8499-8acad627ce4b",
   "metadata": {
    "editable": true,
    "slideshow": {
     "slide_type": ""
    },
    "tags": []
   },
   "outputs": [],
   "source": [
    "x = 0.123456\n",
    "print(f'percent: {x:.2%}')"
   ]
  },
  {
   "cell_type": "markdown",
   "id": "cb63de62-b146-4bae-ad08-4cb79113c99a",
   "metadata": {
    "editable": true,
    "slideshow": {
     "slide_type": ""
    },
    "tags": []
   },
   "source": [
    "文字列の 位置寄せ（左寄せ・中央寄せ・右寄せ）もフォーマット指定で行えます。ゼロ埋めと同じく、フォーマット部分に幅を指定し、`<`（左寄せ）、`^`（中央寄せ）、`>`（右寄せ）を使います。空白で埋めるのが基本ですが、必要に応じて他の文字で埋めることも可能です。"
   ]
  },
  {
   "cell_type": "code",
   "execution_count": null,
   "id": "e5e9356d-0b26-4e57-b2db-c77c02c0865c",
   "metadata": {
    "editable": true,
    "slideshow": {
     "slide_type": ""
    },
    "tags": []
   },
   "outputs": [],
   "source": [
    "s = 'abc'\n",
    "print(f'{s: >9}')"
   ]
  },
  {
   "cell_type": "code",
   "execution_count": null,
   "id": "1a438406-e0f3-4413-a7d2-e0b788de8ced",
   "metadata": {
    "editable": true,
    "slideshow": {
     "slide_type": ""
    },
    "tags": []
   },
   "outputs": [],
   "source": [
    "print(f'{s:.^9}')"
   ]
  },
  {
   "cell_type": "code",
   "execution_count": null,
   "id": "b5f29fe0-7359-4b2a-b1d2-ed7941bb12c3",
   "metadata": {
    "editable": true,
    "slideshow": {
     "slide_type": ""
    },
    "tags": []
   },
   "outputs": [],
   "source": [
    "print(f'{s: <9}')"
   ]
  },
  {
   "cell_type": "markdown",
   "id": "0a99c29a",
   "metadata": {},
   "source": [
    "このように、f-strings は変数の確認から数値の整形まで、幅広い用途に対応できる便利な機能です。フォーマット指定は場面に応じて使い分けることで、出力の見やすさや精度を簡単にコントロールできます。"
   ]
  }
 ],
 "metadata": {
  "kernelspec": {
   "display_name": "ebook",
   "language": "python",
   "name": "python3"
  },
  "language_info": {
   "codemirror_mode": {
    "name": "ipython",
    "version": 3
   },
   "file_extension": ".py",
   "mimetype": "text/x-python",
   "name": "python",
   "nbconvert_exporter": "python",
   "pygments_lexer": "ipython3",
   "version": "3.11.4"
  }
 },
 "nbformat": 4,
 "nbformat_minor": 5
}
